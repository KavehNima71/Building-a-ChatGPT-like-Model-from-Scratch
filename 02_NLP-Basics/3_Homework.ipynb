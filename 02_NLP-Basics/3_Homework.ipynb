{
  "cells": [
    {
      "cell_type": "markdown",
      "metadata": {
        "id": "view-in-github"
      },
      "source": [
        "<a href=\"https://colab.research.google.com/github/SaraPouyan/Building-a-ChatGPT-like-Model-from-Scratch/blob/main/3_Homework.ipynb\" target=\"_parent\"><img src=\"https://colab.research.google.com/assets/colab-badge.svg\" alt=\"Open In Colab\"/></a>"
      ]
    },
    {
      "cell_type": "markdown",
      "metadata": {
        "id": "-uXkcYhkIxS-"
      },
      "source": [
        "#  <font color='#FFE15D'><b>💎 Tokenization</b></font>"
      ]
    },
    {
      "cell_type": "markdown",
      "metadata": {
        "id": "VrFCH9hpEyip"
      },
      "source": [
        "# 🔴 **Environment Setup**"
      ]
    },
    {
      "cell_type": "markdown",
      "metadata": {
        "id": "iyvgTrq2z2IT"
      },
      "source": [
        "## 🟠 `pip`"
      ]
    },
    {
      "cell_type": "code",
      "execution_count": 2,
      "metadata": {
        "colab": {
          "base_uri": "https://localhost:8080/"
        },
        "collapsed": true,
        "id": "GWSiXz866Pze",
        "outputId": "ad467546-38a5-4826-b63b-6d3545d59b08"
      },
      "outputs": [
        {
          "output_type": "stream",
          "name": "stdout",
          "text": [
            "Mounted at /content/drive\n"
          ]
        }
      ],
      "source": [
        "from google.colab import drive\n",
        "drive.mount('/content/drive')"
      ]
    },
    {
      "cell_type": "code",
      "execution_count": 5,
      "metadata": {
        "colab": {
          "base_uri": "https://localhost:8080/"
        },
        "collapsed": true,
        "id": "DD2m5APXz50-",
        "outputId": "d5b5cfb7-a6ee-4828-a0ba-b6b9788a1959"
      },
      "outputs": [
        {
          "output_type": "stream",
          "name": "stdout",
          "text": [
            "\u001b[?25l   \u001b[90m━━━━━━━━━━━━━━━━━━━━━━━━━━━━━━━━━━━━━━━━\u001b[0m \u001b[32m0.0/491.5 kB\u001b[0m \u001b[31m?\u001b[0m eta \u001b[36m-:--:--\u001b[0m\r\u001b[2K   \u001b[90m━━━━━━━━━━━━━━━━━━━━━━━━━━━━━━━━━━━━━━━━\u001b[0m \u001b[32m491.5/491.5 kB\u001b[0m \u001b[31m14.9 MB/s\u001b[0m eta \u001b[36m0:00:00\u001b[0m\n",
            "\u001b[?25h\u001b[?25l   \u001b[90m━━━━━━━━━━━━━━━━━━━━━━━━━━━━━━━━━━━━━━━━\u001b[0m \u001b[32m0.0/193.6 kB\u001b[0m \u001b[31m?\u001b[0m eta \u001b[36m-:--:--\u001b[0m\r\u001b[2K   \u001b[90m━━━━━━━━━━━━━━━━━━━━━━━━━━━━━━━━━━━━━━━━\u001b[0m \u001b[32m193.6/193.6 kB\u001b[0m \u001b[31m17.1 MB/s\u001b[0m eta \u001b[36m0:00:00\u001b[0m\n",
            "\u001b[?25h\u001b[31mERROR: pip's dependency resolver does not currently take into account all the packages that are installed. This behaviour is the source of the following dependency conflicts.\n",
            "gcsfs 2025.3.2 requires fsspec==2025.3.2, but you have fsspec 2025.3.0 which is incompatible.\n",
            "torch 2.6.0+cu124 requires nvidia-cublas-cu12==12.4.5.8; platform_system == \"Linux\" and platform_machine == \"x86_64\", but you have nvidia-cublas-cu12 12.5.3.2 which is incompatible.\n",
            "torch 2.6.0+cu124 requires nvidia-cuda-cupti-cu12==12.4.127; platform_system == \"Linux\" and platform_machine == \"x86_64\", but you have nvidia-cuda-cupti-cu12 12.5.82 which is incompatible.\n",
            "torch 2.6.0+cu124 requires nvidia-cuda-nvrtc-cu12==12.4.127; platform_system == \"Linux\" and platform_machine == \"x86_64\", but you have nvidia-cuda-nvrtc-cu12 12.5.82 which is incompatible.\n",
            "torch 2.6.0+cu124 requires nvidia-cuda-runtime-cu12==12.4.127; platform_system == \"Linux\" and platform_machine == \"x86_64\", but you have nvidia-cuda-runtime-cu12 12.5.82 which is incompatible.\n",
            "torch 2.6.0+cu124 requires nvidia-cudnn-cu12==9.1.0.70; platform_system == \"Linux\" and platform_machine == \"x86_64\", but you have nvidia-cudnn-cu12 9.3.0.75 which is incompatible.\n",
            "torch 2.6.0+cu124 requires nvidia-cufft-cu12==11.2.1.3; platform_system == \"Linux\" and platform_machine == \"x86_64\", but you have nvidia-cufft-cu12 11.2.3.61 which is incompatible.\n",
            "torch 2.6.0+cu124 requires nvidia-curand-cu12==10.3.5.147; platform_system == \"Linux\" and platform_machine == \"x86_64\", but you have nvidia-curand-cu12 10.3.6.82 which is incompatible.\n",
            "torch 2.6.0+cu124 requires nvidia-cusolver-cu12==11.6.1.9; platform_system == \"Linux\" and platform_machine == \"x86_64\", but you have nvidia-cusolver-cu12 11.6.3.83 which is incompatible.\n",
            "torch 2.6.0+cu124 requires nvidia-cusparse-cu12==12.3.1.170; platform_system == \"Linux\" and platform_machine == \"x86_64\", but you have nvidia-cusparse-cu12 12.5.1.3 which is incompatible.\n",
            "torch 2.6.0+cu124 requires nvidia-nvjitlink-cu12==12.4.127; platform_system == \"Linux\" and platform_machine == \"x86_64\", but you have nvidia-nvjitlink-cu12 12.5.82 which is incompatible.\u001b[0m\u001b[31m\n",
            "\u001b[0m"
          ]
        }
      ],
      "source": [
        "!pip install -U -q datasets"
      ]
    },
    {
      "cell_type": "code",
      "execution_count": 6,
      "metadata": {
        "colab": {
          "base_uri": "https://localhost:8080/"
        },
        "collapsed": true,
        "id": "2sYnql2d3jcx",
        "outputId": "7623c506-c1f0-4acf-d128-e3b3130ee2df"
      },
      "outputs": [
        {
          "output_type": "stream",
          "name": "stdout",
          "text": [
            "\u001b[2K   \u001b[90m━━━━━━━━━━━━━━━━━━━━━━━━━━━━━━━━━━━━━━━━\u001b[0m \u001b[32m961.5/961.5 kB\u001b[0m \u001b[31m25.3 MB/s\u001b[0m eta \u001b[36m0:00:00\u001b[0m\n",
            "\u001b[2K   \u001b[90m━━━━━━━━━━━━━━━━━━━━━━━━━━━━━━━━━━━━━━━━\u001b[0m \u001b[32m363.4/363.4 MB\u001b[0m \u001b[31m4.2 MB/s\u001b[0m eta \u001b[36m0:00:00\u001b[0m\n",
            "\u001b[2K   \u001b[90m━━━━━━━━━━━━━━━━━━━━━━━━━━━━━━━━━━━━━━━━\u001b[0m \u001b[32m13.8/13.8 MB\u001b[0m \u001b[31m122.0 MB/s\u001b[0m eta \u001b[36m0:00:00\u001b[0m\n",
            "\u001b[2K   \u001b[90m━━━━━━━━━━━━━━━━━━━━━━━━━━━━━━━━━━━━━━━━\u001b[0m \u001b[32m24.6/24.6 MB\u001b[0m \u001b[31m90.8 MB/s\u001b[0m eta \u001b[36m0:00:00\u001b[0m\n",
            "\u001b[2K   \u001b[90m━━━━━━━━━━━━━━━━━━━━━━━━━━━━━━━━━━━━━━━━\u001b[0m \u001b[32m883.7/883.7 kB\u001b[0m \u001b[31m57.9 MB/s\u001b[0m eta \u001b[36m0:00:00\u001b[0m\n",
            "\u001b[2K   \u001b[90m━━━━━━━━━━━━━━━━━━━━━━━━━━━━━━━━━━━━━━━━\u001b[0m \u001b[32m664.8/664.8 MB\u001b[0m \u001b[31m1.3 MB/s\u001b[0m eta \u001b[36m0:00:00\u001b[0m\n",
            "\u001b[2K   \u001b[90m━━━━━━━━━━━━━━━━━━━━━━━━━━━━━━━━━━━━━━━━\u001b[0m \u001b[32m211.5/211.5 MB\u001b[0m \u001b[31m5.1 MB/s\u001b[0m eta \u001b[36m0:00:00\u001b[0m\n",
            "\u001b[2K   \u001b[90m━━━━━━━━━━━━━━━━━━━━━━━━━━━━━━━━━━━━━━━━\u001b[0m \u001b[32m56.3/56.3 MB\u001b[0m \u001b[31m13.7 MB/s\u001b[0m eta \u001b[36m0:00:00\u001b[0m\n",
            "\u001b[2K   \u001b[90m━━━━━━━━━━━━━━━━━━━━━━━━━━━━━━━━━━━━━━━━\u001b[0m \u001b[32m127.9/127.9 MB\u001b[0m \u001b[31m7.4 MB/s\u001b[0m eta \u001b[36m0:00:00\u001b[0m\n",
            "\u001b[2K   \u001b[90m━━━━━━━━━━━━━━━━━━━━━━━━━━━━━━━━━━━━━━━━\u001b[0m \u001b[32m207.5/207.5 MB\u001b[0m \u001b[31m5.4 MB/s\u001b[0m eta \u001b[36m0:00:00\u001b[0m\n",
            "\u001b[2K   \u001b[90m━━━━━━━━━━━━━━━━━━━━━━━━━━━━━━━━━━━━━━━━\u001b[0m \u001b[32m21.1/21.1 MB\u001b[0m \u001b[31m102.8 MB/s\u001b[0m eta \u001b[36m0:00:00\u001b[0m\n",
            "\u001b[?25h"
          ]
        }
      ],
      "source": [
        "!pip install -q datasets torchmetrics"
      ]
    },
    {
      "cell_type": "code",
      "execution_count": 7,
      "metadata": {
        "colab": {
          "base_uri": "https://localhost:8080/"
        },
        "collapsed": true,
        "id": "ygajCJuCbR_w",
        "outputId": "0e30ed98-0d70-4d21-d3bd-bfa6c2329946"
      },
      "outputs": [
        {
          "output_type": "stream",
          "name": "stdout",
          "text": [
            "  Preparing metadata (setup.py) ... \u001b[?25l\u001b[?25hdone\n",
            "\u001b[2K     \u001b[90m━━━━━━━━━━━━━━━━━━━━━━━━━━━━━━━━━━━━━━━━\u001b[0m \u001b[32m60.6/60.6 kB\u001b[0m \u001b[31m3.8 MB/s\u001b[0m eta \u001b[36m0:00:00\u001b[0m\n",
            "\u001b[2K   \u001b[90m━━━━━━━━━━━━━━━━━━━━━━━━━━━━━━━━━━━━━━━━\u001b[0m \u001b[32m892.6/892.6 kB\u001b[0m \u001b[31m27.2 MB/s\u001b[0m eta \u001b[36m0:00:00\u001b[0m\n",
            "\u001b[2K   \u001b[90m━━━━━━━━━━━━━━━━━━━━━━━━━━━━━━━━━━━━━━━━\u001b[0m \u001b[32m17.3/17.3 MB\u001b[0m \u001b[31m107.8 MB/s\u001b[0m eta \u001b[36m0:00:00\u001b[0m\n",
            "\u001b[2K   \u001b[90m━━━━━━━━━━━━━━━━━━━━━━━━━━━━━━━━━━━━━━━━\u001b[0m \u001b[32m4.4/4.4 MB\u001b[0m \u001b[31m122.9 MB/s\u001b[0m eta \u001b[36m0:00:00\u001b[0m\n",
            "\u001b[2K   \u001b[90m━━━━━━━━━━━━━━━━━━━━━━━━━━━━━━━━━━━━━━━━\u001b[0m \u001b[32m26.7/26.7 MB\u001b[0m \u001b[31m87.0 MB/s\u001b[0m eta \u001b[36m0:00:00\u001b[0m\n",
            "\u001b[2K   \u001b[90m━━━━━━━━━━━━━━━━━━━━━━━━━━━━━━━━━━━━━━━━\u001b[0m \u001b[32m1.3/1.3 MB\u001b[0m \u001b[31m75.5 MB/s\u001b[0m eta \u001b[36m0:00:00\u001b[0m\n",
            "\u001b[2K   \u001b[90m━━━━━━━━━━━━━━━━━━━━━━━━━━━━━━━━━━━━━━━━\u001b[0m \u001b[32m243.3/243.3 kB\u001b[0m \u001b[31m25.0 MB/s\u001b[0m eta \u001b[36m0:00:00\u001b[0m\n",
            "\u001b[2K   \u001b[90m━━━━━━━━━━━━━━━━━━━━━━━━━━━━━━━━━━━━━━━━\u001b[0m \u001b[32m38.6/38.6 MB\u001b[0m \u001b[31m15.5 MB/s\u001b[0m eta \u001b[36m0:00:00\u001b[0m\n",
            "\u001b[?25h  Building wheel for flashtext (setup.py) ... \u001b[?25l\u001b[?25hdone\n",
            "\u001b[31mERROR: pip's dependency resolver does not currently take into account all the packages that are installed. This behaviour is the source of the following dependency conflicts.\n",
            "jax 0.5.2 requires numpy>=1.25, but you have numpy 1.24.3 which is incompatible.\n",
            "tsfresh 0.21.0 requires scipy>=1.14.0; python_version >= \"3.10\", but you have scipy 1.13.1 which is incompatible.\n",
            "thinc 8.3.6 requires numpy<3.0.0,>=2.0.0, but you have numpy 1.24.3 which is incompatible.\n",
            "treescope 0.1.9 requires numpy>=1.25.2, but you have numpy 1.24.3 which is incompatible.\n",
            "pymc 5.22.0 requires numpy>=1.25.0, but you have numpy 1.24.3 which is incompatible.\n",
            "albumentations 2.0.6 requires numpy>=1.24.4, but you have numpy 1.24.3 which is incompatible.\n",
            "blosc2 3.3.2 requires numpy>=1.26, but you have numpy 1.24.3 which is incompatible.\n",
            "albucore 0.0.24 requires numpy>=1.24.4, but you have numpy 1.24.3 which is incompatible.\n",
            "jaxlib 0.5.1 requires numpy>=1.25, but you have numpy 1.24.3 which is incompatible.\n",
            "tensorflow 2.18.0 requires numpy<2.1.0,>=1.26.0, but you have numpy 1.24.3 which is incompatible.\u001b[0m\u001b[31m\n",
            "\u001b[0m"
          ]
        }
      ],
      "source": [
        "!pip install -q hazm"
      ]
    },
    {
      "cell_type": "code",
      "execution_count": 8,
      "metadata": {
        "colab": {
          "base_uri": "https://localhost:8080/"
        },
        "collapsed": true,
        "id": "COjs5-5RwljY",
        "outputId": "446156cd-619c-4d1b-9824-930053e87232"
      },
      "outputs": [
        {
          "output_type": "stream",
          "name": "stdout",
          "text": [
            "\u001b[?25l   \u001b[90m━━━━━━━━━━━━━━━━━━━━━━━━━━━━━━━━━━━━━━━━\u001b[0m \u001b[32m0.0/292.9 kB\u001b[0m \u001b[31m?\u001b[0m eta \u001b[36m-:--:--\u001b[0m\r\u001b[2K   \u001b[90m━━━━━━━━━━━━━━━━━━━━━━━━━━━━━━━━━━━━━━━━\u001b[0m \u001b[32m292.9/292.9 kB\u001b[0m \u001b[31m12.8 MB/s\u001b[0m eta \u001b[36m0:00:00\u001b[0m\n",
            "\u001b[?25h"
          ]
        }
      ],
      "source": [
        "!pip install -q arabic_reshaper python-bidi"
      ]
    },
    {
      "cell_type": "markdown",
      "metadata": {
        "id": "NnMPfGih7Sli"
      },
      "source": [
        "# 🔴 **Import**"
      ]
    },
    {
      "cell_type": "code",
      "execution_count": 1,
      "metadata": {
        "id": "0kJBfn1C76Mj"
      },
      "outputs": [],
      "source": [
        "from pprint import pprint\n",
        "import random\n",
        "from tqdm import tqdm\n",
        "import numpy as np\n",
        "\n",
        "import datasets\n",
        "from datasets import load_dataset\n",
        "from tokenizers import Tokenizer, models, pre_tokenizers, trainers, decoders\n",
        "\n",
        "import torch\n",
        "from torch.utils.data import Dataset, TensorDataset, random_split, DataLoader\n",
        "import torch.nn as nn\n",
        "from torch.nn import functional as F\n",
        "from torch import optim\n",
        "\n",
        "from torchmetrics.aggregation import MeanMetric\n",
        "\n",
        "from hazm import Normalizer, WordTokenizer\n",
        "from collections import Counter\n",
        "import itertools\n",
        "\n",
        "from sklearn.manifold import TSNE\n",
        "import matplotlib.pyplot as plt\n",
        "import arabic_reshaper\n",
        "from bidi.algorithm import get_display"
      ]
    },
    {
      "cell_type": "code",
      "execution_count": 3,
      "metadata": {
        "colab": {
          "base_uri": "https://localhost:8080/"
        },
        "id": "BSWLGWbIx-S5",
        "outputId": "d8f2eff1-4cfa-4cd8-8d07-b2d23689010d"
      },
      "outputs": [
        {
          "output_type": "stream",
          "name": "stdout",
          "text": [
            "Python 3.11.12\n"
          ]
        }
      ],
      "source": [
        "!python --version"
      ]
    },
    {
      "cell_type": "code",
      "execution_count": 4,
      "metadata": {
        "colab": {
          "base_uri": "https://localhost:8080/",
          "height": 35
        },
        "id": "w5tfjF8R2pwg",
        "outputId": "847c3cc1-3955-4c7b-909b-9ffe66b90c56"
      },
      "outputs": [
        {
          "output_type": "execute_result",
          "data": {
            "text/plain": [
              "'3.6.0'"
            ],
            "application/vnd.google.colaboratory.intrinsic+json": {
              "type": "string"
            }
          },
          "metadata": {},
          "execution_count": 4
        }
      ],
      "source": [
        "datasets.__version__"
      ]
    },
    {
      "cell_type": "markdown",
      "metadata": {
        "id": "fe6SmchGwgwM"
      },
      "source": [
        "# 🔴 **Excercise**"
      ]
    },
    {
      "cell_type": "markdown",
      "metadata": {
        "id": "d5vNGOWRwuiN"
      },
      "source": [
        "## 🟣 **Train a Tokenizer for a Persian Dataset**"
      ]
    },
    {
      "cell_type": "markdown",
      "metadata": {
        "id": "mYs4T4R6w7jI"
      },
      "source": [
        "Train a Byte Pair Encoding (BPE) tokenizer on a Persian dataset from Hugging Face, and analyze the trained tokenizer"
      ]
    },
    {
      "cell_type": "markdown",
      "metadata": {
        "id": "X66crpNqzUEu"
      },
      "source": [
        "### 🟡 **Hugging Face's Persian-language dataset**\n",
        "- **`farsi_news`** [🔗](https://huggingface.co/datasets/community-datasets/farsi_news)\n",
        "\n",
        "\n",
        "\n",
        "\n"
      ]
    },
    {
      "cell_type": "code",
      "execution_count": null,
      "metadata": {
        "colab": {
          "base_uri": "https://localhost:8080/"
        },
        "id": "oe_FSnF-1d1C",
        "outputId": "78d3067f-945f-4429-85d5-a4a0a03cf255"
      },
      "outputs": [
        {
          "data": {
            "text/plain": [
              "DatasetDict({\n",
              "    hamshahri: Dataset({\n",
              "        features: ['title', 'summary', 'link', 'tags'],\n",
              "        num_rows: 2203\n",
              "    })\n",
              "    radiofarda: Dataset({\n",
              "        features: ['title', 'summary', 'link', 'tags'],\n",
              "        num_rows: 284\n",
              "    })\n",
              "})"
            ]
          },
          "execution_count": 256,
          "metadata": {},
          "output_type": "execute_result"
        }
      ],
      "source": [
        "# farsi_news dataset\n",
        "dataset = load_dataset(\"community-datasets/farsi_news\")\n",
        "dataset"
      ]
    },
    {
      "cell_type": "code",
      "execution_count": null,
      "metadata": {
        "colab": {
          "base_uri": "https://localhost:8080/"
        },
        "id": "07pbn8SR9jme",
        "outputId": "641e485b-a87b-414a-dc9c-6e06b1f17080"
      },
      "outputs": [
        {
          "name": "stdout",
          "output_type": "stream",
          "text": [
            "Title:\n",
            "'کیفیت هوای تهران سالم است'\n",
            "Summary:\n",
            "('کیفیت هوای پایتخت امروز چهارشنبه ۲۷ فروردین ماه با افزایش غلظت آلایندگی ذرات '\n",
            " 'معلق کمتر از ۲.۵ میکرون با شاخص لحظه\\u200cای ۸۰ در شرایط قابل قبول یا همان '\n",
            " 'سالم است.')\n"
          ]
        }
      ],
      "source": [
        "def get_sample(dataset):\n",
        "    idx = random.randint(0, len(dataset['hamshahri']))\n",
        "    title = dataset['hamshahri'][idx]['title']\n",
        "    summary = dataset['hamshahri'][idx]['summary']\n",
        "    return (title, summary)\n",
        "\n",
        "sample_title, sample_summary = get_sample(dataset)\n",
        "print(\"Title:\")\n",
        "pprint(sample_title)\n",
        "print(\"Summary:\")\n",
        "pprint(sample_summary)"
      ]
    },
    {
      "cell_type": "markdown",
      "source": [
        "- **`ByteLevel Pre-tokenizer`**\n",
        "- **`ByteLevel decoder`**"
      ],
      "metadata": {
        "id": "DUU-9VlKRPQ9"
      }
    },
    {
      "cell_type": "code",
      "execution_count": null,
      "metadata": {
        "id": "txjtMHPXAF-5"
      },
      "outputs": [],
      "source": [
        "# Initialize a BPE tokenizer\n",
        "tokenizer = Tokenizer(models.BPE(unk_token=\"[UNK]\"))\n",
        "\n",
        "# Use a ByteLevel pre-tokenizer to split text into words\n",
        "tokenizer.pre_tokenizer = pre_tokenizers.ByteLevel()\n",
        "\n",
        "# Load a dataset\n",
        "dataset = load_dataset(\"community-datasets/farsi_news\", split=\"hamshahri\")\n",
        "texts = [\n",
        "    f\"{item['title']} {item['summary']}\"\n",
        "    for item in dataset\n",
        "    if item['title'] and item['summary']\n",
        "]\n",
        "\n",
        "# Initialize a BPE trainer\n",
        "trainer = trainers.BpeTrainer(\n",
        "    vocab_size=8000,\n",
        "    special_tokens=[\"[UNK]\", \"[PAD]\"],\n",
        "    min_frequency=2\n",
        "    )\n",
        "\n",
        "# Train the tokenizer on a dataset\n",
        "tokenizer.train_from_iterator(texts, trainer)\n",
        "\n",
        "# Add decoder\n",
        "tokenizer.decoder = decoders.ByteLevel()\n",
        "\n",
        "# Save the trained tokenizer\n",
        "tokenizer.save(\"farsi_news_bpe_tokenizer.json\")"
      ]
    },
    {
      "cell_type": "code",
      "execution_count": null,
      "metadata": {
        "colab": {
          "base_uri": "https://localhost:8080/"
        },
        "id": "G-FAtgcMJ9IX",
        "outputId": "2e4adfb9-4a0a-4243-a4fb-0f3f852519f3"
      },
      "outputs": [
        {
          "name": "stdout",
          "output_type": "stream",
          "text": [
            "📝 Input text:\n",
            " سیستم تکامل هوشمند Smart Evolution سامسونگ ابعاد فنی مهندسی تلویزیون شما را بطور کامل عوض می‌کند بدون اینکه نیاز به تعویض کل دستگاه باشد.\n",
            "\n",
            "🔤 Tokens:\n",
            " [' سیستم', ' تک', 'امل', ' هوشمند', ' S', 'm', 'ar', 't', ' ', 'E', 'v', 'o', 'l', 'u', 't', 'i', 'on', ' سام', 'س', 'ونگ', ' ابعاد', ' فنی', ' مهندسی', ' تلویزیون', ' شما', ' را', ' ب', 'طور', ' کامل', ' عو', 'ض', ' می', '\\u200c', 'کند', ' بدون', ' اینکه', ' نیاز', ' به', ' تعویض', ' کل', ' دستگاه', ' باشد', '.']\n",
            "\n",
            "🧾 Decoded text:\n",
            "  سیستم تکامل هوشمند Smart Evolution سامسونگ ابعاد فنی مهندسی تلویزیون شما را بطور کامل عوض می‌کند بدون اینکه نیاز به تعویض کل دستگاه باشد.\n"
          ]
        }
      ],
      "source": [
        "# Tokenize a sample text\n",
        "sample_text = \"سیستم تکامل هوشمند Smart Evolution سامسونگ ابعاد فنی مهندسی تلویزیون شما را بطور کامل عوض می‌کند بدون اینکه نیاز به تعویض کل دستگاه باشد.\"\n",
        "encoding = tokenizer.encode(sample_text)\n",
        "\n",
        "readable_tokens = []\n",
        "for token in encoding.tokens:\n",
        "    if token.startswith('[') and token.endswith(']'):\n",
        "        readable_tokens.append(token)\n",
        "    else:\n",
        "        readable_tokens.append(decoders.ByteLevel().decode([token]))\n",
        "\n",
        "decoded_text = tokenizer.decode(encoding.ids)\n",
        "\n",
        "# Results\n",
        "print(\"📝 Input text:\\n\", sample_text)\n",
        "print(\"\\n🔤 Tokens:\\n\", readable_tokens)\n",
        "print(\"\\n🧾 Decoded text:\\n\", decoded_text)"
      ]
    },
    {
      "cell_type": "markdown",
      "metadata": {
        "id": "09ibMOg1PeMJ"
      },
      "source": [
        "- **`DeepSentiPers`** [🔗](https://huggingface.co/datasets/PartAI/DeepSentiPers)"
      ]
    },
    {
      "cell_type": "code",
      "execution_count": null,
      "metadata": {
        "colab": {
          "base_uri": "https://localhost:8080/"
        },
        "id": "xLVT2qHbOKVX",
        "outputId": "22b40bb8-7512-4625-bd36-dd0680ac7a60"
      },
      "outputs": [
        {
          "data": {
            "text/plain": [
              "DatasetDict({\n",
              "    train: Dataset({\n",
              "        features: ['review', 'label'],\n",
              "        num_rows: 6320\n",
              "    })\n",
              "    dev: Dataset({\n",
              "        features: ['review', 'label'],\n",
              "        num_rows: 703\n",
              "    })\n",
              "    test: Dataset({\n",
              "        features: ['review', 'label'],\n",
              "        num_rows: 1854\n",
              "    })\n",
              "})"
            ]
          },
          "execution_count": 100,
          "metadata": {},
          "output_type": "execute_result"
        }
      ],
      "source": [
        "# DeepSentiPers dataset\n",
        "dataset = load_dataset(\"PartAI/DeepSentiPers\")\n",
        "dataset"
      ]
    },
    {
      "cell_type": "code",
      "execution_count": null,
      "metadata": {
        "colab": {
          "base_uri": "https://localhost:8080/"
        },
        "id": "fxquo31dPkrm",
        "outputId": "aa0abd89-1915-4873-f850-487198b3ea5b"
      },
      "outputs": [
        {
          "name": "stdout",
          "output_type": "stream",
          "text": [
            "('این دوربین با وزن تنها 167 گرم، آن قدر کوچک سبک است که می توان آن را برای '\n",
            " 'پژوهش های علمی رفتار حیوانات بر روی بدن یک حیوان یا برای فیلم برداری هوایی '\n",
            " 'بر روی یک هلیکوپتر کنترل از راه دور یا یک بالون هم نصب کرد!')\n"
          ]
        }
      ],
      "source": [
        "def get_sample(dataset):\n",
        "    idx = random.randint(0, len(dataset['train']))\n",
        "    return dataset['train'][idx]['review']\n",
        "\n",
        "sample = get_sample(dataset)\n",
        "pprint(sample)"
      ]
    },
    {
      "cell_type": "code",
      "execution_count": null,
      "metadata": {
        "colab": {
          "base_uri": "https://localhost:8080/"
        },
        "id": "T7QQyHfDwuu2",
        "outputId": "53889e4c-35fb-49ee-e7c7-eabf09639a82"
      },
      "outputs": [
        {
          "data": {
            "text/plain": [
              "6320"
            ]
          },
          "execution_count": 101,
          "metadata": {},
          "output_type": "execute_result"
        }
      ],
      "source": [
        "dataset = load_dataset(\"PartAI/DeepSentiPers\")\n",
        "texts = [sample[\"review\"] for sample in dataset[\"train\"]]\n",
        "len(texts)"
      ]
    },
    {
      "cell_type": "markdown",
      "source": [
        "- **`Metaspace pre-tokenizer`**\n",
        "- **`Metaspace decoder`**"
      ],
      "metadata": {
        "id": "iWadpWOURoeQ"
      }
    },
    {
      "cell_type": "code",
      "execution_count": null,
      "metadata": {
        "id": "QwYC7vuzRNk9"
      },
      "outputs": [],
      "source": [
        "# Initialize a BPE tokenizer\n",
        "tokenizer = Tokenizer(models.BPE(unk_token=\"[UNK]\"))\n",
        "\n",
        "# Use a Metaspace pre-tokenizer to split text into words\n",
        "tokenizer.pre_tokenizer = pre_tokenizers.Metaspace()\n",
        "\n",
        "\n",
        "# Load a dataset\n",
        "dataset = load_dataset(\"PartAI/DeepSentiPers\")\n",
        "texts = [sample[\"review\"] for sample in dataset[\"train\"]]\n",
        "\n",
        "# Initialize a BPE trainer\n",
        "trainer = trainers.BpeTrainer(\n",
        "    vocab_size=8000,\n",
        "    special_tokens=[\"[PAD]\", \"[UNK]\", \"[CLS]\", \"[SEP]\", \"[MASK]\"]\n",
        ")\n",
        "\n",
        "# Train the tokenizer on a dataset\n",
        "tokenizer.train_from_iterator(texts, trainer)\n",
        "\n",
        "# Add decoder\n",
        "tokenizer.decoder = decoders.Metaspace()\n",
        "\n",
        "# Save the trained tokenizer\n",
        "tokenizer.save(\"persian_text_sentiment_bpe_tokenizer.json\")"
      ]
    },
    {
      "cell_type": "code",
      "execution_count": null,
      "metadata": {
        "colab": {
          "base_uri": "https://localhost:8080/"
        },
        "id": "Nwl2fWRJTOj2",
        "outputId": "1f70482c-7cbc-4e8b-a51f-d70b84f3b336"
      },
      "outputs": [
        {
          "name": "stdout",
          "output_type": "stream",
          "text": [
            "\n",
            "📝 Input text:\n",
            " سیستم تکامل هوشمند Smart Evolution سامسونگ ابعاد فنی مهندسی تلویزیون شما را بطور کامل عوض می‌کند بدون اینکه نیاز به تعویض کل دستگاه باشد.\n",
            "\n",
            "🔤 Tokens:\n",
            " ['▁سیستم', '▁تکامل', '▁هوشمند', '▁Smart', '▁Evolution', '▁سامسونگ', '▁ابعاد', '▁فنی', '▁مهندسی', '▁تلویزیون', '▁شما', '▁را', '▁بطور', '▁کامل', '▁عوض', '▁می\\u200cکند', '▁بدون', '▁اینکه', '▁نیاز', '▁به', '▁تعویض', '▁کل', '▁دستگاه', '▁باشد.']\n",
            "\n",
            "🧾 Decoded text:\n",
            " سیستم تکامل هوشمند Smart Evolution سامسونگ ابعاد فنی مهندسی تلویزیون شما را بطور کامل عوض می‌کند بدون اینکه نیاز به تعویض کل دستگاه باشد.\n",
            "------------------------------------------------------------------------------------------------------------------------------------------------------------------------------------------------------------------------------------------------\n",
            "\n",
            "📝 Input text:\n",
            " اصلاً راضی نبودم، بسته‌بندی خراب بود و کالا اشتباه ارسال شد.\n",
            "\n",
            "🔤 Tokens:\n",
            " ['▁اصلاً', '▁راضی', '▁نبود', 'م،', '▁بسته', '\\u200cبندی', '▁خراب', '▁بود', '▁و', '▁کالا', '▁اشتباه', '▁ارسال', '▁شد.']\n",
            "\n",
            "🧾 Decoded text:\n",
            " اصلاً راضی نبودم، بسته‌بندی خراب بود و کالا اشتباه ارسال شد.\n",
            "------------------------------------------------------------------------------------------------------------------------------------------------------------------------------------------------------------------------------------------------\n",
            "\n",
            "📝 Input text:\n",
            " خیلی خوبه، ولی کاش باتریش بیشتر دوام می‌آورد.\n",
            "\n",
            "🔤 Tokens:\n",
            " ['▁خیلی', '▁خوبه', '،', '▁ولی', '▁کاش', '▁باتر', 'یش', '▁بیشتر', '▁دوام', '▁می\\u200cآورد.']\n",
            "\n",
            "🧾 Decoded text:\n",
            " خیلی خوبه، ولی کاش باتریش بیشتر دوام می‌آورد.\n",
            "------------------------------------------------------------------------------------------------------------------------------------------------------------------------------------------------------------------------------------------------\n",
            "\n",
            "📝 Input text:\n",
            " گوشی a24 که از محبوب‌ترین گوشی 2023 سامسونگ می‌باشد، مجهز به صفحه نمایش 6.5 اینچی با رزولوشن 1080x2340 پیکسل است.\n",
            "\n",
            "🔤 Tokens:\n",
            " ['▁گوشی', '▁a', '24', '▁که', '▁از', '▁محبوب', '\\u200cترین', '▁گوشی', '▁20', '2', '3', '▁سامسونگ', '▁می\\u200cباشد،', '▁مجهز', '▁به', '▁صفحه', '▁نمایش', '▁6', '.5', '▁اینچی', '▁با', '▁رزولوشن', '▁1080', 'x', '2', '3', '40', '▁پیکسل', '▁است.']\n",
            "\n",
            "🧾 Decoded text:\n",
            " گوشی a24 که از محبوب‌ترین گوشی 2023 سامسونگ می‌باشد، مجهز به صفحه نمایش 6.5 اینچی با رزولوشن 1080x2340 پیکسل است.\n",
            "------------------------------------------------------------------------------------------------------------------------------------------------------------------------------------------------------------------------------------------------\n"
          ]
        }
      ],
      "source": [
        "#tokenizer = Tokenizer.from_file(\"persian_text_sentiment_bpe_tokenizer.json\")\n",
        "\n",
        "examples = [\n",
        "    \"سیستم تکامل هوشمند Smart Evolution سامسونگ ابعاد فنی مهندسی تلویزیون شما را بطور کامل عوض می‌کند بدون اینکه نیاز به تعویض کل دستگاه باشد.\",\n",
        "    \"اصلاً راضی نبودم، بسته‌بندی خراب بود و کالا اشتباه ارسال شد.\",\n",
        "    \"خیلی خوبه، ولی کاش باتریش بیشتر دوام می‌آورد.\",\n",
        "    \"گوشی a24 که از محبوب‌ترین گوشی 2023 سامسونگ می‌باشد، مجهز به صفحه نمایش 6.5 اینچی با رزولوشن 1080x2340 پیکسل است.\",\n",
        "]\n",
        "\n",
        "for text in examples:\n",
        "    output = tokenizer.encode(text)\n",
        "    print(\"\\n📝 Input text:\\n\", text)\n",
        "    print(\"\\n🔤 Tokens:\\n\", output.tokens)\n",
        "    print(\"\\n🧾 Decoded text:\\n\", tokenizer.decode(output.ids))\n",
        "    print(60*\"----\")"
      ]
    },
    {
      "cell_type": "markdown",
      "metadata": {
        "id": "FBL3lOUpk8SU"
      },
      "source": [
        "## 🟣 **Word2Vec from Scratch**  "
      ]
    },
    {
      "cell_type": "markdown",
      "metadata": {
        "id": "08iHgLdklwpg"
      },
      "source": [
        "### 🟡 Step 1: Load and Preprocess the Dataset\n",
        "- **` Persian News Summary (pn_summary) Dataset`** [🔗](https://huggingface.co/datasets/HooshvareLab/pn_summary)"
      ]
    },
    {
      "cell_type": "code",
      "execution_count": 3,
      "metadata": {
        "colab": {
          "base_uri": "https://localhost:8080/"
        },
        "collapsed": true,
        "id": "61OGBei1smqM",
        "outputId": "c12d2f20-15f3-40e5-981e-7b529f8c1593"
      },
      "outputs": [
        {
          "output_type": "execute_result",
          "data": {
            "text/plain": [
              "DatasetDict({\n",
              "    train: Dataset({\n",
              "        features: ['id', 'title', 'article', 'summary', 'category', 'categories', 'network', 'link'],\n",
              "        num_rows: 82022\n",
              "    })\n",
              "    validation: Dataset({\n",
              "        features: ['id', 'title', 'article', 'summary', 'category', 'categories', 'network', 'link'],\n",
              "        num_rows: 5592\n",
              "    })\n",
              "    test: Dataset({\n",
              "        features: ['id', 'title', 'article', 'summary', 'category', 'categories', 'network', 'link'],\n",
              "        num_rows: 5593\n",
              "    })\n",
              "})"
            ]
          },
          "metadata": {},
          "execution_count": 3
        }
      ],
      "source": [
        "dataset = load_dataset(\"HooshvareLab/pn_summary\")\n",
        "dataset"
      ]
    },
    {
      "cell_type": "code",
      "execution_count": 13,
      "metadata": {
        "colab": {
          "base_uri": "https://localhost:8080/"
        },
        "id": "7whlQR453L6D",
        "outputId": "9d09498a-6223-4978-d21f-7657ae33f039"
      },
      "outputs": [
        {
          "output_type": "execute_result",
          "data": {
            "text/plain": [
              "{'id': '738e296491f8b24c5aa63e9829fd249fb4428a66',\n",
              " 'title': 'مدیریت فروش نفت در دوران تحریم هوشمندانه عمل کرد',\n",
              " 'article': 'به گزارش شانا، علی کاردر امروز (۲۷ دی ماه) در مراسم تودیع محسن قمصری، مدیر سابق امور بین الملل شرکت ملی نفت ایران و معارفه سعید خوشرو، مدیر جدید امور بین الملل این شرکت، گفت: مدیریت امور بین\\u200eالملل به عنوان یکی از تاثیرگذارترین مدیریت\\u200cهای شرکت ملی نفت ایران در دوران تحریم\\u200cهای ظالمانه غرب علیه کشورمان بسیار هوشمندانه عمل کرد و ما توانستیم به خوبی از عهده تحریم\\u200cها برآییم. [n] وی افزود: مجموعه امور بین الملل در همه دوران\\u200cها با سختی\\u200cها و مشکلات بسیاری مواجه بوده است، به ویژه در دوره اخیر به دلیل مسائل پیرامون تحریم وظیفه سنگینی بر عهده داشت که با تدبیر مدیریت خوب این مجموعه سربلند از آن بیرون آمد. [n] کاردر با قدردانی از زحمات محسن قمصری، به سلامت مدیریت امور بین الملل این شرکت اشاره کرد و افزود: محوریت کار مدیریت اموربین الملل سلامت مالی بوده است. [n] وی بر ضرورت نهادینه سازی جوانگرایی در مدیریت شرکت ملی نفت ایران تاکید کرد و گفت: مدیریت امور بین الملل در پرورش نیروهای زبده و کارآزموده آنچنان قوی عملکرده است که برای انتخاب مدیر جدید مشکلی وجود نداشت. [n] کاردر، حرفه\\u200eای\\u200eگری و کار استاندارد را از ویژگی\\u200cهای مدیران این مدیریت برشمرد و گفت: نگاه جامع، خلاقیت و نوآوری و بکارگیری نیروهای جوان باید همچنان مد نظر مدیریت جدید امور بین الملل شرکت ملی نفت ایران باشد.',\n",
              " 'summary': 'مدیرعامل شرکت ملی نفت، عملکرد مدیریت امور بین\\u200eالملل این شرکت را در دوران تحریم بسیار هوشمندانه خواند و گفت: امور بین الملل در دوران پس از تحریم\\u200eها نیز می\\u200cتواند نقش بزرگی در تسریع روند توسعه داشته باشد.',\n",
              " 'category': 5,\n",
              " 'categories': 'نفت',\n",
              " 'network': 2,\n",
              " 'link': 'https://www.shana.ir/news/275284/%D9%85%D8%AF%DB%8C%D8%B1%DB%8C%D8%AA-%D9%81%D8%B1%D9%88%D8%B4-%D9%86%D9%81%D8%AA-%D8%AF%D8%B1-%D8%AF%D9%88%D8%B1%D8%A7%D9%86-%D8%AA%D8%AD%D8%B1%DB%8C%D9%85-%D9%87%D9%88%D8%B4%D9%85%D9%86%D8%AF%D8%A7%D9%86%D9%87-%D8%B9%D9%85%D9%84-%DA%A9%D8%B1%D8%AF'}"
            ]
          },
          "metadata": {},
          "execution_count": 13
        }
      ],
      "source": [
        "dataset['train'][0]"
      ]
    },
    {
      "cell_type": "code",
      "execution_count": null,
      "metadata": {
        "colab": {
          "base_uri": "https://localhost:8080/"
        },
        "id": "5YNTKqq5s7sR",
        "outputId": "f8e2e47d-b4d7-4884-855a-ae707fed962c"
      },
      "outputs": [
        {
          "name": "stdout",
          "output_type": "stream",
          "text": [
            "('به گزارش روز سه شنبه ایرنا به نقل از تارنمای خبری این کمیساریا، نهاد مزبور '\n",
            " 'با صدور بیانیه\\u200cای اعلام کرد که اولین گروه کودکان از حدود ۱۰ هزار کودکی '\n",
            " 'که درخواست تابعیت شان تاکنون پذیرفته شده است، ماه گذشته اسناد هویتی ایران '\n",
            " 'موسوم به شناسنامه را دریافت کردند. [n] این بیانیهادآور شد که طبق اعلام دولت '\n",
            " 'ایران، تقریبا ۷۵ هزار کودک در معرض خطر فاقد ملیت، واجد شرایط برخورداری از حق '\n",
            " 'تابعیت ایران به موجب قانون جدید ملیت هستند؛ قانونی که در سال ۲۰۱۹میلادی '\n",
            " 'اصلاح شد تا به کودکان زیر ۱۸ سال امکان درخواست اسناد هویتی اعطا کند. [n] در '\n",
            " 'جریان شیوع کرونا در ایران، کمیساریای عالی پناهندگان سازمان ملل به ارائه '\n",
            " 'مشاوره\\u200cهای حقوقی رایگان و از راه دور و کمک به والدین کودکانی که از '\n",
            " 'مادران ایرانی و پدران خارجی متولد شده\\u200cاند، ادامه داد تا به آنها در '\n",
            " 'زمینه فرآیند درخواست حق شهروندی یاری رساند. [n] این بیانیه در ادامه حاکی '\n",
            " 'است: این قانون با فراهم کردن حق اعطای ملیت مادران به فرزندانشان، گامی به سوی '\n",
            " 'کاهش شکاف جنسیتی در ایران برمی دارد، کشوری که تابعیت عمدتا از طریق پدر به '\n",
            " 'فرزند منتقل می\\u200cشود. [n] اگرچه ایران عضو کنوانسیون\\u200cهای سازمان ملل '\n",
            " 'در ارتباط با افراد فاقد ملیت نیست، دولت ایران گام هایی در جهت جلوگیری از بی '\n",
            " 'تابعیتی در کشور و کاهش آن برمی دارد. [n] اگرچه این قانون حق برابری را برای '\n",
            " 'مادران و پدران برای اعطای تابعیت به فرزندانشان قائل نیست، پیشرفت قابل توجهی '\n",
            " 'را نشان می\\u200cکند. [n] در سراسر جهان، افراد بدون تابعیت ممکن است با یک عمر '\n",
            " 'محرومیت و تبعیض روبه رو شوند و اغلب به آموزش، مراقبت\\u200cهای بهداشتی و '\n",
            " 'فرصت\\u200cهای شغلی دسترسی ندارند، ضمن اینکه نسبت به استثمار و سواستفاده آسیب '\n",
            " 'پذیر هستند. [n] به گزارش ایرنا، در راستای سیاست\\u200cهای دولت دوازدهم مبنی '\n",
            " 'بر پیگیری و دفاع از حقوق ملت و حقوق شهروندی و تلاش برای به اجرا در آوردن این '\n",
            " 'حقوق اساسی، لایحه\\u200cای به منظور دفاع از کرامت و حقوق بخشی از زنان ایرانی '\n",
            " 'و نیز کودکان به مجلس ارائه شد که سرانجام در تاریخ ۲ مهر ماه سال ۱۳۹۸ با '\n",
            " 'عنوان قانون اصلاح قانون تعیین تکلیف تابعیت فرزندان حاصل از ازدواج زنان '\n",
            " 'ایرانی با مردان خارجی به تصویب رسید. [n] هیات وزیران در جلسه چهارشنبه (۳۱ '\n",
            " 'اردیبهشت ۹۹) و در اجرای ماده واحده قانون اصلاح قانون تعیین تکلیف تابعیت '\n",
            " 'فرزندان حاصل از ازدواج زنان ایرانی با مردان خارجی، آیین نامه اجرایی نحوه '\n",
            " 'اعطای تابعیت به افراد مشمول این قانون را تصویب کرد و اسحاق جهانگیری معاون '\n",
            " 'اول رییس جمهوری دو هفته بعد (۱۳ خرداد ۹۹) آن را برای اجرا به '\n",
            " 'وزارتخانه\\u200cهای کشور، اطلاعات و امور خارجه و معاونت حقوقی '\n",
            " 'رییس\\u200cجمهوری سیزدهم خرداد امسال ابلاغ کرد. [n] براساس این '\n",
            " 'آیین\\u200cنامه، هر زن ایرانی که با مرد غیرایرانی ازدواج کرده و در نتیجه این '\n",
            " 'ازدواج، دارای فرزند زیر ۱۸ سال باشد و هر فردی که از مادر ایرانی و پدر '\n",
            " 'غیرایرانی متولد شده و بیش از ۱۸ سال تمام داشته باشد می\\u200cتواند متقاضی '\n",
            " 'اعطای تابعیت باشد.')\n"
          ]
        }
      ],
      "source": [
        "def get_sample(dataset):\n",
        "    idx = random.randint(0, len(dataset['train']))\n",
        "    return dataset['train'][idx]['article']\n",
        "\n",
        "sample = get_sample(dataset)\n",
        "pprint(sample)"
      ]
    },
    {
      "cell_type": "code",
      "execution_count": 4,
      "metadata": {
        "id": "U0cJeXAVv-yJ"
      },
      "outputs": [],
      "source": [
        "n = 30000\n",
        "subset = dataset[\"train\"].select(range(n))\n",
        "train_texts = [sample[\"article\"] for sample in subset]"
      ]
    },
    {
      "cell_type": "markdown",
      "metadata": {
        "id": "lVGBnfo_mQ6J"
      },
      "source": [
        "### 🟡 Step 2: Tokenization"
      ]
    },
    {
      "cell_type": "code",
      "execution_count": 5,
      "metadata": {
        "id": "E76zCYKTfQwk"
      },
      "outputs": [],
      "source": [
        "class SimpleTokenizer:\n",
        "    def __init__(self, texts, min_freq=5, vocab_size=10000):\n",
        "        self.normalizer = Normalizer()\n",
        "        self.tokenizer = WordTokenizer()\n",
        "        self.min_freq = min_freq\n",
        "        self.vocab_size = vocab_size\n",
        "        self.pad_token = \"<PAD>\"\n",
        "        self.unk_token = \"<UNK>\"\n",
        "        self._build_vocab(texts)\n",
        "\n",
        "    def _normalize_and_tokenize(self, text):\n",
        "        text = self.normalizer.normalize(text)\n",
        "        return self.tokenizer.tokenize(text)\n",
        "\n",
        "    def _build_vocab(self, texts):\n",
        "        all_tokens = itertools.chain.from_iterable(\n",
        "            self._normalize_and_tokenize(text) for text in texts\n",
        "        )\n",
        "\n",
        "        token_freq = Counter(all_tokens)\n",
        "\n",
        "        token_freq = {token: freq for token, freq in token_freq.items() if freq >= self.min_freq}\n",
        "\n",
        "        # Keep top-K frequent tokens\n",
        "        most_common = sorted(token_freq.items(), key=lambda x: -x[1])[:self.vocab_size - 2]\n",
        "\n",
        "        # token → id\n",
        "        self.token_to_id_map = {\n",
        "            self.pad_token: 0,\n",
        "            self.unk_token: 1\n",
        "        }\n",
        "        self.token_to_id_map.update({\n",
        "            token: idx + 2 for idx, (token, _) in enumerate(most_common)\n",
        "        })\n",
        "\n",
        "        # id → token\n",
        "        self.id_to_token_map = {idx: token for token, idx in self.token_to_id_map.items()}\n",
        "\n",
        "    def get_vocab(self):\n",
        "        return self.token_to_id_map\n",
        "\n",
        "    def get_vocab_size(self):\n",
        "        return len(self.token_to_id_map)\n",
        "\n",
        "    def token_to_id(self, token):\n",
        "        return self.token_to_id_map.get(token, self.token_to_id_map[self.unk_token])\n",
        "\n",
        "    def id_to_token(self, idx):\n",
        "        return self.id_to_token_map.get(idx, self.unk_token)\n",
        "\n",
        "    def encode(self, text):\n",
        "        tokens = self._normalize_and_tokenize(text)\n",
        "        return [self.token_to_id(token) for token in tokens]\n",
        "\n",
        "    def decode(self, ids):\n",
        "        return [self.id_to_token(idx) for idx in ids]\n"
      ]
    },
    {
      "cell_type": "code",
      "execution_count": 6,
      "metadata": {
        "id": "2zZ8qpwQELyH"
      },
      "outputs": [],
      "source": [
        "tokenizer = SimpleTokenizer(train_texts)\n",
        "tokenized_data = [tokenizer.encode(sample) for sample in train_texts]"
      ]
    },
    {
      "cell_type": "markdown",
      "metadata": {
        "id": "glZ2KibqmR3g"
      },
      "source": [
        "### 🟡 Step 3: Prepare Training Data (Skip-Gram)"
      ]
    },
    {
      "cell_type": "code",
      "execution_count": 7,
      "metadata": {
        "id": "oZJvxW8TYPf7"
      },
      "outputs": [],
      "source": [
        "def generate_skip_gram_pairs(tokenized_data, window_size=2):\n",
        "    skip_gram_pairs = []\n",
        "\n",
        "    for tokens in tokenized_data:\n",
        "        for i, target_token in enumerate(tokens):\n",
        "            start = max(0, i - window_size)\n",
        "            end = min(len(tokens), i + window_size + 1)\n",
        "            for j in range(start, end):\n",
        "                if i != j:\n",
        "                    skip_gram_pairs.append((target_token, tokens[j]))\n",
        "\n",
        "    return torch.tensor(skip_gram_pairs, dtype=torch.long)"
      ]
    },
    {
      "cell_type": "code",
      "execution_count": 8,
      "metadata": {
        "colab": {
          "base_uri": "https://localhost:8080/"
        },
        "id": "reqMoS7sYb6l",
        "outputId": "113e3281-9abb-486e-a2d3-6bf01758bce1"
      },
      "outputs": [
        {
          "output_type": "stream",
          "name": "stdout",
          "text": [
            "torch.Size([42324788, 2])\n"
          ]
        }
      ],
      "source": [
        "skip_gram_pairs = generate_skip_gram_pairs(tokenized_data, window_size=2)\n",
        "print(skip_gram_pairs.shape)"
      ]
    },
    {
      "cell_type": "code",
      "source": [
        "skip_gram_pairs[:5]"
      ],
      "metadata": {
        "colab": {
          "base_uri": "https://localhost:8080/"
        },
        "id": "3jyI2z8stdoB",
        "outputId": "e0301669-a74b-41ca-bc49-a6eb03e74efa"
      },
      "execution_count": 13,
      "outputs": [
        {
          "output_type": "execute_result",
          "data": {
            "text/plain": [
              "tensor([[  5,  30],\n",
              "        [  5, 171],\n",
              "        [ 30,   5],\n",
              "        [ 30, 171],\n",
              "        [ 30,   4]])"
            ]
          },
          "metadata": {},
          "execution_count": 13
        }
      ]
    },
    {
      "cell_type": "code",
      "execution_count": 11,
      "metadata": {
        "id": "2ZMAhms39Jfu"
      },
      "outputs": [],
      "source": [
        "sample = \"امروز هوا خیلی گرم بود\"\n",
        "token_id_sample = tokenizer.encode(sample)\n",
        "tensor_pairs = generate_skip_gram_pairs([token_id_sample], window_size=2)"
      ]
    },
    {
      "cell_type": "code",
      "execution_count": 12,
      "metadata": {
        "colab": {
          "base_uri": "https://localhost:8080/"
        },
        "id": "8m5X1x2m9nKn",
        "outputId": "434d8560-7022-45b2-c879-f0b974adebdf"
      },
      "outputs": [
        {
          "output_type": "stream",
          "name": "stdout",
          "text": [
            "امروز, هوا\n",
            "امروز, خیلی\n",
            "هوا, امروز\n",
            "هوا, خیلی\n",
            "هوا, گرم\n",
            "خیلی, امروز\n",
            "خیلی, هوا\n",
            "خیلی, گرم\n",
            "خیلی, بود\n",
            "گرم, هوا\n",
            "گرم, خیلی\n",
            "گرم, بود\n",
            "بود, خیلی\n",
            "بود, گرم\n"
          ]
        }
      ],
      "source": [
        "# print each pair using the tokenizer\n",
        "for pair in tensor_pairs:\n",
        "    token1 = tokenizer.id_to_token(pair[0].item())\n",
        "    token2 = tokenizer.id_to_token(pair[1].item())\n",
        "    print(f\"{token1}, {token2}\")"
      ]
    },
    {
      "cell_type": "code",
      "execution_count": 14,
      "metadata": {
        "colab": {
          "base_uri": "https://localhost:8080/"
        },
        "id": "4MvvdKR743Wa",
        "outputId": "9850e27b-90dd-47ee-d42e-0242f4a3a98e"
      },
      "outputs": [
        {
          "output_type": "execute_result",
          "data": {
            "text/plain": [
              "(33859831, 8464957)"
            ]
          },
          "metadata": {},
          "execution_count": 14
        }
      ],
      "source": [
        "train_set = TensorDataset(skip_gram_pairs[:, 0], skip_gram_pairs[:, 1])\n",
        "train_set, valid_set = random_split(train_set, [0.8, 0.2])\n",
        "\n",
        "len(train_set), len(valid_set)"
      ]
    },
    {
      "cell_type": "code",
      "execution_count": 15,
      "metadata": {
        "colab": {
          "base_uri": "https://localhost:8080/"
        },
        "id": "ETNRlbYb45Qn",
        "outputId": "58af0e10-8447-4d73-9181-c8180584b7f1"
      },
      "outputs": [
        {
          "output_type": "execute_result",
          "data": {
            "text/plain": [
              "(155321, 38831)"
            ]
          },
          "metadata": {},
          "execution_count": 15
        }
      ],
      "source": [
        "train_loader = DataLoader(train_set, batch_size=218, shuffle=True)\n",
        "valid_loader = DataLoader(valid_set, batch_size=218, shuffle=False)\n",
        "\n",
        "len(train_loader), len(valid_loader)"
      ]
    },
    {
      "cell_type": "markdown",
      "metadata": {
        "id": "SrTEuI3zmbQ-"
      },
      "source": [
        "### 🟡 Step 4: Define Word2Vec Model"
      ]
    },
    {
      "cell_type": "code",
      "execution_count": 16,
      "metadata": {
        "id": "-_SpoWyCnU5v"
      },
      "outputs": [],
      "source": [
        "class SkipGram(nn.Module):\n",
        "\n",
        "    def __init__(self, vocab_size, embedding_dim):\n",
        "        super(SkipGram, self).__init__()\n",
        "        self.embeddings = nn.Embedding(vocab_size, embedding_dim)\n",
        "        self.linear = nn.Linear(embedding_dim, vocab_size)\n",
        "\n",
        "    def forward(self, target_word):\n",
        "        embedded = self.embeddings(target_word)\n",
        "        output = self.linear(embedded)\n",
        "        return output"
      ]
    },
    {
      "cell_type": "markdown",
      "metadata": {
        "id": "EENgVQncmczo"
      },
      "source": [
        "### 🟡 Step 5: Config"
      ]
    },
    {
      "cell_type": "code",
      "execution_count": 17,
      "metadata": {
        "colab": {
          "base_uri": "https://localhost:8080/"
        },
        "id": "jRUsHkFfnZ9J",
        "outputId": "d833c0f2-da65-4a04-fe06-7112cdccb75f"
      },
      "outputs": [
        {
          "output_type": "execute_result",
          "data": {
            "text/plain": [
              "2.01"
            ]
          },
          "metadata": {},
          "execution_count": 17
        }
      ],
      "source": [
        "device = torch.device(\"cuda\" if torch.cuda.is_available() else \"cpu\")\n",
        "\n",
        "# Hyperparameters\n",
        "embedding_dim = 100  # Size of the word embeddings\n",
        "learning_rate = 1e-3\n",
        "num_epochs = 5\n",
        "vocab_size = tokenizer.get_vocab_size()\n",
        "\n",
        "# Initialize model, loss, and optimizer\n",
        "model = SkipGram(vocab_size, embedding_dim).to(device)\n",
        "criterion = nn.CrossEntropyLoss()\n",
        "optimizer = torch.optim.Adam(model.parameters(), lr=learning_rate)\n",
        "\n",
        "sum([param.numel() for param in model.parameters()]) / 1e6"
      ]
    },
    {
      "cell_type": "markdown",
      "metadata": {
        "id": "T75tt9BlmlW5"
      },
      "source": [
        "### 🟡 Step 6: Train and Evaluate Model"
      ]
    },
    {
      "cell_type": "code",
      "execution_count": 18,
      "metadata": {
        "id": "mxqunOioxzmJ"
      },
      "outputs": [],
      "source": [
        "def train_one_epoch(model, train_loader, loss_fn, optimizer, epoch=None):\n",
        "    model.train()\n",
        "    loss_train = MeanMetric().to(device)\n",
        "\n",
        "    with tqdm(train_loader, unit=\"batch\") as tepoch:\n",
        "        for inputs, targets in tepoch:\n",
        "            if epoch is not None:\n",
        "                tepoch.set_description(f\"Epoch {epoch}\")\n",
        "\n",
        "            inputs = inputs.to(device)\n",
        "            targets = targets.to(device)\n",
        "\n",
        "            optimizer.zero_grad()\n",
        "            outputs = model(inputs)\n",
        "            loss = loss_fn(outputs, targets)\n",
        "            loss.backward()\n",
        "            optimizer.step()\n",
        "\n",
        "            loss_train.update(loss.item())\n",
        "            tepoch.set_postfix(loss=loss_train.compute().item())\n",
        "\n",
        "    return model, loss_train.compute().item()"
      ]
    },
    {
      "cell_type": "code",
      "execution_count": 19,
      "metadata": {
        "id": "DOJ0KIFFqBNU"
      },
      "outputs": [],
      "source": [
        "def evaluate(model, valid_loader, loss_fn):\n",
        "    model.eval()\n",
        "    loss_eval = MeanMetric().to(device)\n",
        "\n",
        "    with torch.no_grad():\n",
        "       for inputs, targets in valid_loader:\n",
        "          inputs = inputs.to(device)\n",
        "          targets = targets.to(device)\n",
        "\n",
        "          outputs = model(inputs)\n",
        "          loss = loss_fn(outputs, targets)\n",
        "\n",
        "          loss_eval.update(loss.item())\n",
        "\n",
        "    return loss_eval.compute().item()"
      ]
    },
    {
      "cell_type": "markdown",
      "metadata": {
        "id": "lWlAmjKwzJsw"
      },
      "source": [
        "### 🟠 **Training Process**"
      ]
    },
    {
      "cell_type": "code",
      "execution_count": 20,
      "metadata": {
        "id": "PfOYOCi9zu3R"
      },
      "outputs": [],
      "source": [
        "loss_train_hist = []\n",
        "loss_valid_hist = []\n",
        "\n",
        "best_loss_valid = torch.inf\n",
        "epoch_counter = 0"
      ]
    },
    {
      "cell_type": "code",
      "execution_count": 21,
      "metadata": {
        "colab": {
          "base_uri": "https://localhost:8080/"
        },
        "id": "RLvpHj61zTKp",
        "outputId": "36edf563-5ed1-42c4-8099-ed509768715f"
      },
      "outputs": [
        {
          "output_type": "stream",
          "name": "stderr",
          "text": [
            "Epoch 0: 100%|██████████| 155321/155321 [19:54<00:00, 130.00batch/s, loss=6.06]\n"
          ]
        },
        {
          "output_type": "stream",
          "name": "stdout",
          "text": [
            "Valid: Loss = 5.949\n",
            "Model Saved!\n",
            "\n"
          ]
        },
        {
          "output_type": "stream",
          "name": "stderr",
          "text": [
            "Epoch 1: 100%|██████████| 155321/155321 [19:43<00:00, 131.23batch/s, loss=5.92]\n"
          ]
        },
        {
          "output_type": "stream",
          "name": "stdout",
          "text": [
            "Valid: Loss = 5.913\n",
            "Model Saved!\n",
            "\n"
          ]
        },
        {
          "output_type": "stream",
          "name": "stderr",
          "text": [
            "Epoch 2: 100%|██████████| 155321/155321 [19:38<00:00, 131.77batch/s, loss=5.89]\n"
          ]
        },
        {
          "output_type": "stream",
          "name": "stdout",
          "text": [
            "Valid: Loss = 5.899\n",
            "Model Saved!\n",
            "\n"
          ]
        },
        {
          "output_type": "stream",
          "name": "stderr",
          "text": [
            "Epoch 3: 100%|██████████| 155321/155321 [19:41<00:00, 131.41batch/s, loss=5.88]\n"
          ]
        },
        {
          "output_type": "stream",
          "name": "stdout",
          "text": [
            "Valid: Loss = 5.892\n",
            "Model Saved!\n",
            "\n"
          ]
        }
      ],
      "source": [
        "torch.manual_seed(127)\n",
        "num_epochs = 4\n",
        "\n",
        "for epoch in range(0, num_epochs):\n",
        "    # Train\n",
        "    model, loss_train = train_one_epoch(model, train_loader, criterion, optimizer, epoch)\n",
        "\n",
        "    # Validation\n",
        "    loss_valid = evaluate(model, valid_loader, criterion)\n",
        "    print(f'Valid: Loss = {loss_valid:.4}')\n",
        "\n",
        "    loss_train_hist.append(loss_train)\n",
        "    loss_valid_hist.append(loss_valid)\n",
        "\n",
        "    if loss_valid < best_loss_valid:\n",
        "        torch.save(model.state_dict(), f'best_model_word2vec.pt')\n",
        "        best_loss_valid = loss_valid\n",
        "        print(f'Model Saved!')\n",
        "        print('')\n",
        "\n",
        "    epoch_counter += 1"
      ]
    },
    {
      "cell_type": "markdown",
      "metadata": {
        "id": "igrz5LY5lZ3X"
      },
      "source": [
        "### 🟡 Step 7: Extract Word Embeddings\n"
      ]
    },
    {
      "cell_type": "code",
      "source": [
        "# Get the embeddings for all tokens\n",
        "embeddings = model.embeddings.weight.data\n",
        "vocab = tokenizer.get_vocab()\n",
        "\n",
        "# Example: Get the embedding for a specific token\n",
        "token = \"ایران\"\n",
        "if token in vocab:\n",
        "    token_id = vocab[token]\n",
        "    token_embedding = embeddings[token_id]\n",
        "    print(f\"Embedding for '{token}': {token_embedding}\")\n",
        "else:\n",
        "    print(f\"'{token}' not in vocabulary\")"
      ],
      "metadata": {
        "colab": {
          "base_uri": "https://localhost:8080/"
        },
        "id": "0QVdXkm5VI2q",
        "outputId": "5fb489a6-f584-48c2-e048-88bfd45018ea"
      },
      "execution_count": 24,
      "outputs": [
        {
          "output_type": "stream",
          "name": "stdout",
          "text": [
            "Embedding for 'ایران': tensor([ 0.0355, -0.3197, -0.0408, -0.3228,  0.3374, -0.0898, -0.7029,  0.1355,\n",
            "         0.2335, -0.0043, -0.4379, -0.1692,  0.4751, -0.6967,  0.1361,  0.0282,\n",
            "         0.5206, -0.6803, -0.4771,  0.3536, -0.4863,  0.3999,  0.2022,  0.0989,\n",
            "        -0.0200,  0.2289, -0.6023, -0.4619,  0.0511, -0.2861,  0.8477, -0.2850,\n",
            "         0.1275,  0.0087, -0.1174,  0.5486, -0.6020, -0.1354, -0.5554, -0.6419,\n",
            "         0.5016,  0.3867,  0.4975,  0.4335, -0.0877, -0.6241,  0.5211,  0.8865,\n",
            "         0.2334, -0.4336,  0.3303,  0.1732,  0.5323,  0.3059,  0.2639, -0.2514,\n",
            "        -0.1912, -0.2433,  0.0469,  0.2124,  0.1889, -0.5764,  0.1620, -0.2389,\n",
            "        -0.4607,  0.5167,  0.7099,  0.1677, -0.0067,  0.2019, -0.3547,  0.0130,\n",
            "        -0.0620, -0.2969, -0.5021,  0.4550, -0.5999, -0.7382, -0.5347,  0.4190,\n",
            "        -0.5409,  0.3658,  0.0093, -0.2822,  0.1940,  1.4759,  0.0624, -0.5643,\n",
            "         0.3560, -0.5955, -0.5866,  0.5502, -0.3693,  0.3117, -0.5144, -0.5192,\n",
            "        -0.7034, -0.5194,  0.0252, -0.0458], device='cuda:0')\n"
          ]
        }
      ]
    },
    {
      "cell_type": "markdown",
      "metadata": {
        "id": "I3yejFU_mtp3"
      },
      "source": [
        "### 🟡 Step 8: Save the Model and Tokenizer"
      ]
    },
    {
      "cell_type": "code",
      "execution_count": 26,
      "metadata": {
        "id": "AA0hGLJOnnKY"
      },
      "outputs": [],
      "source": [
        "# Save the model\n",
        "torch.save(model.state_dict(), \"skipgram_word2vec.pt\")\n",
        "\n",
        "# Save the embeddings\n",
        "torch.save(embeddings, \"word_embeddings.pt\")"
      ]
    },
    {
      "cell_type": "markdown",
      "metadata": {
        "id": "2179as2zDCnV"
      },
      "source": [
        "### 🟡 Step 9: Visualize Embeddings with t-SNE\n",
        "\n",
        "\n",
        "\n",
        "\n",
        "\n"
      ]
    },
    {
      "cell_type": "code",
      "execution_count": 27,
      "metadata": {
        "id": "HYFW2-wF7fee"
      },
      "outputs": [],
      "source": [
        "def plot_embeddings(embeddings, tokenizer, num_words=200):\n",
        "    from matplotlib import rcParams\n",
        "    rcParams['font.family'] = 'DejaVu Sans'\n",
        "\n",
        "    selected_embeddings = embeddings[:num_words].cpu().numpy()\n",
        "    tokens = list(tokenizer.get_vocab().keys())[:num_words]\n",
        "\n",
        "\n",
        "    tsne = TSNE(n_components=2, random_state=42, init='pca', perplexity=30)\n",
        "    reduced_vectors = tsne.fit_transform(selected_embeddings)\n",
        "\n",
        "    plt.figure(figsize=(14, 10))\n",
        "    for i, label in enumerate(tokens):\n",
        "        reshaped = arabic_reshaper.reshape(label)\n",
        "        bidi_label = get_display(reshaped)\n",
        "        x, y = reduced_vectors[i, 0], reduced_vectors[i, 1]\n",
        "        plt.scatter(x, y, label=bidi_label, alpha=0.7)\n",
        "        plt.annotate(bidi_label, (x, y))\n",
        "    plt.title(\"t-SNE visualization of Persian Word Embeddings\")\n",
        "    plt.grid(True)\n",
        "    plt.show()"
      ]
    },
    {
      "cell_type": "code",
      "execution_count": 28,
      "metadata": {
        "id": "YCnRWIUKKKTp",
        "colab": {
          "base_uri": "https://localhost:8080/",
          "height": 853
        },
        "outputId": "09a8353e-5ad4-4323-fa95-8a2b08419f63"
      },
      "outputs": [
        {
          "output_type": "display_data",
          "data": {
            "text/plain": [
              "<Figure size 1400x1000 with 1 Axes>"
            ],
            "image/png": "[encoded data removed]"
          },
          "metadata": {}
        }
      ],
      "source": [
        "plot_embeddings(model.embeddings.weight.data, tokenizer, num_words=200)"
      ]
    },
    {
      "cell_type": "markdown",
      "metadata": {
        "id": "HFe_KwVXAPg_"
      },
      "source": [
        "### 🟡 Step 10: Find similar words"
      ]
    },
    {
      "cell_type": "code",
      "source": [
        "trained_embeddings = model.embeddings.weight.data\n",
        "\n",
        "def get_similar_words(word, top_k=5):\n",
        "    if word in tokenizer.get_vocab():\n",
        "        word_id = tokenizer.encode(word)[0]\n",
        "        word_embedding = trained_embeddings[word_id].unsqueeze(0)\n",
        "\n",
        "        # Compute cosine similarity with all embeddings\n",
        "        similarities = F.cosine_similarity(word_embedding, trained_embeddings)\n",
        "\n",
        "        # Get top-k+1 to exclude the word itself\n",
        "        top_k_ids = torch.topk(similarities, top_k + 1).indices.tolist()\n",
        "\n",
        "        # Extract words and similarities\n",
        "        similar_words_with_scores = []\n",
        "        for idx in top_k_ids:\n",
        "            if idx != word_id:\n",
        "                token = tokenizer.decode([idx])\n",
        "                score = similarities[idx].item()\n",
        "                similar_words_with_scores.append((token, round(score, 4)))\n",
        "            if len(similar_words_with_scores) == top_k:\n",
        "                break\n",
        "\n",
        "        print(f\"کلمات مشابه با '{word}': {similar_words_with_scores}\")\n",
        "    else:\n",
        "        print(f\"کلمه «{word}» در فهرست واژگان وجود ندارد. ☹️\")\n"
      ],
      "metadata": {
        "id": "bI1I3emTbiYg"
      },
      "execution_count": 29,
      "outputs": []
    },
    {
      "cell_type": "code",
      "source": [
        "# Example usage\n",
        "get_similar_words(\"ایران\")"
      ],
      "metadata": {
        "colab": {
          "base_uri": "https://localhost:8080/"
        },
        "id": "6oaMufRMbm6z",
        "outputId": "8976139a-c80b-45fa-fca8-92f8f804178c"
      },
      "execution_count": 30,
      "outputs": [
        {
          "output_type": "stream",
          "name": "stdout",
          "text": [
            "کلمات مشابه با 'ایران': [(['کشورمان'], 0.6861), (['چین'], 0.5321), (['ترکیه'], 0.4972), (['کشورش'], 0.4473), (['اروپا'], 0.4351)]\n"
          ]
        }
      ]
    },
    {
      "cell_type": "code",
      "source": [
        "get_similar_words(\"گزارش\")"
      ],
      "metadata": {
        "colab": {
          "base_uri": "https://localhost:8080/"
        },
        "id": "Vk5jVEqxbqZf",
        "outputId": "9893d057-35e6-4c18-f55a-f13e2dc31b9f"
      },
      "execution_count": 31,
      "outputs": [
        {
          "output_type": "stream",
          "name": "stdout",
          "text": [
            "کلمات مشابه با 'گزارش': [(['خبرگزاری'], 0.5501), (['خبرنگار'], 0.5247), (['گفته'], 0.5242), (['به\\u200cگزارش'], 0.5232), (['ایرنا'], 0.4945)]\n"
          ]
        }
      ]
    },
    {
      "cell_type": "code",
      "source": [
        "get_similar_words(\"معلم\")"
      ],
      "metadata": {
        "colab": {
          "base_uri": "https://localhost:8080/"
        },
        "id": "txQKnYcWbrPu",
        "outputId": "8021d896-55f4-40a7-cb0d-6a61355d2272"
      },
      "execution_count": 32,
      "outputs": [
        {
          "output_type": "stream",
          "name": "stdout",
          "text": [
            "کلمات مشابه با 'معلم': [(['دانش\\u200cآموز'], 0.6352), (['تعلیم'], 0.6021), (['تحصیل'], 0.5495), (['آموزان'], 0.5452), (['مدرسه'], 0.5451)]\n"
          ]
        }
      ]
    },
    {
      "cell_type": "code",
      "source": [
        "get_similar_words(\"تهران\")"
      ],
      "metadata": {
        "colab": {
          "base_uri": "https://localhost:8080/"
        },
        "id": "cNQt5J1ibrwA",
        "outputId": "e53faade-bef1-41e9-8a4b-76d324d4485e"
      },
      "execution_count": 33,
      "outputs": [
        {
          "output_type": "stream",
          "name": "stdout",
          "text": [
            "کلمات مشابه با 'تهران': [(['اصفهان'], 0.7897), (['مشهد'], 0.6999), (['قزوین'], 0.6613), (['شیراز'], 0.6467), (['سمنان'], 0.6235)]\n"
          ]
        }
      ]
    },
    {
      "cell_type": "code",
      "source": [
        "get_similar_words(\"شب\")"
      ],
      "metadata": {
        "colab": {
          "base_uri": "https://localhost:8080/"
        },
        "id": "F1MNaul8b1WG",
        "outputId": "72374f21-756b-4f68-9968-4cf6616d140e"
      },
      "execution_count": 34,
      "outputs": [
        {
          "output_type": "stream",
          "name": "stdout",
          "text": [
            "کلمات مشابه با 'شب': [(['بامداد'], 0.6236), (['روز'], 0.6233), (['فردا'], 0.5917), (['بعدازظهر'], 0.5867), (['صبح'], 0.5851)]\n"
          ]
        }
      ]
    },
    {
      "cell_type": "code",
      "source": [
        "get_similar_words(\"پویان\")"
      ],
      "metadata": {
        "colab": {
          "base_uri": "https://localhost:8080/"
        },
        "id": "p1xxPm0kb7cB",
        "outputId": "9859c7c3-f629-4f48-f75c-fca71ff3d7c9"
      },
      "execution_count": 35,
      "outputs": [
        {
          "output_type": "stream",
          "name": "stdout",
          "text": [
            "کلمه «پویان» در فهرست واژگان وجود ندارد. ☹️\n"
          ]
        }
      ]
    },
    {
      "cell_type": "markdown",
      "metadata": {
        "id": "QgySfzF8D_NV"
      },
      "source": [
        "### 🟡 Step 11: Analogy Task (word_a - word_b + word_c ≈ ?)"
      ]
    },
    {
      "cell_type": "code",
      "source": [
        "def analogy(word_a, word_b, word_c, top_k=3):\n",
        "    vocab = tokenizer.get_vocab()\n",
        "\n",
        "    for word in [word_a, word_b, word_c]:\n",
        "        if word not in vocab:\n",
        "            print(f\"کلمه «{word}» در واژگان وجود ندارد.\")\n",
        "            return []\n",
        "\n",
        "    embedding_weights = model.embeddings.weight.data\n",
        "\n",
        "    id_a = torch.tensor(tokenizer.token_to_id(word_a))\n",
        "    id_b = torch.tensor(tokenizer.token_to_id(word_b))\n",
        "    id_c = torch.tensor(tokenizer.token_to_id(word_c))\n",
        "\n",
        "    vec_a = embedding_weights[id_a]\n",
        "    vec_b = embedding_weights[id_b]\n",
        "    vec_c = embedding_weights[id_c]\n",
        "\n",
        "    target_vec = vec_a - vec_b + vec_c\n",
        "\n",
        "    similarities = F.cosine_similarity(target_vec.unsqueeze(0), embedding_weights)\n",
        "\n",
        "    exclude_ids = {id_a.item(), id_b.item(), id_c.item()}\n",
        "    top_ids = [i for i in torch.topk(similarities, top_k + 3).indices.tolist() if i not in exclude_ids][:top_k]\n",
        "\n",
        "    result = [tokenizer.id_to_token(i) for i in top_ids]\n",
        "    print(f\"Analogies → '{word_a}' - '{word_b}' + '{word_c}' ≈ \")\n",
        "    return result"
      ],
      "metadata": {
        "id": "xB7R_1rdbNbY"
      },
      "execution_count": 36,
      "outputs": []
    },
    {
      "cell_type": "code",
      "execution_count": null,
      "metadata": {
        "colab": {
          "base_uri": "https://localhost:8080/"
        },
        "id": "aRZnGxLj_qOo",
        "outputId": "ccd79d54-f0c2-4021-f9bb-1642f50419a3"
      },
      "outputs": [
        {
          "name": "stdout",
          "output_type": "stream",
          "text": [
            "Analogies → 'دلار' - 'آمریکا' + 'ایران' ≈ \n"
          ]
        },
        {
          "data": {
            "text/plain": [
              "['تومان', 'تومانی', 'یورو']"
            ]
          },
          "execution_count": 79,
          "metadata": {},
          "output_type": "execute_result"
        }
      ],
      "source": [
        "analogy(\"دلار\", \"آمریکا\", \"ایران\")"
      ]
    },
    {
      "cell_type": "code",
      "source": [
        "analogy(\"پول\", \"بانک\", \"بورس\")"
      ],
      "metadata": {
        "colab": {
          "base_uri": "https://localhost:8080/"
        },
        "id": "of4PkANdbWvE",
        "outputId": "a34fa235-343a-4e7a-b749-571ec26d7446"
      },
      "execution_count": 38,
      "outputs": [
        {
          "output_type": "stream",
          "name": "stdout",
          "text": [
            "Analogies → 'پول' - 'بانک' + 'بورس' ≈ \n"
          ]
        },
        {
          "output_type": "execute_result",
          "data": {
            "text/plain": [
              "['فرابورس', 'مزایده', 'سهام']"
            ]
          },
          "metadata": {},
          "execution_count": 38
        }
      ]
    },
    {
      "cell_type": "code",
      "source": [
        "analogy(\"بشکه\", \"نفت\", \"گاز\")"
      ],
      "metadata": {
        "colab": {
          "base_uri": "https://localhost:8080/"
        },
        "id": "8aCf2vl0bYNd",
        "outputId": "852196b2-7d41-4086-961a-44b842391ced"
      },
      "execution_count": 39,
      "outputs": [
        {
          "output_type": "stream",
          "name": "stdout",
          "text": [
            "Analogies → 'بشکه' - 'نفت' + 'گاز' ≈ \n"
          ]
        },
        {
          "output_type": "execute_result",
          "data": {
            "text/plain": [
              "['مترمکعب', 'لیتر', 'تن']"
            ]
          },
          "metadata": {},
          "execution_count": 39
        }
      ]
    }
  ],
  "metadata": {
    "accelerator": "GPU",
    "colab": {
      "gpuType": "T4",
      "provenance": []
    },
    "kernelspec": {
      "display_name": "Python 3",
      "name": "python3"
    },
    "language_info": {
      "name": "python"
    }
  },
  "nbformat": 4,
  "nbformat_minor": 0
}