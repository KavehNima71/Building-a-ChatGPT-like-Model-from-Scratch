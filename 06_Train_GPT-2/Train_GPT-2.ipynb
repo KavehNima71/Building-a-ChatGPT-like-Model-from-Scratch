{
  "nbformat": 4,
  "nbformat_minor": 0,
  "metadata": {
    "colab": {
      "provenance": [],
      "collapsed_sections": [
        "VrFCH9hpEyip",
        "3in1e9BksgIh",
        "d7Psbf21OXiW",
        "w_a3OXnSeV0z",
        "RwaY_YcgRayy",
        "RTql4Ftiunfr",
        "f8tPUUrtQ9Pj",
        "lAoYRsvKN_8l",
        "WTVewgG-m7nq",
        "ih6sV9ljndzW",
        "LCzTHf8iitEt",
        "o_5f69nwPtY2",
        "W0QNbC0YPCKZ",
        "ACjVH6bBpAEV",
        "Tc_zTOcmOXir",
        "oX-PL19qWp4r",
        "LfdeZV28aamI",
        "xOVMvcCB7wjV"
      ],
      "authorship_tag": "ABX9TyO6sO4loM9jLUjCSuiAbcbb",
      "include_colab_link": true
    },
    "kernelspec": {
      "name": "python3",
      "display_name": "Python 3"
    },
    "language_info": {
      "name": "python"
    }
  },
  "cells": [
    {
      "cell_type": "markdown",
      "metadata": {
        "id": "view-in-github",
        "colab_type": "text"
      },
      "source": [
        "<a href=\"https://colab.research.google.com/github/howsam/Building-a-ChatGPT-like-Model-from-Scratch/blob/main/Train_GPT-2.ipynb\" target=\"_parent\"><img src=\"https://colab.research.google.com/assets/colab-badge.svg\" alt=\"Open In Colab\"/></a>"
      ]
    },
    {
      "cell_type": "markdown",
      "metadata": {
        "id": "-uXkcYhkIxS-"
      },
      "source": [
        "#  <font color='#FFE15D'><b>💎 Train GPT-2 on TinyStories Dataset </b></font><font color='#FF0B55'></font>"
      ]
    },
    {
      "cell_type": "markdown",
      "metadata": {
        "id": "VrFCH9hpEyip",
        "jp-MarkdownHeadingCollapsed": true
      },
      "source": [
        "# 🔴 **Environment Setup**"
      ]
    },
    {
      "cell_type": "markdown",
      "metadata": {
        "id": "3in1e9BksgIh",
        "jp-MarkdownHeadingCollapsed": true
      },
      "source": [
        "## 🟠 Change the font size of the output cells"
      ]
    },
    {
      "cell_type": "code",
      "execution_count": null,
      "metadata": {
        "colab": {
          "base_uri": "https://localhost:8080/"
        },
        "id": "1_nYkVog8SUR",
        "outputId": "9df8a7ef-ace7-46ad-d7a6-d7c4b03edbc4"
      },
      "outputs": [
        {
          "output_type": "stream",
          "name": "stdout",
          "text": [
            "Salam Howsam!\n"
          ]
        }
      ],
      "source": [
        "print('Salam Howsam!')"
      ]
    },
    {
      "cell_type": "code",
      "execution_count": null,
      "metadata": {
        "id": "BmMM0EfKsSiO"
      },
      "outputs": [],
      "source": [
        "from IPython.display import HTML\n",
        "shell = get_ipython()\n",
        "\n",
        "def adjust_font_size():\n",
        "  display(HTML('''<style>\n",
        "    body {\n",
        "      font-size: 20px;\n",
        "    }\n",
        "  '''))\n",
        "\n",
        "if adjust_font_size not in shell.events.callbacks['pre_execute']:\n",
        "  shell.events.register('pre_execute', adjust_font_size)"
      ]
    },
    {
      "cell_type": "code",
      "execution_count": null,
      "metadata": {
        "colab": {
          "base_uri": "https://localhost:8080/"
        },
        "id": "10N1yUE88XRW",
        "outputId": "e57c5827-1f9d-443a-ee4f-5161cca09ec5"
      },
      "outputs": [
        {
          "output_type": "display_data",
          "data": {
            "text/plain": [
              "<IPython.core.display.HTML object>"
            ],
            "text/html": [
              "<style>\n",
              "    body {\n",
              "      font-size: 20px;\n",
              "    }\n",
              "  "
            ]
          },
          "metadata": {}
        },
        {
          "output_type": "stream",
          "name": "stdout",
          "text": [
            "Salam Howsam!\n"
          ]
        }
      ],
      "source": [
        "print('Salam Howsam!')"
      ]
    },
    {
      "cell_type": "markdown",
      "metadata": {
        "jp-MarkdownHeadingCollapsed": true,
        "id": "d7Psbf21OXiW"
      },
      "source": [
        "## 🟠 `pip`"
      ]
    },
    {
      "cell_type": "code",
      "execution_count": null,
      "metadata": {
        "id": "jv21KFRNOXiX"
      },
      "outputs": [],
      "source": []
    },
    {
      "cell_type": "markdown",
      "metadata": {
        "id": "w_a3OXnSeV0z",
        "jp-MarkdownHeadingCollapsed": true
      },
      "source": [
        "# 🔴 **Import**"
      ]
    },
    {
      "cell_type": "code",
      "execution_count": null,
      "metadata": {
        "colab": {
          "base_uri": "https://localhost:8080/"
        },
        "id": "vhlVJEkJeTsV",
        "outputId": "fad2b53f-49c1-4d80-94e2-0f4163f6fbad"
      },
      "outputs": [
        {
          "output_type": "display_data",
          "data": {
            "text/plain": [
              "<IPython.core.display.HTML object>"
            ],
            "text/html": [
              "<style>\n",
              "    body {\n",
              "      font-size: 20px;\n",
              "    }\n",
              "  "
            ]
          },
          "metadata": {}
        }
      ],
      "source": [
        "import os\n",
        "import sys\n",
        "import time\n",
        "import math\n",
        "import json\n",
        "import yaml\n",
        "import random\n",
        "from tqdm import tqdm\n",
        "from pprint import pprint\n",
        "from itertools import cycle\n",
        "from datetime import datetime\n",
        "from termcolor import colored\n",
        "from dataclasses import dataclass, asdict\n",
        "from prettytable import PrettyTable\n",
        "\n",
        "import numpy as np\n",
        "import matplotlib.pyplot as plt\n",
        "import seaborn as sns\n",
        "sns.set()\n",
        "\n",
        "from datasets import load_dataset\n",
        "from tokenizers import Tokenizer\n",
        "\n",
        "import torch\n",
        "from torch.utils.data import Dataset, DataLoader\n",
        "from torch import nn\n",
        "from torch.nn import functional as F\n",
        "\n",
        "from torchmetrics import MeanMetric"
      ]
    },
    {
      "cell_type": "code",
      "source": [
        "import tokenizers\n",
        "tokenizers.__version__"
      ],
      "metadata": {
        "id": "nga-ozVSy1YO",
        "outputId": "0ae96b75-70b2-459a-a71d-e032f097049e",
        "colab": {
          "base_uri": "https://localhost:8080/"
        }
      },
      "execution_count": null,
      "outputs": [
        {
          "output_type": "display_data",
          "data": {
            "text/plain": [
              "<IPython.core.display.HTML object>"
            ],
            "text/html": [
              "<style>\n",
              "    body {\n",
              "      font-size: 20px;\n",
              "    }\n",
              "  "
            ]
          },
          "metadata": {}
        },
        {
          "output_type": "execute_result",
          "data": {
            "text/plain": [
              "'0.19.1'"
            ]
          },
          "metadata": {},
          "execution_count": 5
        }
      ]
    },
    {
      "cell_type": "markdown",
      "metadata": {
        "id": "RwaY_YcgRayy",
        "jp-MarkdownHeadingCollapsed": true
      },
      "source": [
        "# 🔴 **Utils**"
      ]
    },
    {
      "cell_type": "code",
      "execution_count": null,
      "metadata": {
        "id": "5pmcazW7OXia",
        "outputId": "a1f0ded4-e6e4-4928-ead7-459dc6b32f9f",
        "colab": {
          "base_uri": "https://localhost:8080/"
        }
      },
      "outputs": [
        {
          "output_type": "display_data",
          "data": {
            "text/plain": [
              "<IPython.core.display.HTML object>"
            ],
            "text/html": [
              "<style>\n",
              "    body {\n",
              "      font-size: 20px;\n",
              "    }\n",
              "  "
            ]
          },
          "metadata": {}
        }
      ],
      "source": [
        "def prepare_data(tokens, seq_len):\n",
        "    # Trim tokens so that total length is divisible by seq_len\n",
        "    n_tokens = (tokens.shape[0] // seq_len) * seq_len\n",
        "    tokens = tokens[:n_tokens]\n",
        "    # Reshape to 2D tensor\n",
        "    return tokens.view(-1, seq_len)"
      ]
    },
    {
      "cell_type": "code",
      "execution_count": null,
      "metadata": {
        "colab": {
          "base_uri": "https://localhost:8080/"
        },
        "id": "PpKbTUEIRayz",
        "outputId": "97b7bd2b-2d8d-47c9-8427-0843076ad297"
      },
      "outputs": [
        {
          "output_type": "display_data",
          "data": {
            "text/plain": [
              "<IPython.core.display.HTML object>"
            ],
            "text/html": [
              "<style>\n",
              "    body {\n",
              "      font-size: 20px;\n",
              "    }\n",
              "  "
            ]
          },
          "metadata": {}
        }
      ],
      "source": [
        "def num_trainable_params(model):\n",
        "  nums = sum(p.numel() for p in model.parameters() if p.requires_grad)/1e6\n",
        "  return nums"
      ]
    },
    {
      "cell_type": "code",
      "execution_count": null,
      "metadata": {
        "colab": {
          "base_uri": "https://localhost:8080/"
        },
        "id": "G6LDfZvmOLcI",
        "outputId": "e5b73678-248f-4479-b1fa-ff430a2543cb"
      },
      "outputs": [
        {
          "output_type": "display_data",
          "data": {
            "text/plain": [
              "<IPython.core.display.HTML object>"
            ],
            "text/html": [
              "<style>\n",
              "    body {\n",
              "      font-size: 20px;\n",
              "    }\n",
              "  "
            ]
          },
          "metadata": {}
        }
      ],
      "source": [
        "# Benchmarking function\n",
        "def calculate_time(model, x, num_runs=10):\n",
        "    torch.cuda.synchronize()\n",
        "    start = time.time()\n",
        "    for _ in range(num_runs):\n",
        "        model(x)\n",
        "    torch.cuda.synchronize()\n",
        "    return (time.time() - start) / num_runs"
      ]
    },
    {
      "cell_type": "markdown",
      "metadata": {
        "id": "RTql4Ftiunfr"
      },
      "source": [
        "# 🔴 **Dataset**"
      ]
    },
    {
      "cell_type": "code",
      "execution_count": null,
      "metadata": {
        "colab": {
          "base_uri": "https://localhost:8080/"
        },
        "id": "xqqBMjGnz1IL",
        "outputId": "6a15378d-ca9a-4af4-c8d3-a8fdbbe1df36"
      },
      "outputs": [
        {
          "output_type": "display_data",
          "data": {
            "text/plain": [
              "<IPython.core.display.HTML object>"
            ],
            "text/html": [
              "<style>\n",
              "    body {\n",
              "      font-size: 20px;\n",
              "    }\n",
              "  "
            ]
          },
          "metadata": {}
        }
      ],
      "source": [
        "class TinyStoriesDataset(Dataset):\n",
        "\n",
        "    def __init__(self, data, seq_len):\n",
        "        self.seq_len = seq_len\n",
        "        self.data = prepare_data(data, seq_len+1)\n",
        "\n",
        "    def __len__(self):\n",
        "        return self.data.shape[0]\n",
        "\n",
        "    def __getitem__(self, idx):\n",
        "        sample = self.data[idx]\n",
        "        return sample.long()#[:-1], sample[1:]"
      ]
    },
    {
      "cell_type": "markdown",
      "source": [
        "# 🔴 **Model**"
      ],
      "metadata": {
        "id": "f8tPUUrtQ9Pj"
      }
    },
    {
      "cell_type": "markdown",
      "source": [
        "## 🟠 Multi Head Attention"
      ],
      "metadata": {
        "id": "lAoYRsvKN_8l"
      }
    },
    {
      "cell_type": "code",
      "source": [
        "class MultiHeadAttention(nn.Module):\n",
        "\n",
        "    def __init__(self, config):\n",
        "        super().__init__()\n",
        "        self.n_embd = config.n_embd\n",
        "        self.n_head = config.n_head\n",
        "        self.head_size = self.n_embd // self.n_head\n",
        "\n",
        "        self.qkv_proj = nn.Linear(self.n_embd, 3*self.n_embd, bias=False)\n",
        "        self.c_proj = nn.Linear(self.n_embd, self.n_embd, bias=False)\n",
        "        self.c_proj.residual = True\n",
        "\n",
        "    def forward(self, x):\n",
        "        B, T, C = x.shape\n",
        "        # QKV linear\n",
        "        q, k, v = self.qkv_proj(x).view(B, T, 3*self.n_head, self.head_size).transpose(1, 2).chunk(3, dim=-3)\n",
        "        # Scaled Dot Product Attention using pytorch\n",
        "        y = F.scaled_dot_product_attention(q, k, v, is_causal=True)\n",
        "        # Reshape and final projection\n",
        "        y = y.transpose(1, 2).contiguous().view(B, T, C)\n",
        "        y = self.c_proj(y)\n",
        "        return y"
      ],
      "metadata": {
        "id": "gnxYy1oIQcY-",
        "colab": {
          "base_uri": "https://localhost:8080/"
        },
        "outputId": "9bf42962-1501-4c34-925c-9362900474f8"
      },
      "execution_count": null,
      "outputs": [
        {
          "output_type": "display_data",
          "data": {
            "text/plain": [
              "<IPython.core.display.HTML object>"
            ],
            "text/html": [
              "<style>\n",
              "    body {\n",
              "      font-size: 20px;\n",
              "    }\n",
              "  "
            ]
          },
          "metadata": {}
        }
      ]
    },
    {
      "cell_type": "markdown",
      "source": [
        "## 🟠 Feed Forward (MLP)"
      ],
      "metadata": {
        "id": "WTVewgG-m7nq"
      }
    },
    {
      "cell_type": "code",
      "source": [
        "class FeedForward(nn.Module):\n",
        "\n",
        "    def __init__(self, config):\n",
        "        super().__init__()\n",
        "        self.n_embd = config.n_embd\n",
        "        self.f_expnd = config.f_expnd\n",
        "\n",
        "        self.up_proj = nn.Linear(self.n_embd, int(self.f_expnd*self.n_embd), bias=False)\n",
        "        self.down_proj = nn.Linear(int(self.f_expnd*self.n_embd), self.n_embd, bias=False)\n",
        "        self.down_proj.residual = True\n",
        "\n",
        "    def forward(self, x):\n",
        "        return self.down_proj(F.gelu(self.up_proj(x)))"
      ],
      "metadata": {
        "id": "BTcx4J5Lm66z",
        "colab": {
          "base_uri": "https://localhost:8080/"
        },
        "outputId": "55c38e57-80fb-42ab-ab46-d54c03382f1e"
      },
      "execution_count": null,
      "outputs": [
        {
          "output_type": "display_data",
          "data": {
            "text/plain": [
              "<IPython.core.display.HTML object>"
            ],
            "text/html": [
              "<style>\n",
              "    body {\n",
              "      font-size: 20px;\n",
              "    }\n",
              "  "
            ]
          },
          "metadata": {}
        }
      ]
    },
    {
      "cell_type": "markdown",
      "source": [
        "## 🟠 Decoder Block"
      ],
      "metadata": {
        "id": "ih6sV9ljndzW"
      }
    },
    {
      "cell_type": "code",
      "source": [
        "class DecoderBlock(nn.Module):\n",
        "\n",
        "    def __init__(self, config):\n",
        "        super().__init__()\n",
        "        self.n_embd = config.n_embd\n",
        "        # Multi Head Attention\n",
        "        self.ln1 = nn.LayerNorm(config.n_embd)\n",
        "        self.mha = MultiHeadAttention(config)\n",
        "        # Feed Forward Neural Network\n",
        "        self.ln2 = nn.LayerNorm(config.n_embd)\n",
        "        self.mlp = FeedForward(config)\n",
        "\n",
        "    def forward(self, x):\n",
        "        x = x + self.mha(self.ln1(x))\n",
        "        x = x + self.mlp(self.ln2(x))\n",
        "        return x"
      ],
      "metadata": {
        "id": "Gq1kw31av9DR",
        "colab": {
          "base_uri": "https://localhost:8080/"
        },
        "outputId": "b8766e40-62e2-43e4-f7b8-36db1797a7a8"
      },
      "execution_count": null,
      "outputs": [
        {
          "output_type": "display_data",
          "data": {
            "text/plain": [
              "<IPython.core.display.HTML object>"
            ],
            "text/html": [
              "<style>\n",
              "    body {\n",
              "      font-size: 20px;\n",
              "    }\n",
              "  "
            ]
          },
          "metadata": {}
        }
      ]
    },
    {
      "cell_type": "markdown",
      "source": [
        "## 🟠 GPT"
      ],
      "metadata": {
        "id": "LCzTHf8iitEt"
      }
    },
    {
      "cell_type": "code",
      "source": [
        "class GPT(nn.Module):\n",
        "\n",
        "    def __init__(self, config):\n",
        "        super().__init__()\n",
        "        self.config = config\n",
        "        self.wte = nn.Embedding(config.vocab_size, config.n_embd) # Token embedding\n",
        "        self.wpe = nn.Embedding(config.max_seq_len, config.n_embd) # Position embedding\n",
        "        self.decoders = nn.ModuleList([DecoderBlock(config) for _ in range(config.n_layer)]) # Decoders\n",
        "        self.lnf = nn.LayerNorm(config.n_embd)\n",
        "        self.lm_head = nn.Linear(config.n_embd, config.vocab_size, bias=False) # Classifier\n",
        "        self.lm_head.weight = self.wte.weight # Weight tying\n",
        "\n",
        "        self.apply(self._init_weights)\n",
        "\n",
        "    def _init_weights(self, module):\n",
        "        std = 0.02\n",
        "        if isinstance(module, nn.Linear):\n",
        "            if hasattr(module, 'residual'):\n",
        "                std *= (2*self.config.n_layer)**-0.5\n",
        "            nn.init.normal_(module.weight, mean=0.0, std=std)\n",
        "            if module.bias is not None:\n",
        "                nn.init.zeros_(module.bias)\n",
        "        elif isinstance(module, nn.Embedding):\n",
        "            nn.init.normal_(module.weight, mean=0.0, std=std)\n",
        "\n",
        "    def forward(self, idx):\n",
        "        B, T = idx.shape\n",
        "        # Token Embedding + Position Embedding\n",
        "        x = self.wte(idx) + self.wpe(torch.arange(T, device=idx.device))\n",
        "        # Decoders\n",
        "        for decoder in self.decoders:\n",
        "            x = decoder(x)\n",
        "        # Classifier\n",
        "        x = self.lnf(x)\n",
        "        logits = self.lm_head(x)\n",
        "        return logits"
      ],
      "metadata": {
        "id": "Lmrc034JwvSS",
        "colab": {
          "base_uri": "https://localhost:8080/"
        },
        "outputId": "5d5bbef7-43b5-4561-825b-b49b22d9a36c"
      },
      "execution_count": null,
      "outputs": [
        {
          "output_type": "display_data",
          "data": {
            "text/plain": [
              "<IPython.core.display.HTML object>"
            ],
            "text/html": [
              "<style>\n",
              "    body {\n",
              "      font-size: 20px;\n",
              "    }\n",
              "  "
            ]
          },
          "metadata": {}
        }
      ]
    },
    {
      "cell_type": "markdown",
      "metadata": {
        "id": "o_5f69nwPtY2"
      },
      "source": [
        "# 🔴 **Config**"
      ]
    },
    {
      "cell_type": "code",
      "source": [
        "@dataclass\n",
        "class DatasetConfig:\n",
        "    train_path: str\n",
        "    valid_path: str\n",
        "    tokenizer_path: str\n",
        "    batch_size: int = 32\n",
        "    seq_len: int = 128\n",
        "\n",
        "\n",
        "@dataclass\n",
        "class GPTConfig:\n",
        "    vocab_size: int = 50257\n",
        "    max_seq_len: int = 1024\n",
        "    n_layer: int = 12\n",
        "    n_head: int = 12\n",
        "    n_embd: int = 768\n",
        "    f_expnd: int = 4\n",
        "\n",
        "\n",
        "@dataclass\n",
        "class OptimizerConfig:\n",
        "    max_lr: float = 3e-4\n",
        "    betas: tuple = (0.9, 0.95)\n",
        "    weight_decay: float = 0.1\n",
        "    fused: bool = True\n",
        "    warmup_steps: int = 256\n",
        "    alpha: float = 0.1\n",
        "\n",
        "\n",
        "@dataclass\n",
        "class TrainConfig:\n",
        "    seed: int = 42\n",
        "    device: str = 'cuda'\n",
        "    total_tokens: int = 100_000\n",
        "    log_interval_tokens: int = 50_000\n",
        "    log_dir: str = 'logs'\n",
        "    run_name: str = 'gpt2_tinystories'\n",
        "\n",
        "\n",
        "@dataclass\n",
        "class GenerationConfig:\n",
        "    prompts: list[str]\n",
        "    T: float = 0.9\n",
        "    max_seq_len: int = 128\n",
        "    top_k: int = 10\n",
        "    n_rep: int = 3\n",
        "    seed: int = 42\n",
        "\n",
        "\n",
        "@dataclass\n",
        "class MasterConfig:\n",
        "    data: DatasetConfig\n",
        "    model: GPTConfig\n",
        "    optimizer: OptimizerConfig\n",
        "    train: TrainConfig\n",
        "    generation: GenerationConfig"
      ],
      "metadata": {
        "colab": {
          "base_uri": "https://localhost:8080/"
        },
        "id": "oIkx-mzbztIg",
        "outputId": "40c19fc0-fdb4-498a-e548-bf4df06e11d3"
      },
      "execution_count": null,
      "outputs": [
        {
          "output_type": "display_data",
          "data": {
            "text/plain": [
              "<IPython.core.display.HTML object>"
            ],
            "text/html": [
              "<style>\n",
              "    body {\n",
              "      font-size: 20px;\n",
              "    }\n",
              "  "
            ]
          },
          "metadata": {}
        }
      ]
    },
    {
      "cell_type": "markdown",
      "metadata": {
        "id": "W0QNbC0YPCKZ"
      },
      "source": [
        "# 🔴 **Functions ⚙️**"
      ]
    },
    {
      "cell_type": "markdown",
      "metadata": {
        "id": "ACjVH6bBpAEV"
      },
      "source": [
        "## 🟠 Logger"
      ]
    },
    {
      "cell_type": "code",
      "source": [
        "# Logger class for saving and plotting training logs\n",
        "class Logger:\n",
        "    \"\"\"\n",
        "    Manages training history logging, saving to disk, and plotting learning curves.\n",
        "    \"\"\"\n",
        "    def __init__(self, log_dir='logs', run_name='default_run'):\n",
        "        # Make dir\n",
        "        timestamp = datetime.now().strftime(\"%Y%m%d_%H%M%S\")\n",
        "        self.log_dir = os.path.join(log_dir, f\"{run_name}_{timestamp}\")\n",
        "        os.makedirs(self.log_dir, exist_ok=False)\n",
        "        # Create history dictionay\n",
        "        self.history = {\n",
        "            'train_loss': [],\n",
        "            'valid_loss': [],\n",
        "            'best_loss_valid': float('inf'),\n",
        "            'seen_tokens': [],\n",
        "            'elapsed_time': []\n",
        "        }\n",
        "\n",
        "    def log(self, train_loss, valid_loss, seen_tokens, elapsed_time=0):\n",
        "        self.history['train_loss'].append(train_loss)\n",
        "        self.history['valid_loss'].append(valid_loss)\n",
        "        self.history['seen_tokens'].append(seen_tokens)\n",
        "        self.history['elapsed_time'].append(elapsed_time)\n",
        "\n",
        "    def save(self, model, optimizer):\n",
        "        # Save history\n",
        "        file_path = os.path.join(self.log_dir, 'loss_history.json')\n",
        "        with open(file_path, 'w') as f:\n",
        "            json.dump(self.history, f, indent=4)\n",
        "        # Save best model and optimizer\n",
        "        current_loss_valid = self.history['valid_loss'][-1]\n",
        "        if current_loss_valid < self.history['best_loss_valid']:\n",
        "            log = dict(model=model.state_dict(), optimizer=optimizer)\n",
        "            torch.save(log, f'{self.log_dir}/best_model.pt')\n",
        "            self.history['best_loss_valid'] = current_loss_valid\n",
        "            print(\"✅ Model Saved!\")\n",
        "        self.plot()\n",
        "\n",
        "    def plot(self):\n",
        "        plt.figure(figsize=(10, 5))\n",
        "        plt.plot(self.history['seen_tokens'], self.history['train_loss'], label='Train Loss')\n",
        "        plt.plot(self.history['seen_tokens'], self.history['valid_loss'], label='Valid Loss')\n",
        "        plt.xlabel('Seen Tokens')\n",
        "        plt.ylabel('Loss')\n",
        "        plt.title(f'Learning Curve')\n",
        "        plt.legend()\n",
        "        plt.grid(True)\n",
        "        plt.tight_layout()\n",
        "        plt.savefig(os.path.join(self.log_dir, 'learning_curve.png'))\n",
        "        plt.show()"
      ],
      "metadata": {
        "colab": {
          "base_uri": "https://localhost:8080/"
        },
        "id": "yhLxBeKtreKx",
        "outputId": "6039a268-7deb-41ca-9860-292327e712e4"
      },
      "execution_count": null,
      "outputs": [
        {
          "output_type": "display_data",
          "data": {
            "text/plain": [
              "<IPython.core.display.HTML object>"
            ],
            "text/html": [
              "<style>\n",
              "    body {\n",
              "      font-size: 20px;\n",
              "    }\n",
              "  "
            ]
          },
          "metadata": {}
        }
      ]
    },
    {
      "cell_type": "markdown",
      "metadata": {
        "id": "Tc_zTOcmOXir"
      },
      "source": [
        "## 🟠 Train ➰"
      ]
    },
    {
      "cell_type": "code",
      "source": [
        "# Trainer class to manage model training, evaluation and reporting\n",
        "class LLMTrainer:\n",
        "    \"\"\"\n",
        "    Trainer handles training loops, periodic evaluation, logging, and sample generation.\n",
        "    \"\"\"\n",
        "    def __init__(self, model, optimizer, train_loader, valid_loader, tokenizer,\n",
        "                 config, loss_fn=F.cross_entropy):\n",
        "\n",
        "        self.model = model\n",
        "        self.optimizer = optimizer\n",
        "        self.train_loader = train_loader\n",
        "        self.valid_loader = valid_loader\n",
        "        self.tokenizer = tokenizer\n",
        "        self.loss_fn = loss_fn\n",
        "        self.config = config\n",
        "        self.device = config.train.device\n",
        "\n",
        "        self.seen_tokens = 0\n",
        "        self.token_eval_counter = 0\n",
        "        self.total_tokens = config.train.total_tokens\n",
        "        self.log_interval_tokens = config.train.log_interval_tokens\n",
        "\n",
        "        self.logger = Logger(log_dir=config.train.log_dir, run_name=config.train.run_name)\n",
        "        self._print_config_summary()\n",
        "\n",
        "        self.generation = config.generation\n",
        "\n",
        "        # Save config as a yaml file\n",
        "        with open(f'{self.logger.log_dir}/config.yaml', 'w') as f:\n",
        "            yaml.dump(asdict(config), f, sort_keys=False, indent=4)\n",
        "\n",
        "    def train(self):\n",
        "        \"\"\"\n",
        "        Main training loop that stops when total token count is reached.\n",
        "        \"\"\"\n",
        "        # Initial evaluation before any training\n",
        "        initial_loss = self.evaluate()\n",
        "        self.logger.log(initial_loss, initial_loss, 0)\n",
        "        print(f\"👶 [Initial] Train Loss (Untrained Model): {initial_loss:.4f}\\n\")\n",
        "\n",
        "        loss_train = MeanMetric()\n",
        "        self.model.train()\n",
        "        train_iter = cycle(self.train_loader)\n",
        "\n",
        "        step = 0\n",
        "        total_steps = self.config.train.total_tokens // (self.config.data.batch_size*self.config.data.seq_len) + 1\n",
        "        batches = 0\n",
        "        start_time = time.time()\n",
        "        total_time_elapsed = 0\n",
        "\n",
        "        with tqdm(total=self.total_tokens, desc=\"Training\", unit=\"t\") as pbar:\n",
        "            while self.seen_tokens < self.total_tokens:\n",
        "                # Get inputs\n",
        "                inputs = next(train_iter).to(self.device)\n",
        "\n",
        "                # Forward pass\n",
        "                logits = self.model(inputs[:, :-1])\n",
        "\n",
        "                # Calculate loss\n",
        "                loss = self.loss_fn(logits.view(-1, logits.shape[-1]), inputs[:, 1:].flatten())\n",
        "\n",
        "                # Backward pass\n",
        "                loss.backward()\n",
        "\n",
        "                # Clip gradients\n",
        "                nn.utils.clip_grad.clip_grad_norm_(self.model.parameters(), max_norm=1.)\n",
        "\n",
        "                # Determine and set the learning rate for this iteration\n",
        "                lr = get_lr(step, total_steps, self.config.optimizer)\n",
        "                for group in self.optimizer.param_groups:\n",
        "                    group['lr'] = lr\n",
        "\n",
        "                # Update model\n",
        "                self.optimizer.step()\n",
        "                self.optimizer.zero_grad()\n",
        "\n",
        "                # Calc running loss\n",
        "                loss_train.update(loss.item(), inputs.shape[0])\n",
        "\n",
        "                num_tokens_this_batch = inputs[:, :-1].numel()\n",
        "                self.seen_tokens += num_tokens_this_batch\n",
        "                self.token_eval_counter += num_tokens_this_batch\n",
        "                step += 1\n",
        "                batches += 1\n",
        "                elapsed = time.time() - start_time\n",
        "                batches_per_sec = batches / elapsed\n",
        "\n",
        "                pbar.set_postfix({\n",
        "                    \"B/S\": f\"{batches_per_sec:.2f}\",\n",
        "                    \"Loss\": f\"{loss_train.compute().item():.4f}\",\n",
        "                    \"LR\": f\"{self.optimizer.param_groups[0]['lr']:.2e}\",\n",
        "                })\n",
        "                pbar.update(num_tokens_this_batch)\n",
        "\n",
        "                # Evaluate & Generate & Log\n",
        "                if (self.token_eval_counter >= self.log_interval_tokens) or (self.seen_tokens >= self.total_tokens):\n",
        "                    total_time_elapsed += elapsed\n",
        "\n",
        "                    # Evaluate\n",
        "                    loss_valid = self.evaluate()\n",
        "                    print(f\"\\nValid Loss: {loss_valid:.4f}\")\n",
        "\n",
        "                    # Log\n",
        "                    self.logger.log(loss_train.compute().item(), loss_valid, self.seen_tokens, total_time_elapsed)\n",
        "                    self.logger.save(self.model, self.optimizer)\n",
        "\n",
        "                    # Generate\n",
        "                    if self.generation:\n",
        "                        self.generate()\n",
        "\n",
        "                    # Reset\n",
        "                    self.token_eval_counter = 0\n",
        "                    batches = 0\n",
        "                    start_time = time.time()\n",
        "\n",
        "        self.logger.plot()\n",
        "\n",
        "    def evaluate(self):\n",
        "        \"\"\"\n",
        "        Evaluate model on validation set.\n",
        "        \"\"\"\n",
        "        loss_valid = MeanMetric()\n",
        "        self.model.eval()\n",
        "        with torch.no_grad():\n",
        "            for inputs in self.valid_loader:\n",
        "                inputs = inputs.to(self.device)\n",
        "                logits = self.model(inputs[:, :-1])\n",
        "                loss = self.loss_fn(logits.view(-1, logits.shape[-1]), inputs[:, 1:].flatten())\n",
        "                loss_valid.update(loss.item(), inputs.shape[0])\n",
        "        return loss_valid.compute().item()\n",
        "\n",
        "    def generate(self):\n",
        "        \"\"\"\n",
        "        Generate and print text samples from the model.\n",
        "        \"\"\"\n",
        "        generated_texts = []\n",
        "        for prompt in self.generation.prompts:\n",
        "            gen_text = generate(\n",
        "                self.model, self.tokenizer, prompt,\n",
        "                n_rep=self.generation.n_rep,\n",
        "                max_seq_len=self.generation.max_seq_len,\n",
        "                T=self.generation.T, top_k=self.generation.top_k,\n",
        "                seed=self.generation.seed)\n",
        "            generated_texts.append(gen_text)\n",
        "        # TODO: Save\n",
        "        # Print\n",
        "        # print(150*'.')\n",
        "        # item = 0\n",
        "        # prompt0 = self.generation.prompts[item]\n",
        "        # for gen_text in generated_texts[item]:\n",
        "        #     print(colored(f\"\\n{prompt0}\", \"green\"), end='')\n",
        "        #     print(colored(f\"{gen_text[len(prompt0):]}\", \"cyan\"))\n",
        "        #     print(150*'.')\n",
        "        # print()\n",
        "        item = 0\n",
        "        prompt0 = self.generation.prompts[item]\n",
        "        gen_text0 = generated_texts[item][0]\n",
        "        print(colored(f\"\\n{prompt0}\", \"green\"), end='')\n",
        "        print(colored(f\"{gen_text0[len(prompt0):]}\", \"cyan\"))\n",
        "        print()\n",
        "\n",
        "    def _print_config_summary(self):\n",
        "        \"\"\"\n",
        "        Print a summary table of training configuration.\n",
        "        \"\"\"\n",
        "        table = PrettyTable()\n",
        "        table.title = \"Training Configuration Summary\"\n",
        "        table.field_names = [\"Component\", \"Details\"]\n",
        "        # Model\n",
        "        table.add_row([\"Model Type\", str(self.model.config).replace(\"Config\", \"\")])\n",
        "        # Optimizer\n",
        "        optimizer_name = self.optimizer.__class__.__name__\n",
        "        optimizer_params = ', '.join([f\"{k}={v}\" for k, v in self.optimizer.defaults.items() if k in [\"lr\", \"betas\", \"weight_decay\", \"fused\"]])\n",
        "        optimizer_display = f\"{optimizer_name}({optimizer_params})\"\n",
        "        table.add_row([\"Optimizer\", optimizer_display])\n",
        "        # Parameters\n",
        "        total_params = sum(p.numel() for p in self.model.parameters())\n",
        "        te_params = self.model.wte.weight.numel()\n",
        "        table.add_row([\"Total Parameters (Tr+TE)\", f\"{total_params:,} ({total_params-te_params:,}+{te_params:,})\"])\n",
        "\n",
        "        table.add_row([\"Loss Function\", self.loss_fn.__name__ if hasattr(self.loss_fn, '__name__') else str(self.loss_fn)])\n",
        "        table.add_row([\"Batch Shape\", f\"{self.train_loader.batch_size}x{self.train_loader.dataset[0].shape[-1]-1}\"])\n",
        "        table.add_row([\"Device\", self.device])\n",
        "        table.add_row([\"Max Tokens\", f\"{self.total_tokens:,}\"])\n",
        "        table.add_row([\"Log Interval Tokens\", f\"{self.log_interval_tokens:,}\"])\n",
        "        print(table)"
      ],
      "metadata": {
        "colab": {
          "base_uri": "https://localhost:8080/"
        },
        "id": "_6nuZ2JsE5d8",
        "outputId": "ea2d1418-1088-4a3d-f678-10c059902190"
      },
      "execution_count": null,
      "outputs": [
        {
          "output_type": "display_data",
          "data": {
            "text/plain": [
              "<IPython.core.display.HTML object>"
            ],
            "text/html": [
              "<style>\n",
              "    body {\n",
              "      font-size: 20px;\n",
              "    }\n",
              "  "
            ]
          },
          "metadata": {}
        }
      ]
    },
    {
      "cell_type": "markdown",
      "metadata": {
        "id": "oX-PL19qWp4r"
      },
      "source": [
        "## 🟠 Optimizer"
      ]
    },
    {
      "cell_type": "code",
      "source": [
        "def configure_optimizer(model, config: OptimizerConfig):\n",
        "    # start with all of the candidate parameters (that require grad)\n",
        "    param_dict = {n: p for n, p in model.named_parameters() if p.requires_grad}\n",
        "\n",
        "    # create optim groups. Any parameters that is 2D will be weight decayed, otherwise no.\n",
        "    # i.e. all weight tensors in matmuls + embeddings decay, all biases and layernorms don't.\n",
        "    decay_params = [p for _, p in param_dict.items() if p.ndim >= 2]\n",
        "    nodecay_params = [p for _, p in param_dict.items() if p.ndim < 2]\n",
        "\n",
        "    optim_groups = [\n",
        "        {\"params\": decay_params, \"weight_decay\": config.weight_decay},\n",
        "        {\"params\": nodecay_params, \"weight_decay\": 0.0}\n",
        "    ]\n",
        "\n",
        "    num_decay_params = sum(p.numel() for p in decay_params)\n",
        "    num_nodecay_params = sum(p.numel() for p in nodecay_params)\n",
        "    print(f\"🔹 num decayed parameter tensors: {len(decay_params)}, with {num_decay_params:,} parameters\")\n",
        "    print(f\"🔹 num non-decayed parameter tensors: {len(nodecay_params)}, with {num_nodecay_params:,} parameters\")\n",
        "\n",
        "    # Define Optimizer\n",
        "    optimizer = torch.optim.AdamW(\n",
        "        optim_groups,\n",
        "        lr=config.max_lr,\n",
        "        betas=config.betas,\n",
        "        fused=config.fused)\n",
        "\n",
        "    return optimizer"
      ],
      "metadata": {
        "id": "9iTdKDg9xgK4",
        "colab": {
          "base_uri": "https://localhost:8080/"
        },
        "outputId": "f84866f4-6d0e-4e6f-c69d-092a4836d413"
      },
      "execution_count": null,
      "outputs": [
        {
          "output_type": "display_data",
          "data": {
            "text/plain": [
              "<IPython.core.display.HTML object>"
            ],
            "text/html": [
              "<style>\n",
              "    body {\n",
              "      font-size: 20px;\n",
              "    }\n",
              "  "
            ]
          },
          "metadata": {}
        }
      ]
    },
    {
      "cell_type": "code",
      "source": [
        "def get_lr(step, total_steps, config: OptimizerConfig):\n",
        "    assert step <= total_steps\n",
        "\n",
        "    # 1. Linear warmup for warmup_steps\n",
        "    if step < config.warmup_steps:\n",
        "        return config.max_lr * (step+1) / config.warmup_steps\n",
        "\n",
        "    # 2. Linear decay down to min learning rate\n",
        "    decay_ratio = (step - config.warmup_steps) / (total_steps - config.warmup_steps) # [0, 1]\n",
        "    assert 0 <= decay_ratio <= 1\n",
        "    return config.max_lr * (config.alpha + (1 - decay_ratio)) / (config.alpha + 1)"
      ],
      "metadata": {
        "colab": {
          "base_uri": "https://localhost:8080/"
        },
        "id": "6Bz_rp-m3eMN",
        "outputId": "5cc4ac18-d74c-431f-bbd8-2cfc3a0cec08"
      },
      "execution_count": null,
      "outputs": [
        {
          "output_type": "display_data",
          "data": {
            "text/plain": [
              "<IPython.core.display.HTML object>"
            ],
            "text/html": [
              "<style>\n",
              "    body {\n",
              "      font-size: 20px;\n",
              "    }\n",
              "  "
            ]
          },
          "metadata": {}
        }
      ]
    },
    {
      "cell_type": "markdown",
      "metadata": {
        "id": "LfdeZV28aamI"
      },
      "source": [
        "## 🟠 Generate"
      ]
    },
    {
      "cell_type": "code",
      "source": [
        "def generate(model, tokenizer, prompt, n_rep=5, max_seq_len=128, T=0.9, top_k=10, device='cuda', seed=42):\n",
        "    # Get the token ID for <|endoftext|>\n",
        "    eot_token_id = tokenizer.encode(\"<|endoftext|>\").ids[0]\n",
        "\n",
        "    # Tokenize the prompt and convert it to a tensor on the specified device (e.g., GPU)\n",
        "    inputs = torch.tensor(tokenizer.encode(prompt).ids, dtype=torch.int, device=device)  # Shape: [T]\n",
        "\n",
        "    # Repeat the input prompt n_rep times to generate multiple sequences in parallel\n",
        "    inputs = inputs.unsqueeze(0).repeat(n_rep, 1)  # Shape: [B, T] where B = n_rep\n",
        "\n",
        "    # Set the model to evaluation mode\n",
        "    model.eval()\n",
        "\n",
        "    # Initialize a random number generator for sampling\n",
        "    sample_rng = torch.Generator(device=device)\n",
        "    sample_rng.manual_seed(seed)\n",
        "\n",
        "    # Track which sequences are still active\n",
        "    is_finished = torch.zeros(n_rep, dtype=torch.bool, device=device)\n",
        "\n",
        "    # Disable gradient calculation for faster inference\n",
        "    with torch.no_grad():\n",
        "        # Continue generating tokens until reaching the maximum sequence length\n",
        "        while inputs.shape[-1] < max_seq_len:\n",
        "            # Forward pass: get logits from the model\n",
        "            logits = model(inputs)  # Shape: [B, T, vocab_size]\n",
        "\n",
        "            # Apply temperature scaling and softmax to get probabilities for the next token\n",
        "            probs = torch.softmax(logits[:, -1, :] / T, dim=-1)  # Shape: [B, vocab_size]\n",
        "\n",
        "            # Select the top_k tokens with the highest probabilities\n",
        "            topk_probs, topk_indices = torch.topk(probs, k=top_k, dim=-1)  # Shape: [B, top_k]\n",
        "\n",
        "            # Sample one token from the top_k candidates based on their probabilities\n",
        "            sampled = torch.multinomial(topk_probs, 1, generator=sample_rng)  # Shape: [B, 1]\n",
        "\n",
        "            # Map the sampled indices back to the original token IDs\n",
        "            next_token = torch.gather(topk_indices, -1, sampled).squeeze(-1) # Shape: [B]\n",
        "\n",
        "            # For finished sequences, force pad with eot_token_id again to avoid changing inputs\n",
        "            next_token = torch.where(is_finished, torch.tensor(eot_token_id, device=device), next_token)\n",
        "\n",
        "            # Update finished mask\n",
        "            is_finished = is_finished | (next_token == eot_token_id)\n",
        "\n",
        "            # Append the sampled tokens to the input sequence\n",
        "            inputs = torch.cat((inputs, next_token.unsqueeze(-1)), dim=-1)  # Shape: [B, T+1]\n",
        "\n",
        "    # Decode the generated sequences back into text\n",
        "    generated_text = tokenizer.decode_batch(inputs.tolist())\n",
        "\n",
        "    return generated_text"
      ],
      "metadata": {
        "id": "q8AHJrxFTfs2",
        "colab": {
          "base_uri": "https://localhost:8080/"
        },
        "outputId": "66e216db-d545-4226-88af-448b7514f0a6"
      },
      "execution_count": null,
      "outputs": [
        {
          "output_type": "display_data",
          "data": {
            "text/plain": [
              "<IPython.core.display.HTML object>"
            ],
            "text/html": [
              "<style>\n",
              "    body {\n",
              "      font-size: 20px;\n",
              "    }\n",
              "  "
            ]
          },
          "metadata": {}
        }
      ]
    },
    {
      "cell_type": "code",
      "source": [
        "def display_chat_style(prompt, generated_text, tokenizer, delay=0.03):\n",
        "    \"\"\"\n",
        "    Display generated text in a token-by-token ChatGPT-like style:\n",
        "    - prompt in green\n",
        "    - generated continuation in blue\n",
        "    \"\"\"\n",
        "    for i, full_text in enumerate(generated_text):\n",
        "        print(colored(f\"\\n[Sample {i+1}]\", \"yellow\"))\n",
        "        input_ids = tokenizer.encode(prompt).ids\n",
        "        full_ids = tokenizer.encode(full_text).ids\n",
        "\n",
        "        # Split into prompt tokens and continuation\n",
        "        prompt_tokens = full_ids[:len(input_ids)]\n",
        "        continuation_tokens = full_ids[len(input_ids):]\n",
        "\n",
        "        # Decode tokens separately\n",
        "        prompt_text = tokenizer.decode(prompt_tokens)\n",
        "        cont_tokens_text = [tokenizer.decode([tid]) for tid in continuation_tokens]\n",
        "\n",
        "        # Print prompt in green\n",
        "        sys.stdout.write(colored(prompt_text, 'green'))\n",
        "        sys.stdout.flush()\n",
        "\n",
        "        # Print continuation token-by-token in blue\n",
        "        for token in cont_tokens_text:\n",
        "            sys.stdout.write(colored(token, 'cyan'))\n",
        "            sys.stdout.flush()\n",
        "            time.sleep(delay)\n",
        "        print()"
      ],
      "metadata": {
        "colab": {
          "base_uri": "https://localhost:8080/"
        },
        "id": "ItFI4ge5p_Tg",
        "outputId": "2deeb786-5f3a-4d80-8078-3c0e8261adb3"
      },
      "execution_count": null,
      "outputs": [
        {
          "output_type": "display_data",
          "data": {
            "text/plain": [
              "<IPython.core.display.HTML object>"
            ],
            "text/html": [
              "<style>\n",
              "    body {\n",
              "      font-size: 20px;\n",
              "    }\n",
              "  "
            ]
          },
          "metadata": {}
        }
      ]
    },
    {
      "cell_type": "markdown",
      "metadata": {
        "id": "4hafbAF356Xv"
      },
      "source": [
        "# 🔴 **Training Process 〽️**"
      ]
    },
    {
      "cell_type": "code",
      "source": [
        "torch.cuda.empty_cache()"
      ],
      "metadata": {
        "id": "t5pYKteTi-1x",
        "colab": {
          "base_uri": "https://localhost:8080/",
          "height": 17
        },
        "outputId": "f052ad42-6287-4f56-cdc4-e27b401879f8"
      },
      "execution_count": null,
      "outputs": [
        {
          "output_type": "display_data",
          "data": {
            "text/plain": [
              "<IPython.core.display.HTML object>"
            ],
            "text/html": [
              "<style>\n",
              "    body {\n",
              "      font-size: 20px;\n",
              "    }\n",
              "  "
            ]
          },
          "metadata": {}
        }
      ]
    },
    {
      "cell_type": "code",
      "source": [
        "cfg = MasterConfig(\n",
        "\n",
        "    data=DatasetConfig(\n",
        "        train_path='tokenized-train-samples_vocab-10k.pt',\n",
        "        valid_path='tokenized-valid-samples_vocab-10k.pt',\n",
        "        tokenizer_path='bpe-tokenizer_tinystories.json',\n",
        "        batch_size=48,\n",
        "        seq_len=512),\n",
        "\n",
        "    model=GPTConfig(\n",
        "        vocab_size=10_000,\n",
        "        max_seq_len=1024,\n",
        "        n_layer=8,\n",
        "        n_head=16,\n",
        "        n_embd=128,\n",
        "        f_expnd=4),\n",
        "\n",
        "    optimizer=OptimizerConfig(\n",
        "        max_lr=0.06,\n",
        "        betas=(0.9, 0.95),\n",
        "        weight_decay=0.1,\n",
        "        fused=True),\n",
        "\n",
        "    train=TrainConfig(\n",
        "        seed=42,\n",
        "        device='cuda',\n",
        "        total_tokens=65_000_000,\n",
        "        log_interval_tokens=10_000_000,\n",
        "        log_dir='logs',\n",
        "        run_name='gpt2_tinystories_lr'),\n",
        "\n",
        "    generation=GenerationConfig(\n",
        "        prompts=['In last'],\n",
        "        T=0.9,\n",
        "        max_seq_len=512,\n",
        "        top_k=10,\n",
        "        n_rep=3,\n",
        "        seed=42)\n",
        "    )"
      ],
      "metadata": {
        "id": "8oeA0tN819pD",
        "colab": {
          "base_uri": "https://localhost:8080/",
          "height": 17
        },
        "outputId": "3c0a9bc7-1ef1-4498-8f89-070cf973f5b9"
      },
      "execution_count": null,
      "outputs": [
        {
          "output_type": "display_data",
          "data": {
            "text/plain": [
              "<IPython.core.display.HTML object>"
            ],
            "text/html": [
              "<style>\n",
              "    body {\n",
              "      font-size: 20px;\n",
              "    }\n",
              "  "
            ]
          },
          "metadata": {}
        }
      ]
    },
    {
      "cell_type": "code",
      "source": [
        "# Set a manual seed for reproducibility across runs\n",
        "torch.manual_seed(cfg.train.seed)\n",
        "\n",
        "# Load pre-tokenized training and validation token IDs from disk\n",
        "train_token_ids = torch.load(cfg.data.train_path)\n",
        "valid_token_ids = torch.load(cfg.data.valid_path)\n",
        "\n",
        "print(\"📊 Number of Tokens\")\n",
        "print(f\"🔹 Train: {len(train_token_ids):,} tokens\")\n",
        "print(f\"🔹 Valid: {len(valid_token_ids):,} tokens\")\n",
        "print()\n",
        "\n",
        "\n",
        "# Create dataset instances with fixed-length sequences\n",
        "train_set = TinyStoriesDataset(train_token_ids, cfg.data.seq_len)\n",
        "valid_set = TinyStoriesDataset(valid_token_ids, cfg.data.seq_len)\n",
        "\n",
        "\n",
        "# Create DataLoaders for batching and shuffling during training\n",
        "train_loader = DataLoader(train_set, batch_size=cfg.data.batch_size, shuffle=True, pin_memory=True)\n",
        "valid_loader = DataLoader(valid_set, batch_size=cfg.data.batch_size, shuffle=False, pin_memory=True)\n",
        "\n",
        "print(f\"📊 Number of Batches\")\n",
        "print(f\"🔹 Train: {len(train_loader):,} batches\")\n",
        "print(f\"🔹 Valid: {len(valid_loader):,} batches\")"
      ],
      "metadata": {
        "id": "9FQ8l4rrK2nW",
        "colab": {
          "base_uri": "https://localhost:8080/",
          "height": 198
        },
        "outputId": "89310dfb-86f0-4986-cc82-7d8f22d8995c"
      },
      "execution_count": null,
      "outputs": [
        {
          "output_type": "display_data",
          "data": {
            "text/plain": [
              "<IPython.core.display.HTML object>"
            ],
            "text/html": [
              "<style>\n",
              "    body {\n",
              "      font-size: 20px;\n",
              "    }\n",
              "  "
            ]
          },
          "metadata": {}
        },
        {
          "output_type": "stream",
          "name": "stdout",
          "text": [
            "📊 Number of Tokens\n",
            "🔹 Train: 464,965,814 tokens\n",
            "🔹 Valid: 4,673,588 tokens\n",
            "\n",
            "📊 Number of Batches\n",
            "🔹 Train: 18,883 batches\n",
            "🔹 Valid: 190 batches\n"
          ]
        }
      ]
    },
    {
      "cell_type": "code",
      "source": [
        "tokenizer = Tokenizer.from_file(cfg.data.tokenizer_path)"
      ],
      "metadata": {
        "id": "xpsiToA77Vex",
        "colab": {
          "base_uri": "https://localhost:8080/",
          "height": 17
        },
        "outputId": "53b589a7-4285-47ce-c8bc-0421f1e54014"
      },
      "execution_count": null,
      "outputs": [
        {
          "output_type": "display_data",
          "data": {
            "text/plain": [
              "<IPython.core.display.HTML object>"
            ],
            "text/html": [
              "<style>\n",
              "    body {\n",
              "      font-size: 20px;\n",
              "    }\n",
              "  "
            ]
          },
          "metadata": {}
        }
      ]
    },
    {
      "cell_type": "code",
      "source": [
        "model = GPT(cfg.model).to(cfg.train.device)\n",
        "\n",
        "print(model)\n",
        "print(f\"\\n📊 Number of Parameters: {num_trainable_params(model):.2f}M\")"
      ],
      "metadata": {
        "id": "i7zJv8yJEBLl",
        "collapsed": true,
        "colab": {
          "base_uri": "https://localhost:8080/",
          "height": 585
        },
        "outputId": "741a14bd-4082-4742-8b82-473752ab96cd"
      },
      "execution_count": null,
      "outputs": [
        {
          "output_type": "display_data",
          "data": {
            "text/plain": [
              "<IPython.core.display.HTML object>"
            ],
            "text/html": [
              "<style>\n",
              "    body {\n",
              "      font-size: 20px;\n",
              "    }\n",
              "  "
            ]
          },
          "metadata": {}
        },
        {
          "output_type": "stream",
          "name": "stdout",
          "text": [
            "GPT(\n",
            "  (wte): Embedding(10000, 128)\n",
            "  (wpe): Embedding(1024, 128)\n",
            "  (decoders): ModuleList(\n",
            "    (0-7): 8 x DecoderBlock(\n",
            "      (ln1): LayerNorm((128,), eps=1e-05, elementwise_affine=True)\n",
            "      (mha): MultiHeadAttention(\n",
            "        (qkv_proj): Linear(in_features=128, out_features=384, bias=False)\n",
            "        (c_proj): Linear(in_features=128, out_features=128, bias=False)\n",
            "      )\n",
            "      (ln2): LayerNorm((128,), eps=1e-05, elementwise_affine=True)\n",
            "      (mlp): FeedForward(\n",
            "        (up_proj): Linear(in_features=128, out_features=512, bias=False)\n",
            "        (down_proj): Linear(in_features=512, out_features=128, bias=False)\n",
            "      )\n",
            "    )\n",
            "  )\n",
            "  (lnf): LayerNorm((128,), eps=1e-05, elementwise_affine=True)\n",
            "  (lm_head): Linear(in_features=128, out_features=10000, bias=False)\n",
            ")\n",
            "\n",
            "📊 Number of Parameters: 2.99M\n"
          ]
        }
      ]
    },
    {
      "cell_type": "code",
      "execution_count": null,
      "metadata": {
        "id": "ketNqGoLsK2U",
        "collapsed": true,
        "colab": {
          "base_uri": "https://localhost:8080/",
          "height": 714
        },
        "outputId": "b9ab677a-2674-4ac3-b810-7cbbdc7c229b"
      },
      "outputs": [
        {
          "output_type": "display_data",
          "data": {
            "text/plain": [
              "<IPython.core.display.HTML object>"
            ],
            "text/html": [
              "<style>\n",
              "    body {\n",
              "      font-size: 20px;\n",
              "    }\n",
              "  "
            ]
          },
          "metadata": {}
        },
        {
          "output_type": "stream",
          "name": "stdout",
          "text": [
            "🔹 num decayed parameter tensors: 34, with 2,983,936 parameters\n",
            "🔹 num non-decayed parameter tensors: 34, with 4,352 parameters\n"
          ]
        },
        {
          "output_type": "execute_result",
          "data": {
            "text/plain": [
              "AdamW (\n",
              "Parameter Group 0\n",
              "    amsgrad: False\n",
              "    betas: (0.9, 0.95)\n",
              "    capturable: False\n",
              "    differentiable: False\n",
              "    eps: 1e-08\n",
              "    foreach: None\n",
              "    fused: True\n",
              "    lr: 0.06\n",
              "    maximize: False\n",
              "    weight_decay: 0.1\n",
              "\n",
              "Parameter Group 1\n",
              "    amsgrad: False\n",
              "    betas: (0.9, 0.95)\n",
              "    capturable: False\n",
              "    differentiable: False\n",
              "    eps: 1e-08\n",
              "    foreach: None\n",
              "    fused: True\n",
              "    lr: 0.06\n",
              "    maximize: False\n",
              "    weight_decay: 0.0\n",
              ")"
            ]
          },
          "metadata": {},
          "execution_count": 33
        }
      ],
      "source": [
        "optimizer = configure_optimizer(model, cfg.optimizer)\n",
        "optimizer"
      ]
    },
    {
      "cell_type": "code",
      "source": [
        "trainer = LLMTrainer(model, optimizer, train_loader, valid_loader, tokenizer, config=cfg)"
      ],
      "metadata": {
        "id": "JMG2LHw6x4Rg",
        "colab": {
          "base_uri": "https://localhost:8080/",
          "height": 378
        },
        "outputId": "52cd2292-4732-47e1-c48d-a32051d4b5b9"
      },
      "execution_count": null,
      "outputs": [
        {
          "output_type": "display_data",
          "data": {
            "text/plain": [
              "<IPython.core.display.HTML object>"
            ],
            "text/html": [
              "<style>\n",
              "    body {\n",
              "      font-size: 20px;\n",
              "    }\n",
              "  "
            ]
          },
          "metadata": {}
        },
        {
          "output_type": "stream",
          "name": "stdout",
          "text": [
            "+-----------------------------------------------------------------------------------------------------------------+\n",
            "|                                          Training Configuration Summary                                         |\n",
            "+--------------------------+--------------------------------------------------------------------------------------+\n",
            "|        Component         |                                       Details                                        |\n",
            "+--------------------------+--------------------------------------------------------------------------------------+\n",
            "|        Model Type        | GPT(vocab_size=10000, max_seq_len=1024, n_layer=8, n_head=16, n_embd=128, f_expnd=4) |\n",
            "|        Optimizer         |           AdamW(lr=0.06, betas=(0.9, 0.95), weight_decay=0.01, fused=True)           |\n",
            "| Total Parameters (Tr+TE) |                           2,988,288 (1,708,288+1,280,000)                            |\n",
            "|      Loss Function       |                                    cross_entropy                                     |\n",
            "|       Batch Shape        |                                        48x512                                        |\n",
            "|          Device          |                                         cuda                                         |\n",
            "|        Max Tokens        |                                      65,000,000                                      |\n",
            "|   Log Interval Tokens    |                                      10,000,000                                      |\n",
            "+--------------------------+--------------------------------------------------------------------------------------+\n"
          ]
        }
      ]
    },
    {
      "cell_type": "code",
      "source": [
        "trainer.train()"
      ],
      "metadata": {
        "id": "4_N1nGVk7mtH",
        "colab": {
          "base_uri": "https://localhost:8080/",
          "height": 1000
        },
        "outputId": "755dd7ec-eb25-43e7-8582-ead5f9ea1d5b"
      },
      "execution_count": null,
      "outputs": [
        {
          "output_type": "display_data",
          "data": {
            "text/plain": [
              "<IPython.core.display.HTML object>"
            ],
            "text/html": [
              "<style>\n",
              "    body {\n",
              "      font-size: 20px;\n",
              "    }\n",
              "  "
            ]
          },
          "metadata": {}
        },
        {
          "output_type": "stream",
          "name": "stderr",
          "text": [
            "C:\\Users\\Howsam\\AppData\\Local\\Temp\\ipykernel_7508\\2308121339.py:18: UserWarning: 1Torch was not compiled with flash attention. (Triggered internally at C:\\cb\\pytorch_1000000000000\\work\\aten\\src\\ATen\\native\\transformers\\cuda\\sdp_utils.cpp:455.)\n",
            "  y = F.scaled_dot_product_attention(q, k, v, is_causal=True)\n"
          ]
        },
        {
          "output_type": "stream",
          "name": "stdout",
          "text": [
            "👶 [Initial] Train Loss (Untrained Model): 9.2157\n",
            "\n"
          ]
        },
        {
          "output_type": "stream",
          "name": "stderr",
          "text": [
            "Training:  15%|███▍                  | 10002432/65000000 [01:42<09:18, 98458.97t/s, B/S=3.97, Loss=4.7474, LR=5.66e-02]"
          ]
        },
        {
          "output_type": "stream",
          "name": "stdout",
          "text": [
            "\n",
            "Valid Loss: 4.8098\n",
            "✅ Model Saved!\n"
          ]
        },
        {
          "output_type": "display_data",
          "data": {
            "text/plain": [
              "<Figure size 1000x500 with 1 Axes>"
            ],
            "image/png": "[encoded data removed]"
          },
          "metadata": {}
        },
        {
          "output_type": "stream",
          "name": "stderr",
          "text": [
            "\rTraining:  15%|███▍                  | 10002432/65000000 [02:00<09:18, 98458.97t/s, B/S=3.97, Loss=4.7474, LR=5.66e-02]"
          ]
        },
        {
          "output_type": "stream",
          "name": "stdout",
          "text": [
            "\u001b[32m\n",
            "In last\u001b[0m\u001b[36m.. he. the wanted is, and saw. the dog and says says. The boy the sky's. They She and Ben,. They he is too says is a more in the garden them, but the dog the girl in the park.\n",
            "\n",
            "\n",
            "\n",
            "\n",
            "\n",
            "\n",
            "\n",
            "He had the grass he was very happy her mum.\n",
            "\n",
            "\n",
            " They she was a back the sun back they the sky the dog.\n",
            "\n",
            "\n",
            "\n",
            "Lily. She said, a very happy, he had to the room the ball.\n",
            "\"It a fun\n",
            "\" was happy\n",
            "Lily.\n",
            "\n",
            "\n",
            "\n",
            "\n",
            "They says he wants not. She said, he wants to the park. They. They and she is the garden, the dad is notWe is a very mom says they says, but we. the car, my She says, she is a and a not like her mom says, he says the ball is with her mommy and Tom says. They to play\n",
            "\n",
            "\n",
            "\n",
            "\n",
            "\n",
            "\"Can sorry the garden, they could said, they says, but the family, \", but they the garden, she and my\n",
            "\n",
            "\n",
            "\n",
            "\n",
            " Ben was sorry the dog and said.\n",
            "\n",
            "\n",
            "\n",
            "\n",
            "\n",
            "\n",
            "\n",
            "\n",
            "The mom was happy to the mom says, \"You, \"You is the sky. They, but she says.\n",
            "\" and Ben said, but he wants to the park was happy the dog. She was a very good fun, \"Let was very sad, she said, there and they says.\u001b[0m\n",
            "\n"
          ]
        },
        {
          "output_type": "stream",
          "name": "stderr",
          "text": [
            "Training:  31%|██████▊               | 20004864/65000000 [03:42<08:04, 92943.29t/s, B/S=3.97, Loss=4.7425, LR=4.73e-02]"
          ]
        },
        {
          "output_type": "stream",
          "name": "stdout",
          "text": [
            "\n",
            "Valid Loss: 4.9074\n"
          ]
        },
        {
          "output_type": "display_data",
          "data": {
            "text/plain": [
              "<Figure size 1000x500 with 1 Axes>"
            ],
            "image/png": "[encoded data removed]"
          },
          "metadata": {}
        },
        {
          "output_type": "stream",
          "name": "stdout",
          "text": [
            "\u001b[32m\n",
            "In last\u001b[0m\u001b[36m.\n",
            ".\n",
            ".\n",
            "He loved, her fun,, but\n",
            "When she\n",
            "\n",
            " Lily and Lily. The dog\n",
            "The little little and upon so She said, she. \n",
            "\n",
            "He in Lily mommy.\n",
            "Lily with Lily mommy, \"Yes, \"Yes.\n",
            "\n",
            "\n",
            "They the little was and said, \"No on her girl said, Lily is a big, Lily's be of but it and Ben says were it was a loud.\u001b[0m\n",
            "\n"
          ]
        },
        {
          "output_type": "stream",
          "name": "stderr",
          "text": [
            "Training:  46%|██████████▏           | 30007296/65000000 [06:00<06:23, 91329.96t/s, B/S=3.72, Loss=4.7613, LR=3.80e-02]"
          ]
        },
        {
          "output_type": "stream",
          "name": "stdout",
          "text": [
            "\n",
            "Valid Loss: 4.8234\n"
          ]
        },
        {
          "output_type": "display_data",
          "data": {
            "text/plain": [
              "<Figure size 1000x500 with 1 Axes>"
            ],
            "image/png": "[encoded data removed]"
          },
          "metadata": {}
        },
        {
          "output_type": "stream",
          "name": "stdout",
          "text": [
            "\u001b[32m\n",
            "In last\u001b[0m\u001b[36m the\n",
            " was the bird\n",
            " in to. was and\n",
            "\n",
            "\n",
            "\n",
            "The day, and that it and\n",
            ",\n",
            "\n",
            ".\n",
            "\n",
            ". Lily and was so. He didn He was. One and dad.\n",
            "\n",
            "\n",
            "They was very\n",
            "\n",
            "\n",
            "\n",
            "\n",
            "\n",
            "\n",
            "\n",
            "\n",
            "From happy to have, and said he got that and her, they got to.\n",
            "\n",
            "\n",
            "The friends to, and a bird.\n",
            "\n",
            "\n",
            "\n",
            "He.\n",
            "\n",
            "\n",
            "Her bear and. It. He was proud to.\n",
            "The. The mom's mom and it to the bird.\n",
            "\n",
            "\n",
            "\n",
            "\n",
            "\n",
            "\n",
            "\n",
            "\n",
            " day. He wanted to. You will big mom.\n",
            ". She was the ground and.\n",
            "\n",
            "\n",
            "\n",
            "The day to go was.\n",
            "\"I don you. She was so sad. She is so she\n",
            "\" \"Thank.\n",
            " and said. He did the other her eyes was very excited. They said, \"That, he, they saw her mom is you, the big. You!\" He said and said, \"No says. They. You. They were so happy at worry. They are you have you want.\n",
            "\n",
            "\"You and the other.\n",
            "\n",
            "\n",
            "\"Look. He did a big big big and said to the bird says and the day to go. She and the bird. She was happy.\n",
            "\n",
            "\n",
            "\"No's okay. She is you.\n",
            "\n",
            "\"\n",
            "\n",
            "\n",
            "\n",
            "\n",
            "\"I did the ground and Tom's okay and you and it and dad is the big day. The mom said, they\n",
            "\n",
            "The room.\"\n",
            "\n",
            "\"I\n",
            "\n",
            "\n",
            "\n",
            "\n",
            "\n",
            "Tom. You and said, and they both not not the park said. He was so proud a long careful. She are to get and the ground and said.\n",
            "\n",
            "Lily says. She is big park. It.\n",
            "\"\n",
            "\"Maybe!\" He says. \"I like proud their man.\n",
            "\n",
            "\"It's important, and said. She did not a good and said. It says. He had a time, \"I love a little bit you are you and Tom. They said and dad is good the sun said to, and said. It. They want to. You and it.\" She did not. You are the park and the big bird. It was too and Lily.\n",
            "\"Look. He says.\n",
            "\n",
            "\n",
            "\n",
            "\"OK. He was too and Ben.\n",
            "\n",
            "\n",
            "Sara says. It\u001b[0m\n",
            "\n"
          ]
        },
        {
          "output_type": "stream",
          "name": "stderr",
          "text": [
            "Training:  62%|█████████████▌        | 40009728/65000000 [07:56<04:31, 92122.13t/s, B/S=3.71, Loss=4.7574, LR=2.87e-02]"
          ]
        },
        {
          "output_type": "stream",
          "name": "stdout",
          "text": [
            "\n",
            "Valid Loss: 4.8550\n"
          ]
        },
        {
          "output_type": "display_data",
          "data": {
            "text/plain": [
              "<Figure size 1000x500 with 1 Axes>"
            ],
            "image/png": "[encoded data removed]"
          },
          "metadata": {}
        },
        {
          "output_type": "stream",
          "name": "stderr",
          "text": [
            "\rTraining:  62%|█████████████▌        | 40009728/65000000 [08:10<04:31, 92122.13t/s, B/S=3.71, Loss=4.7574, LR=2.87e-02]"
          ]
        },
        {
          "output_type": "stream",
          "name": "stdout",
          "text": [
            "\u001b[32m\n",
            "In last\u001b[0m\u001b[36m. day she was the old with mom. it her his a big. It.\u001b[0m\n",
            "\n"
          ]
        },
        {
          "output_type": "stream",
          "name": "stderr",
          "text": [
            "Training:  77%|████████████████▉     | 50012160/65000000 [10:01<02:40, 93124.30t/s, B/S=3.77, Loss=4.7871, LR=1.94e-02]"
          ]
        },
        {
          "output_type": "stream",
          "name": "stdout",
          "text": [
            "\n",
            "Valid Loss: 4.8640\n"
          ]
        },
        {
          "output_type": "display_data",
          "data": {
            "text/plain": [
              "<Figure size 1000x500 with 1 Axes>"
            ],
            "image/png": "[encoded data removed]"
          },
          "metadata": {}
        },
        {
          "output_type": "stream",
          "name": "stdout",
          "text": [
            "\u001b[32m\n",
            "In last\u001b[0m\u001b[36m.. a.\n",
            "\n",
            "'s,. He's mom and, Lily's She to a fun to had to mom was. They learned and said she a the box. They be happy park and their. He was a mom had their. She not and she heard.\n",
            "\n",
            "\n",
            "\n",
            ", they and had very to the big to a big. She felt to to so to play to not day to a time to the ground. She was scared, but.\n",
            "\n",
            "She was very named a fun the park he found the box and said to the way. He a big. The. the the.\n",
            "\n",
            "\n",
            ". He.\u001b[0m\n",
            "\n"
          ]
        },
        {
          "output_type": "stream",
          "name": "stderr",
          "text": [
            "Training:  92%|████████████████████▎ | 60014592/65000000 [12:05<00:53, 93532.70t/s, B/S=3.79, Loss=4.7886, LR=1.01e-02]"
          ]
        },
        {
          "output_type": "stream",
          "name": "stdout",
          "text": [
            "\n",
            "Valid Loss: 4.5964\n",
            "✅ Model Saved!\n"
          ]
        },
        {
          "output_type": "display_data",
          "data": {
            "text/plain": [
              "<Figure size 1000x500 with 1 Axes>"
            ],
            "image/png": "[encoded data removed]"
          },
          "metadata": {}
        },
        {
          "output_type": "stream",
          "name": "stderr",
          "text": [
            "\rTraining:  92%|████████████████████▎ | 60014592/65000000 [12:20<00:53, 93532.70t/s, B/S=3.79, Loss=4.7886, LR=1.01e-02]"
          ]
        },
        {
          "output_type": "stream",
          "name": "stdout",
          "text": [
            "\u001b[32m\n",
            "In last\u001b[0m\u001b[36m. She could the. and he they had, he and said, \", \"Yes, the floor you.\u001b[0m\n",
            "\n"
          ]
        },
        {
          "output_type": "stream",
          "name": "stderr",
          "text": [
            "Training: 65003520t [13:16, 93184.31t/s, B/S=3.79, Loss=4.7661, LR=5.48e-03]                                           "
          ]
        },
        {
          "output_type": "stream",
          "name": "stdout",
          "text": [
            "\n",
            "Valid Loss: 4.4113\n",
            "✅ Model Saved!\n"
          ]
        },
        {
          "output_type": "display_data",
          "data": {
            "text/plain": [
              "<Figure size 1000x500 with 1 Axes>"
            ],
            "image/png": "[encoded data removed]"
          },
          "metadata": {}
        },
        {
          "output_type": "stream",
          "name": "stderr",
          "text": [
            "Training: 65003520t [13:32, 79955.66t/s, B/S=3.79, Loss=4.7661, LR=5.48e-03]"
          ]
        },
        {
          "output_type": "stream",
          "name": "stdout",
          "text": [
            "\u001b[32m\n",
            "In last\u001b[0m\u001b[36m the bird a the bird. It could the ball.. He is and a \"Wow. They were we have, you.\n",
            "\n",
            "\n",
            "\"But you do the floor and dad!\"\n",
            "Mom's mom is not want said, she. He says.\n",
            "\"You. \"No to see Ben know, and Ben says to her friends, \"Yes, we're you can have to go.\" He said. \", \"You to the garden the slide to the kitchen'm my and Lily. They say. \"Thank the box and said the water. They say to go to make other and the kitchen. They were playing in the the tree, \"You. They were happy. They were their like the best to play to the to the best and they did not see. They are happy and a big. They and happy.\u001b[0m\n",
            "\n"
          ]
        },
        {
          "output_type": "stream",
          "name": "stderr",
          "text": [
            "\n"
          ]
        },
        {
          "output_type": "display_data",
          "data": {
            "text/plain": [
              "<Figure size 1000x500 with 1 Axes>"
            ],
            "image/png": "[encoded data removed]"
          },
          "metadata": {}
        }
      ]
    },
    {
      "cell_type": "code",
      "execution_count": null,
      "metadata": {
        "id": "bcwx3XpZOXiw",
        "colab": {
          "base_uri": "https://localhost:8080/",
          "height": 17
        },
        "outputId": "ebf4f37c-2989-4c74-c5b3-c822582b4438"
      },
      "outputs": [
        {
          "output_type": "display_data",
          "data": {
            "text/plain": [
              "<IPython.core.display.HTML object>"
            ],
            "text/html": [
              "<style>\n",
              "    body {\n",
              "      font-size: 20px;\n",
              "    }\n",
              "  "
            ]
          },
          "metadata": {}
        }
      ],
      "source": [
        "torch.cuda.empty_cache()"
      ]
    },
    {
      "cell_type": "markdown",
      "metadata": {
        "id": "xOVMvcCB7wjV"
      },
      "source": [
        "# 🔴 **Generate**"
      ]
    },
    {
      "cell_type": "code",
      "source": [
        "import textwrap\n",
        "\n",
        "def print_colored_wrapped(prompt, generated, width=100):\n",
        "    \"\"\"\n",
        "    Print prompt and generated text with color and line wrapping, preserving paragraph breaks (\\n\\n).\n",
        "    \"\"\"\n",
        "    full_text = prompt + generated\n",
        "    paragraphs = full_text.split('\\n\\n')  # Split by paragraph\n",
        "\n",
        "    first = True\n",
        "    for para in paragraphs:\n",
        "        # Apply line wrapping per paragraph\n",
        "        lines = textwrap.wrap(para, width=width)\n",
        "\n",
        "        for line in lines:\n",
        "            if first:\n",
        "                # Print prompt in green and the rest in cyan\n",
        "                prompt_part = line[:len(prompt)]\n",
        "                gen_part = line[len(prompt):]\n",
        "                print(colored(prompt_part, \"green\") + colored(gen_part, \"cyan\"))\n",
        "                prompt = ''  # only on first line\n",
        "                first = False\n",
        "            else:\n",
        "                print(colored(line, \"cyan\"))\n",
        "\n",
        "        print()  # extra newline between paragraphs\n"
      ],
      "metadata": {
        "id": "bQ_TnnfC-k00"
      },
      "execution_count": null,
      "outputs": []
    },
    {
      "cell_type": "code",
      "source": [
        "prompts = [\n",
        "    'In last night',\n",
        "    'Once upon',\n",
        "    'Once upon a time',\n",
        "    'One day, a little boy named TimTommy was a smart 3 year old, much smarter']"
      ],
      "metadata": {
        "id": "Nn-rU3iy9d9k"
      },
      "execution_count": null,
      "outputs": []
    },
    {
      "cell_type": "code",
      "source": [
        "for prompt in prompts:\n",
        "    # Generate n_rep samples\n",
        "    gen_text = generate(model, tokenizer, prompt, n_rep=3, max_seq_len=512, T=0.9, top_k=10)\n",
        "\n",
        "    # Print\n",
        "    print(100*\"=\")\n",
        "    for gtxt in gen_text:\n",
        "        prompt_len = len(prompt)\n",
        "        generated = gtxt[prompt_len:]\n",
        "        print_colored_wrapped(prompt, generated, width=100)\n",
        "        print(tokenizer.encode(gtxt))\n",
        "        print(100*\".\")\n"
      ],
      "metadata": {
        "id": "4OLk4HdN7zum"
      },
      "execution_count": null,
      "outputs": []
    },
    {
      "cell_type": "code",
      "source": [
        "idx = 2\n",
        "tokens = []\n",
        "for i, token in enumerate(ids[idx, 1:]):\n",
        "    if token.item() != 1:\n",
        "        tokens.append(token.item())\n",
        "    else:\n",
        "        break\n",
        "print(len(tokens), len(ids[idx]))\n",
        "\n",
        "pprint(tokenizer.decode(tokens))"
      ],
      "metadata": {
        "id": "hpFTH-lFeXLo"
      },
      "execution_count": null,
      "outputs": []
    }
  ]
}