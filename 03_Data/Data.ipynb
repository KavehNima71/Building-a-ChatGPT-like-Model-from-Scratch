{
  "nbformat": 4,
  "nbformat_minor": 0,
  "metadata": {
    "colab": {
      "provenance": [],
      "collapsed_sections": [
        "VrFCH9hpEyip",
        "3in1e9BksgIh",
        "iyvgTrq2z2IT",
        "NnMPfGih7Sli",
        "w3oeG_5hzoHm",
        "4yj0ZL1IR599",
        "Ij2tfeQ5FjZr",
        "pgvK808yQUiW",
        "nu5qj-nTQfy1",
        "3w2ywoEYR76w",
        "rVIiK6e5kApG",
        "f7mAfXX7gQ_O",
        "Z1869UeikNiG",
        "WqBWQVYxkXYG",
        "G3vsWJSXlA_I",
        "nof1Qx4XtkYj",
        "ICNg-aHgk4iK",
        "jg46vn-dNkPw",
        "ixCUwGZkWrcX",
        "kngSb4KHUrFb",
        "_mXYzTAczuJB",
        "DM9ucaIg2szB",
        "RWF5Sw6i2yRe",
        "G2jtmT1qfhgI",
        "pLsIQMauT4pr"
      ],
      "authorship_tag": "ABX9TyNY1vTOw/vemV7Mt1s3HXNW",
      "include_colab_link": true
    },
    "kernelspec": {
      "name": "python3",
      "display_name": "Python 3"
    },
    "language_info": {
      "name": "python"
    },
    "widgets": {
      "application/vnd.jupyter.widget-state+json": {
        "629be926e1f84c6c960713cb9a3200bb": {
          "model_module": "@jupyter-widgets/controls",
          "model_name": "HBoxModel",
          "model_module_version": "1.5.0",
          "state": {
            "_dom_classes": [],
            "_model_module": "@jupyter-widgets/controls",
            "_model_module_version": "1.5.0",
            "_model_name": "HBoxModel",
            "_view_count": null,
            "_view_module": "@jupyter-widgets/controls",
            "_view_module_version": "1.5.0",
            "_view_name": "HBoxView",
            "box_style": "",
            "children": [
              "IPY_MODEL_a86904235b6f4af5aefc6005cbc4546e",
              "IPY_MODEL_84dead59721a460b8e942ed5036db305",
              "IPY_MODEL_e00de17b41f94d4bb45d2386c90a3c8b"
            ],
            "layout": "IPY_MODEL_d4225ba7ba8b43ff9d1c4d931a7d29ac"
          }
        },
        "a86904235b6f4af5aefc6005cbc4546e": {
          "model_module": "@jupyter-widgets/controls",
          "model_name": "HTMLModel",
          "model_module_version": "1.5.0",
          "state": {
            "_dom_classes": [],
            "_model_module": "@jupyter-widgets/controls",
            "_model_module_version": "1.5.0",
            "_model_name": "HTMLModel",
            "_view_count": null,
            "_view_module": "@jupyter-widgets/controls",
            "_view_module_version": "1.5.0",
            "_view_name": "HTMLView",
            "description": "",
            "description_tooltip": null,
            "layout": "IPY_MODEL_62eb37e2dad24f1e97ce8c391b8461ba",
            "placeholder": "​",
            "style": "IPY_MODEL_2d7dc3a616744e73b19ad41a795b1ed3",
            "value": "README.md: 100%"
          }
        },
        "84dead59721a460b8e942ed5036db305": {
          "model_module": "@jupyter-widgets/controls",
          "model_name": "FloatProgressModel",
          "model_module_version": "1.5.0",
          "state": {
            "_dom_classes": [],
            "_model_module": "@jupyter-widgets/controls",
            "_model_module_version": "1.5.0",
            "_model_name": "FloatProgressModel",
            "_view_count": null,
            "_view_module": "@jupyter-widgets/controls",
            "_view_module_version": "1.5.0",
            "_view_name": "ProgressView",
            "bar_style": "success",
            "description": "",
            "description_tooltip": null,
            "layout": "IPY_MODEL_7cee99a511cc4b80abb1f1524fc71b92",
            "max": 1061,
            "min": 0,
            "orientation": "horizontal",
            "style": "IPY_MODEL_7f5a278d092e469bb99a6b4c73b2008c",
            "value": 1061
          }
        },
        "e00de17b41f94d4bb45d2386c90a3c8b": {
          "model_module": "@jupyter-widgets/controls",
          "model_name": "HTMLModel",
          "model_module_version": "1.5.0",
          "state": {
            "_dom_classes": [],
            "_model_module": "@jupyter-widgets/controls",
            "_model_module_version": "1.5.0",
            "_model_name": "HTMLModel",
            "_view_count": null,
            "_view_module": "@jupyter-widgets/controls",
            "_view_module_version": "1.5.0",
            "_view_name": "HTMLView",
            "description": "",
            "description_tooltip": null,
            "layout": "IPY_MODEL_3366b02f87ac4beea63fbd34ebc0f2dd",
            "placeholder": "​",
            "style": "IPY_MODEL_b5903d7a01b641979999622186d512d6",
            "value": " 1.06k/1.06k [00:00&lt;00:00, 68.1kB/s]"
          }
        },
        "d4225ba7ba8b43ff9d1c4d931a7d29ac": {
          "model_module": "@jupyter-widgets/base",
          "model_name": "LayoutModel",
          "model_module_version": "1.2.0",
          "state": {
            "_model_module": "@jupyter-widgets/base",
            "_model_module_version": "1.2.0",
            "_model_name": "LayoutModel",
            "_view_count": null,
            "_view_module": "@jupyter-widgets/base",
            "_view_module_version": "1.2.0",
            "_view_name": "LayoutView",
            "align_content": null,
            "align_items": null,
            "align_self": null,
            "border": null,
            "bottom": null,
            "display": null,
            "flex": null,
            "flex_flow": null,
            "grid_area": null,
            "grid_auto_columns": null,
            "grid_auto_flow": null,
            "grid_auto_rows": null,
            "grid_column": null,
            "grid_gap": null,
            "grid_row": null,
            "grid_template_areas": null,
            "grid_template_columns": null,
            "grid_template_rows": null,
            "height": null,
            "justify_content": null,
            "justify_items": null,
            "left": null,
            "margin": null,
            "max_height": null,
            "max_width": null,
            "min_height": null,
            "min_width": null,
            "object_fit": null,
            "object_position": null,
            "order": null,
            "overflow": null,
            "overflow_x": null,
            "overflow_y": null,
            "padding": null,
            "right": null,
            "top": null,
            "visibility": null,
            "width": null
          }
        },
        "62eb37e2dad24f1e97ce8c391b8461ba": {
          "model_module": "@jupyter-widgets/base",
          "model_name": "LayoutModel",
          "model_module_version": "1.2.0",
          "state": {
            "_model_module": "@jupyter-widgets/base",
            "_model_module_version": "1.2.0",
            "_model_name": "LayoutModel",
            "_view_count": null,
            "_view_module": "@jupyter-widgets/base",
            "_view_module_version": "1.2.0",
            "_view_name": "LayoutView",
            "align_content": null,
            "align_items": null,
            "align_self": null,
            "border": null,
            "bottom": null,
            "display": null,
            "flex": null,
            "flex_flow": null,
            "grid_area": null,
            "grid_auto_columns": null,
            "grid_auto_flow": null,
            "grid_auto_rows": null,
            "grid_column": null,
            "grid_gap": null,
            "grid_row": null,
            "grid_template_areas": null,
            "grid_template_columns": null,
            "grid_template_rows": null,
            "height": null,
            "justify_content": null,
            "justify_items": null,
            "left": null,
            "margin": null,
            "max_height": null,
            "max_width": null,
            "min_height": null,
            "min_width": null,
            "object_fit": null,
            "object_position": null,
            "order": null,
            "overflow": null,
            "overflow_x": null,
            "overflow_y": null,
            "padding": null,
            "right": null,
            "top": null,
            "visibility": null,
            "width": null
          }
        },
        "2d7dc3a616744e73b19ad41a795b1ed3": {
          "model_module": "@jupyter-widgets/controls",
          "model_name": "DescriptionStyleModel",
          "model_module_version": "1.5.0",
          "state": {
            "_model_module": "@jupyter-widgets/controls",
            "_model_module_version": "1.5.0",
            "_model_name": "DescriptionStyleModel",
            "_view_count": null,
            "_view_module": "@jupyter-widgets/base",
            "_view_module_version": "1.2.0",
            "_view_name": "StyleView",
            "description_width": ""
          }
        },
        "7cee99a511cc4b80abb1f1524fc71b92": {
          "model_module": "@jupyter-widgets/base",
          "model_name": "LayoutModel",
          "model_module_version": "1.2.0",
          "state": {
            "_model_module": "@jupyter-widgets/base",
            "_model_module_version": "1.2.0",
            "_model_name": "LayoutModel",
            "_view_count": null,
            "_view_module": "@jupyter-widgets/base",
            "_view_module_version": "1.2.0",
            "_view_name": "LayoutView",
            "align_content": null,
            "align_items": null,
            "align_self": null,
            "border": null,
            "bottom": null,
            "display": null,
            "flex": null,
            "flex_flow": null,
            "grid_area": null,
            "grid_auto_columns": null,
            "grid_auto_flow": null,
            "grid_auto_rows": null,
            "grid_column": null,
            "grid_gap": null,
            "grid_row": null,
            "grid_template_areas": null,
            "grid_template_columns": null,
            "grid_template_rows": null,
            "height": null,
            "justify_content": null,
            "justify_items": null,
            "left": null,
            "margin": null,
            "max_height": null,
            "max_width": null,
            "min_height": null,
            "min_width": null,
            "object_fit": null,
            "object_position": null,
            "order": null,
            "overflow": null,
            "overflow_x": null,
            "overflow_y": null,
            "padding": null,
            "right": null,
            "top": null,
            "visibility": null,
            "width": null
          }
        },
        "7f5a278d092e469bb99a6b4c73b2008c": {
          "model_module": "@jupyter-widgets/controls",
          "model_name": "ProgressStyleModel",
          "model_module_version": "1.5.0",
          "state": {
            "_model_module": "@jupyter-widgets/controls",
            "_model_module_version": "1.5.0",
            "_model_name": "ProgressStyleModel",
            "_view_count": null,
            "_view_module": "@jupyter-widgets/base",
            "_view_module_version": "1.2.0",
            "_view_name": "StyleView",
            "bar_color": null,
            "description_width": ""
          }
        },
        "3366b02f87ac4beea63fbd34ebc0f2dd": {
          "model_module": "@jupyter-widgets/base",
          "model_name": "LayoutModel",
          "model_module_version": "1.2.0",
          "state": {
            "_model_module": "@jupyter-widgets/base",
            "_model_module_version": "1.2.0",
            "_model_name": "LayoutModel",
            "_view_count": null,
            "_view_module": "@jupyter-widgets/base",
            "_view_module_version": "1.2.0",
            "_view_name": "LayoutView",
            "align_content": null,
            "align_items": null,
            "align_self": null,
            "border": null,
            "bottom": null,
            "display": null,
            "flex": null,
            "flex_flow": null,
            "grid_area": null,
            "grid_auto_columns": null,
            "grid_auto_flow": null,
            "grid_auto_rows": null,
            "grid_column": null,
            "grid_gap": null,
            "grid_row": null,
            "grid_template_areas": null,
            "grid_template_columns": null,
            "grid_template_rows": null,
            "height": null,
            "justify_content": null,
            "justify_items": null,
            "left": null,
            "margin": null,
            "max_height": null,
            "max_width": null,
            "min_height": null,
            "min_width": null,
            "object_fit": null,
            "object_position": null,
            "order": null,
            "overflow": null,
            "overflow_x": null,
            "overflow_y": null,
            "padding": null,
            "right": null,
            "top": null,
            "visibility": null,
            "width": null
          }
        },
        "b5903d7a01b641979999622186d512d6": {
          "model_module": "@jupyter-widgets/controls",
          "model_name": "DescriptionStyleModel",
          "model_module_version": "1.5.0",
          "state": {
            "_model_module": "@jupyter-widgets/controls",
            "_model_module_version": "1.5.0",
            "_model_name": "DescriptionStyleModel",
            "_view_count": null,
            "_view_module": "@jupyter-widgets/base",
            "_view_module_version": "1.2.0",
            "_view_name": "StyleView",
            "description_width": ""
          }
        },
        "efe6a827963f4040b62d57125ed2a4a8": {
          "model_module": "@jupyter-widgets/controls",
          "model_name": "HBoxModel",
          "model_module_version": "1.5.0",
          "state": {
            "_dom_classes": [],
            "_model_module": "@jupyter-widgets/controls",
            "_model_module_version": "1.5.0",
            "_model_name": "HBoxModel",
            "_view_count": null,
            "_view_module": "@jupyter-widgets/controls",
            "_view_module_version": "1.5.0",
            "_view_name": "HBoxView",
            "box_style": "",
            "children": [
              "IPY_MODEL_16fa0ae99c3b49949f9e69d812768481",
              "IPY_MODEL_e9789307975c401f9f3e895f4bf9ca04",
              "IPY_MODEL_78202bd413db449f9fc6a9c44651ca88"
            ],
            "layout": "IPY_MODEL_51b6a885176041ec9e9c081965e86fcc"
          }
        },
        "16fa0ae99c3b49949f9e69d812768481": {
          "model_module": "@jupyter-widgets/controls",
          "model_name": "HTMLModel",
          "model_module_version": "1.5.0",
          "state": {
            "_dom_classes": [],
            "_model_module": "@jupyter-widgets/controls",
            "_model_module_version": "1.5.0",
            "_model_name": "HTMLModel",
            "_view_count": null,
            "_view_module": "@jupyter-widgets/controls",
            "_view_module_version": "1.5.0",
            "_view_name": "HTMLView",
            "description": "",
            "description_tooltip": null,
            "layout": "IPY_MODEL_aa480d493eac409aac6890b58887352d",
            "placeholder": "​",
            "style": "IPY_MODEL_0f2d6f2227844533a81b5b1c71b7e092",
            "value": "(…)-00000-of-00004-2d5a1467fff1081b.parquet: 100%"
          }
        },
        "e9789307975c401f9f3e895f4bf9ca04": {
          "model_module": "@jupyter-widgets/controls",
          "model_name": "FloatProgressModel",
          "model_module_version": "1.5.0",
          "state": {
            "_dom_classes": [],
            "_model_module": "@jupyter-widgets/controls",
            "_model_module_version": "1.5.0",
            "_model_name": "FloatProgressModel",
            "_view_count": null,
            "_view_module": "@jupyter-widgets/controls",
            "_view_module_version": "1.5.0",
            "_view_name": "ProgressView",
            "bar_style": "success",
            "description": "",
            "description_tooltip": null,
            "layout": "IPY_MODEL_765a1b05237f4a50bfef9a7e2fe4087d",
            "max": 248731111,
            "min": 0,
            "orientation": "horizontal",
            "style": "IPY_MODEL_4450f2dbb3c740d0bfb3c30ee288030e",
            "value": 248731111
          }
        },
        "78202bd413db449f9fc6a9c44651ca88": {
          "model_module": "@jupyter-widgets/controls",
          "model_name": "HTMLModel",
          "model_module_version": "1.5.0",
          "state": {
            "_dom_classes": [],
            "_model_module": "@jupyter-widgets/controls",
            "_model_module_version": "1.5.0",
            "_model_name": "HTMLModel",
            "_view_count": null,
            "_view_module": "@jupyter-widgets/controls",
            "_view_module_version": "1.5.0",
            "_view_name": "HTMLView",
            "description": "",
            "description_tooltip": null,
            "layout": "IPY_MODEL_5610154a969b4a9ba8ff01d2dcfc9fa6",
            "placeholder": "​",
            "style": "IPY_MODEL_bcbe5f2cfa7a4804990b4ccb41506b05",
            "value": " 249M/249M [00:02&lt;00:00, 117MB/s]"
          }
        },
        "51b6a885176041ec9e9c081965e86fcc": {
          "model_module": "@jupyter-widgets/base",
          "model_name": "LayoutModel",
          "model_module_version": "1.2.0",
          "state": {
            "_model_module": "@jupyter-widgets/base",
            "_model_module_version": "1.2.0",
            "_model_name": "LayoutModel",
            "_view_count": null,
            "_view_module": "@jupyter-widgets/base",
            "_view_module_version": "1.2.0",
            "_view_name": "LayoutView",
            "align_content": null,
            "align_items": null,
            "align_self": null,
            "border": null,
            "bottom": null,
            "display": null,
            "flex": null,
            "flex_flow": null,
            "grid_area": null,
            "grid_auto_columns": null,
            "grid_auto_flow": null,
            "grid_auto_rows": null,
            "grid_column": null,
            "grid_gap": null,
            "grid_row": null,
            "grid_template_areas": null,
            "grid_template_columns": null,
            "grid_template_rows": null,
            "height": null,
            "justify_content": null,
            "justify_items": null,
            "left": null,
            "margin": null,
            "max_height": null,
            "max_width": null,
            "min_height": null,
            "min_width": null,
            "object_fit": null,
            "object_position": null,
            "order": null,
            "overflow": null,
            "overflow_x": null,
            "overflow_y": null,
            "padding": null,
            "right": null,
            "top": null,
            "visibility": null,
            "width": null
          }
        },
        "aa480d493eac409aac6890b58887352d": {
          "model_module": "@jupyter-widgets/base",
          "model_name": "LayoutModel",
          "model_module_version": "1.2.0",
          "state": {
            "_model_module": "@jupyter-widgets/base",
            "_model_module_version": "1.2.0",
            "_model_name": "LayoutModel",
            "_view_count": null,
            "_view_module": "@jupyter-widgets/base",
            "_view_module_version": "1.2.0",
            "_view_name": "LayoutView",
            "align_content": null,
            "align_items": null,
            "align_self": null,
            "border": null,
            "bottom": null,
            "display": null,
            "flex": null,
            "flex_flow": null,
            "grid_area": null,
            "grid_auto_columns": null,
            "grid_auto_flow": null,
            "grid_auto_rows": null,
            "grid_column": null,
            "grid_gap": null,
            "grid_row": null,
            "grid_template_areas": null,
            "grid_template_columns": null,
            "grid_template_rows": null,
            "height": null,
            "justify_content": null,
            "justify_items": null,
            "left": null,
            "margin": null,
            "max_height": null,
            "max_width": null,
            "min_height": null,
            "min_width": null,
            "object_fit": null,
            "object_position": null,
            "order": null,
            "overflow": null,
            "overflow_x": null,
            "overflow_y": null,
            "padding": null,
            "right": null,
            "top": null,
            "visibility": null,
            "width": null
          }
        },
        "0f2d6f2227844533a81b5b1c71b7e092": {
          "model_module": "@jupyter-widgets/controls",
          "model_name": "DescriptionStyleModel",
          "model_module_version": "1.5.0",
          "state": {
            "_model_module": "@jupyter-widgets/controls",
            "_model_module_version": "1.5.0",
            "_model_name": "DescriptionStyleModel",
            "_view_count": null,
            "_view_module": "@jupyter-widgets/base",
            "_view_module_version": "1.2.0",
            "_view_name": "StyleView",
            "description_width": ""
          }
        },
        "765a1b05237f4a50bfef9a7e2fe4087d": {
          "model_module": "@jupyter-widgets/base",
          "model_name": "LayoutModel",
          "model_module_version": "1.2.0",
          "state": {
            "_model_module": "@jupyter-widgets/base",
            "_model_module_version": "1.2.0",
            "_model_name": "LayoutModel",
            "_view_count": null,
            "_view_module": "@jupyter-widgets/base",
            "_view_module_version": "1.2.0",
            "_view_name": "LayoutView",
            "align_content": null,
            "align_items": null,
            "align_self": null,
            "border": null,
            "bottom": null,
            "display": null,
            "flex": null,
            "flex_flow": null,
            "grid_area": null,
            "grid_auto_columns": null,
            "grid_auto_flow": null,
            "grid_auto_rows": null,
            "grid_column": null,
            "grid_gap": null,
            "grid_row": null,
            "grid_template_areas": null,
            "grid_template_columns": null,
            "grid_template_rows": null,
            "height": null,
            "justify_content": null,
            "justify_items": null,
            "left": null,
            "margin": null,
            "max_height": null,
            "max_width": null,
            "min_height": null,
            "min_width": null,
            "object_fit": null,
            "object_position": null,
            "order": null,
            "overflow": null,
            "overflow_x": null,
            "overflow_y": null,
            "padding": null,
            "right": null,
            "top": null,
            "visibility": null,
            "width": null
          }
        },
        "4450f2dbb3c740d0bfb3c30ee288030e": {
          "model_module": "@jupyter-widgets/controls",
          "model_name": "ProgressStyleModel",
          "model_module_version": "1.5.0",
          "state": {
            "_model_module": "@jupyter-widgets/controls",
            "_model_module_version": "1.5.0",
            "_model_name": "ProgressStyleModel",
            "_view_count": null,
            "_view_module": "@jupyter-widgets/base",
            "_view_module_version": "1.2.0",
            "_view_name": "StyleView",
            "bar_color": null,
            "description_width": ""
          }
        },
        "5610154a969b4a9ba8ff01d2dcfc9fa6": {
          "model_module": "@jupyter-widgets/base",
          "model_name": "LayoutModel",
          "model_module_version": "1.2.0",
          "state": {
            "_model_module": "@jupyter-widgets/base",
            "_model_module_version": "1.2.0",
            "_model_name": "LayoutModel",
            "_view_count": null,
            "_view_module": "@jupyter-widgets/base",
            "_view_module_version": "1.2.0",
            "_view_name": "LayoutView",
            "align_content": null,
            "align_items": null,
            "align_self": null,
            "border": null,
            "bottom": null,
            "display": null,
            "flex": null,
            "flex_flow": null,
            "grid_area": null,
            "grid_auto_columns": null,
            "grid_auto_flow": null,
            "grid_auto_rows": null,
            "grid_column": null,
            "grid_gap": null,
            "grid_row": null,
            "grid_template_areas": null,
            "grid_template_columns": null,
            "grid_template_rows": null,
            "height": null,
            "justify_content": null,
            "justify_items": null,
            "left": null,
            "margin": null,
            "max_height": null,
            "max_width": null,
            "min_height": null,
            "min_width": null,
            "object_fit": null,
            "object_position": null,
            "order": null,
            "overflow": null,
            "overflow_x": null,
            "overflow_y": null,
            "padding": null,
            "right": null,
            "top": null,
            "visibility": null,
            "width": null
          }
        },
        "bcbe5f2cfa7a4804990b4ccb41506b05": {
          "model_module": "@jupyter-widgets/controls",
          "model_name": "DescriptionStyleModel",
          "model_module_version": "1.5.0",
          "state": {
            "_model_module": "@jupyter-widgets/controls",
            "_model_module_version": "1.5.0",
            "_model_name": "DescriptionStyleModel",
            "_view_count": null,
            "_view_module": "@jupyter-widgets/base",
            "_view_module_version": "1.2.0",
            "_view_name": "StyleView",
            "description_width": ""
          }
        },
        "0d059b6aa4d94dcc88d57a8cf1a510c5": {
          "model_module": "@jupyter-widgets/controls",
          "model_name": "HBoxModel",
          "model_module_version": "1.5.0",
          "state": {
            "_dom_classes": [],
            "_model_module": "@jupyter-widgets/controls",
            "_model_module_version": "1.5.0",
            "_model_name": "HBoxModel",
            "_view_count": null,
            "_view_module": "@jupyter-widgets/controls",
            "_view_module_version": "1.5.0",
            "_view_name": "HBoxView",
            "box_style": "",
            "children": [
              "IPY_MODEL_7522ffcf0bda42c9a307ec7330ec3a77",
              "IPY_MODEL_894d6c93166d4be486c7bd9c1c08e99b",
              "IPY_MODEL_0b5a23b0b4104a46ad06abf84f2abc9f"
            ],
            "layout": "IPY_MODEL_78e4a67c5f964c1b93763037766ed856"
          }
        },
        "7522ffcf0bda42c9a307ec7330ec3a77": {
          "model_module": "@jupyter-widgets/controls",
          "model_name": "HTMLModel",
          "model_module_version": "1.5.0",
          "state": {
            "_dom_classes": [],
            "_model_module": "@jupyter-widgets/controls",
            "_model_module_version": "1.5.0",
            "_model_name": "HTMLModel",
            "_view_count": null,
            "_view_module": "@jupyter-widgets/controls",
            "_view_module_version": "1.5.0",
            "_view_name": "HTMLView",
            "description": "",
            "description_tooltip": null,
            "layout": "IPY_MODEL_c7b2faa6f1d446f6978e8e8b27411852",
            "placeholder": "​",
            "style": "IPY_MODEL_daefab9a52294ae8aa98f3cd5b14eb7b",
            "value": "(…)-00001-of-00004-5852b56a2bd28fd9.parquet: 100%"
          }
        },
        "894d6c93166d4be486c7bd9c1c08e99b": {
          "model_module": "@jupyter-widgets/controls",
          "model_name": "FloatProgressModel",
          "model_module_version": "1.5.0",
          "state": {
            "_dom_classes": [],
            "_model_module": "@jupyter-widgets/controls",
            "_model_module_version": "1.5.0",
            "_model_name": "FloatProgressModel",
            "_view_count": null,
            "_view_module": "@jupyter-widgets/controls",
            "_view_module_version": "1.5.0",
            "_view_name": "ProgressView",
            "bar_style": "success",
            "description": "",
            "description_tooltip": null,
            "layout": "IPY_MODEL_2eabe560780a4de4a1ba82d9de7d0926",
            "max": 248171980,
            "min": 0,
            "orientation": "horizontal",
            "style": "IPY_MODEL_28bb8a38d76242bb8a2ab60e6a2a074b",
            "value": 248171980
          }
        },
        "0b5a23b0b4104a46ad06abf84f2abc9f": {
          "model_module": "@jupyter-widgets/controls",
          "model_name": "HTMLModel",
          "model_module_version": "1.5.0",
          "state": {
            "_dom_classes": [],
            "_model_module": "@jupyter-widgets/controls",
            "_model_module_version": "1.5.0",
            "_model_name": "HTMLModel",
            "_view_count": null,
            "_view_module": "@jupyter-widgets/controls",
            "_view_module_version": "1.5.0",
            "_view_name": "HTMLView",
            "description": "",
            "description_tooltip": null,
            "layout": "IPY_MODEL_5c8f4f1e122546df85cca8b311b3e888",
            "placeholder": "​",
            "style": "IPY_MODEL_5efd5a3858b34523b643a253694b40c3",
            "value": " 248M/248M [00:02&lt;00:00, 123MB/s]"
          }
        },
        "78e4a67c5f964c1b93763037766ed856": {
          "model_module": "@jupyter-widgets/base",
          "model_name": "LayoutModel",
          "model_module_version": "1.2.0",
          "state": {
            "_model_module": "@jupyter-widgets/base",
            "_model_module_version": "1.2.0",
            "_model_name": "LayoutModel",
            "_view_count": null,
            "_view_module": "@jupyter-widgets/base",
            "_view_module_version": "1.2.0",
            "_view_name": "LayoutView",
            "align_content": null,
            "align_items": null,
            "align_self": null,
            "border": null,
            "bottom": null,
            "display": null,
            "flex": null,
            "flex_flow": null,
            "grid_area": null,
            "grid_auto_columns": null,
            "grid_auto_flow": null,
            "grid_auto_rows": null,
            "grid_column": null,
            "grid_gap": null,
            "grid_row": null,
            "grid_template_areas": null,
            "grid_template_columns": null,
            "grid_template_rows": null,
            "height": null,
            "justify_content": null,
            "justify_items": null,
            "left": null,
            "margin": null,
            "max_height": null,
            "max_width": null,
            "min_height": null,
            "min_width": null,
            "object_fit": null,
            "object_position": null,
            "order": null,
            "overflow": null,
            "overflow_x": null,
            "overflow_y": null,
            "padding": null,
            "right": null,
            "top": null,
            "visibility": null,
            "width": null
          }
        },
        "c7b2faa6f1d446f6978e8e8b27411852": {
          "model_module": "@jupyter-widgets/base",
          "model_name": "LayoutModel",
          "model_module_version": "1.2.0",
          "state": {
            "_model_module": "@jupyter-widgets/base",
            "_model_module_version": "1.2.0",
            "_model_name": "LayoutModel",
            "_view_count": null,
            "_view_module": "@jupyter-widgets/base",
            "_view_module_version": "1.2.0",
            "_view_name": "LayoutView",
            "align_content": null,
            "align_items": null,
            "align_self": null,
            "border": null,
            "bottom": null,
            "display": null,
            "flex": null,
            "flex_flow": null,
            "grid_area": null,
            "grid_auto_columns": null,
            "grid_auto_flow": null,
            "grid_auto_rows": null,
            "grid_column": null,
            "grid_gap": null,
            "grid_row": null,
            "grid_template_areas": null,
            "grid_template_columns": null,
            "grid_template_rows": null,
            "height": null,
            "justify_content": null,
            "justify_items": null,
            "left": null,
            "margin": null,
            "max_height": null,
            "max_width": null,
            "min_height": null,
            "min_width": null,
            "object_fit": null,
            "object_position": null,
            "order": null,
            "overflow": null,
            "overflow_x": null,
            "overflow_y": null,
            "padding": null,
            "right": null,
            "top": null,
            "visibility": null,
            "width": null
          }
        },
        "daefab9a52294ae8aa98f3cd5b14eb7b": {
          "model_module": "@jupyter-widgets/controls",
          "model_name": "DescriptionStyleModel",
          "model_module_version": "1.5.0",
          "state": {
            "_model_module": "@jupyter-widgets/controls",
            "_model_module_version": "1.5.0",
            "_model_name": "DescriptionStyleModel",
            "_view_count": null,
            "_view_module": "@jupyter-widgets/base",
            "_view_module_version": "1.2.0",
            "_view_name": "StyleView",
            "description_width": ""
          }
        },
        "2eabe560780a4de4a1ba82d9de7d0926": {
          "model_module": "@jupyter-widgets/base",
          "model_name": "LayoutModel",
          "model_module_version": "1.2.0",
          "state": {
            "_model_module": "@jupyter-widgets/base",
            "_model_module_version": "1.2.0",
            "_model_name": "LayoutModel",
            "_view_count": null,
            "_view_module": "@jupyter-widgets/base",
            "_view_module_version": "1.2.0",
            "_view_name": "LayoutView",
            "align_content": null,
            "align_items": null,
            "align_self": null,
            "border": null,
            "bottom": null,
            "display": null,
            "flex": null,
            "flex_flow": null,
            "grid_area": null,
            "grid_auto_columns": null,
            "grid_auto_flow": null,
            "grid_auto_rows": null,
            "grid_column": null,
            "grid_gap": null,
            "grid_row": null,
            "grid_template_areas": null,
            "grid_template_columns": null,
            "grid_template_rows": null,
            "height": null,
            "justify_content": null,
            "justify_items": null,
            "left": null,
            "margin": null,
            "max_height": null,
            "max_width": null,
            "min_height": null,
            "min_width": null,
            "object_fit": null,
            "object_position": null,
            "order": null,
            "overflow": null,
            "overflow_x": null,
            "overflow_y": null,
            "padding": null,
            "right": null,
            "top": null,
            "visibility": null,
            "width": null
          }
        },
        "28bb8a38d76242bb8a2ab60e6a2a074b": {
          "model_module": "@jupyter-widgets/controls",
          "model_name": "ProgressStyleModel",
          "model_module_version": "1.5.0",
          "state": {
            "_model_module": "@jupyter-widgets/controls",
            "_model_module_version": "1.5.0",
            "_model_name": "ProgressStyleModel",
            "_view_count": null,
            "_view_module": "@jupyter-widgets/base",
            "_view_module_version": "1.2.0",
            "_view_name": "StyleView",
            "bar_color": null,
            "description_width": ""
          }
        },
        "5c8f4f1e122546df85cca8b311b3e888": {
          "model_module": "@jupyter-widgets/base",
          "model_name": "LayoutModel",
          "model_module_version": "1.2.0",
          "state": {
            "_model_module": "@jupyter-widgets/base",
            "_model_module_version": "1.2.0",
            "_model_name": "LayoutModel",
            "_view_count": null,
            "_view_module": "@jupyter-widgets/base",
            "_view_module_version": "1.2.0",
            "_view_name": "LayoutView",
            "align_content": null,
            "align_items": null,
            "align_self": null,
            "border": null,
            "bottom": null,
            "display": null,
            "flex": null,
            "flex_flow": null,
            "grid_area": null,
            "grid_auto_columns": null,
            "grid_auto_flow": null,
            "grid_auto_rows": null,
            "grid_column": null,
            "grid_gap": null,
            "grid_row": null,
            "grid_template_areas": null,
            "grid_template_columns": null,
            "grid_template_rows": null,
            "height": null,
            "justify_content": null,
            "justify_items": null,
            "left": null,
            "margin": null,
            "max_height": null,
            "max_width": null,
            "min_height": null,
            "min_width": null,
            "object_fit": null,
            "object_position": null,
            "order": null,
            "overflow": null,
            "overflow_x": null,
            "overflow_y": null,
            "padding": null,
            "right": null,
            "top": null,
            "visibility": null,
            "width": null
          }
        },
        "5efd5a3858b34523b643a253694b40c3": {
          "model_module": "@jupyter-widgets/controls",
          "model_name": "DescriptionStyleModel",
          "model_module_version": "1.5.0",
          "state": {
            "_model_module": "@jupyter-widgets/controls",
            "_model_module_version": "1.5.0",
            "_model_name": "DescriptionStyleModel",
            "_view_count": null,
            "_view_module": "@jupyter-widgets/base",
            "_view_module_version": "1.2.0",
            "_view_name": "StyleView",
            "description_width": ""
          }
        },
        "2db556b6b0594742944be080a18b1509": {
          "model_module": "@jupyter-widgets/controls",
          "model_name": "HBoxModel",
          "model_module_version": "1.5.0",
          "state": {
            "_dom_classes": [],
            "_model_module": "@jupyter-widgets/controls",
            "_model_module_version": "1.5.0",
            "_model_name": "HBoxModel",
            "_view_count": null,
            "_view_module": "@jupyter-widgets/controls",
            "_view_module_version": "1.5.0",
            "_view_name": "HBoxView",
            "box_style": "",
            "children": [
              "IPY_MODEL_2f83cce58b2d432ea8ad0b3f1fc00e16",
              "IPY_MODEL_f96135faaba349acae615622258a9c88",
              "IPY_MODEL_cef762cdbf1441d39470b905174ff246"
            ],
            "layout": "IPY_MODEL_dd4a7924c66a475fadf55bcf195c6dc7"
          }
        },
        "2f83cce58b2d432ea8ad0b3f1fc00e16": {
          "model_module": "@jupyter-widgets/controls",
          "model_name": "HTMLModel",
          "model_module_version": "1.5.0",
          "state": {
            "_dom_classes": [],
            "_model_module": "@jupyter-widgets/controls",
            "_model_module_version": "1.5.0",
            "_model_name": "HTMLModel",
            "_view_count": null,
            "_view_module": "@jupyter-widgets/controls",
            "_view_module_version": "1.5.0",
            "_view_name": "HTMLView",
            "description": "",
            "description_tooltip": null,
            "layout": "IPY_MODEL_75dd8434c04543c2a89e9c5d281ac16f",
            "placeholder": "​",
            "style": "IPY_MODEL_f43ca75908014faf9017b0a3b3edd6ed",
            "value": "(…)-00002-of-00004-a26307300439e943.parquet: 100%"
          }
        },
        "f96135faaba349acae615622258a9c88": {
          "model_module": "@jupyter-widgets/controls",
          "model_name": "FloatProgressModel",
          "model_module_version": "1.5.0",
          "state": {
            "_dom_classes": [],
            "_model_module": "@jupyter-widgets/controls",
            "_model_module_version": "1.5.0",
            "_model_name": "FloatProgressModel",
            "_view_count": null,
            "_view_module": "@jupyter-widgets/controls",
            "_view_module_version": "1.5.0",
            "_view_name": "ProgressView",
            "bar_style": "success",
            "description": "",
            "description_tooltip": null,
            "layout": "IPY_MODEL_eb59b887d89948348c1ad8a17f1b6606",
            "max": 245894874,
            "min": 0,
            "orientation": "horizontal",
            "style": "IPY_MODEL_dfcdc13f04ff4edcae0daebea13c4664",
            "value": 245894874
          }
        },
        "cef762cdbf1441d39470b905174ff246": {
          "model_module": "@jupyter-widgets/controls",
          "model_name": "HTMLModel",
          "model_module_version": "1.5.0",
          "state": {
            "_dom_classes": [],
            "_model_module": "@jupyter-widgets/controls",
            "_model_module_version": "1.5.0",
            "_model_name": "HTMLModel",
            "_view_count": null,
            "_view_module": "@jupyter-widgets/controls",
            "_view_module_version": "1.5.0",
            "_view_name": "HTMLView",
            "description": "",
            "description_tooltip": null,
            "layout": "IPY_MODEL_f942e239512a484c85a741003b71bc1e",
            "placeholder": "​",
            "style": "IPY_MODEL_32e6b3f9902e4102b33b183ed117cd81",
            "value": " 246M/246M [00:02&lt;00:00, 109MB/s]"
          }
        },
        "dd4a7924c66a475fadf55bcf195c6dc7": {
          "model_module": "@jupyter-widgets/base",
          "model_name": "LayoutModel",
          "model_module_version": "1.2.0",
          "state": {
            "_model_module": "@jupyter-widgets/base",
            "_model_module_version": "1.2.0",
            "_model_name": "LayoutModel",
            "_view_count": null,
            "_view_module": "@jupyter-widgets/base",
            "_view_module_version": "1.2.0",
            "_view_name": "LayoutView",
            "align_content": null,
            "align_items": null,
            "align_self": null,
            "border": null,
            "bottom": null,
            "display": null,
            "flex": null,
            "flex_flow": null,
            "grid_area": null,
            "grid_auto_columns": null,
            "grid_auto_flow": null,
            "grid_auto_rows": null,
            "grid_column": null,
            "grid_gap": null,
            "grid_row": null,
            "grid_template_areas": null,
            "grid_template_columns": null,
            "grid_template_rows": null,
            "height": null,
            "justify_content": null,
            "justify_items": null,
            "left": null,
            "margin": null,
            "max_height": null,
            "max_width": null,
            "min_height": null,
            "min_width": null,
            "object_fit": null,
            "object_position": null,
            "order": null,
            "overflow": null,
            "overflow_x": null,
            "overflow_y": null,
            "padding": null,
            "right": null,
            "top": null,
            "visibility": null,
            "width": null
          }
        },
        "75dd8434c04543c2a89e9c5d281ac16f": {
          "model_module": "@jupyter-widgets/base",
          "model_name": "LayoutModel",
          "model_module_version": "1.2.0",
          "state": {
            "_model_module": "@jupyter-widgets/base",
            "_model_module_version": "1.2.0",
            "_model_name": "LayoutModel",
            "_view_count": null,
            "_view_module": "@jupyter-widgets/base",
            "_view_module_version": "1.2.0",
            "_view_name": "LayoutView",
            "align_content": null,
            "align_items": null,
            "align_self": null,
            "border": null,
            "bottom": null,
            "display": null,
            "flex": null,
            "flex_flow": null,
            "grid_area": null,
            "grid_auto_columns": null,
            "grid_auto_flow": null,
            "grid_auto_rows": null,
            "grid_column": null,
            "grid_gap": null,
            "grid_row": null,
            "grid_template_areas": null,
            "grid_template_columns": null,
            "grid_template_rows": null,
            "height": null,
            "justify_content": null,
            "justify_items": null,
            "left": null,
            "margin": null,
            "max_height": null,
            "max_width": null,
            "min_height": null,
            "min_width": null,
            "object_fit": null,
            "object_position": null,
            "order": null,
            "overflow": null,
            "overflow_x": null,
            "overflow_y": null,
            "padding": null,
            "right": null,
            "top": null,
            "visibility": null,
            "width": null
          }
        },
        "f43ca75908014faf9017b0a3b3edd6ed": {
          "model_module": "@jupyter-widgets/controls",
          "model_name": "DescriptionStyleModel",
          "model_module_version": "1.5.0",
          "state": {
            "_model_module": "@jupyter-widgets/controls",
            "_model_module_version": "1.5.0",
            "_model_name": "DescriptionStyleModel",
            "_view_count": null,
            "_view_module": "@jupyter-widgets/base",
            "_view_module_version": "1.2.0",
            "_view_name": "StyleView",
            "description_width": ""
          }
        },
        "eb59b887d89948348c1ad8a17f1b6606": {
          "model_module": "@jupyter-widgets/base",
          "model_name": "LayoutModel",
          "model_module_version": "1.2.0",
          "state": {
            "_model_module": "@jupyter-widgets/base",
            "_model_module_version": "1.2.0",
            "_model_name": "LayoutModel",
            "_view_count": null,
            "_view_module": "@jupyter-widgets/base",
            "_view_module_version": "1.2.0",
            "_view_name": "LayoutView",
            "align_content": null,
            "align_items": null,
            "align_self": null,
            "border": null,
            "bottom": null,
            "display": null,
            "flex": null,
            "flex_flow": null,
            "grid_area": null,
            "grid_auto_columns": null,
            "grid_auto_flow": null,
            "grid_auto_rows": null,
            "grid_column": null,
            "grid_gap": null,
            "grid_row": null,
            "grid_template_areas": null,
            "grid_template_columns": null,
            "grid_template_rows": null,
            "height": null,
            "justify_content": null,
            "justify_items": null,
            "left": null,
            "margin": null,
            "max_height": null,
            "max_width": null,
            "min_height": null,
            "min_width": null,
            "object_fit": null,
            "object_position": null,
            "order": null,
            "overflow": null,
            "overflow_x": null,
            "overflow_y": null,
            "padding": null,
            "right": null,
            "top": null,
            "visibility": null,
            "width": null
          }
        },
        "dfcdc13f04ff4edcae0daebea13c4664": {
          "model_module": "@jupyter-widgets/controls",
          "model_name": "ProgressStyleModel",
          "model_module_version": "1.5.0",
          "state": {
            "_model_module": "@jupyter-widgets/controls",
            "_model_module_version": "1.5.0",
            "_model_name": "ProgressStyleModel",
            "_view_count": null,
            "_view_module": "@jupyter-widgets/base",
            "_view_module_version": "1.2.0",
            "_view_name": "StyleView",
            "bar_color": null,
            "description_width": ""
          }
        },
        "f942e239512a484c85a741003b71bc1e": {
          "model_module": "@jupyter-widgets/base",
          "model_name": "LayoutModel",
          "model_module_version": "1.2.0",
          "state": {
            "_model_module": "@jupyter-widgets/base",
            "_model_module_version": "1.2.0",
            "_model_name": "LayoutModel",
            "_view_count": null,
            "_view_module": "@jupyter-widgets/base",
            "_view_module_version": "1.2.0",
            "_view_name": "LayoutView",
            "align_content": null,
            "align_items": null,
            "align_self": null,
            "border": null,
            "bottom": null,
            "display": null,
            "flex": null,
            "flex_flow": null,
            "grid_area": null,
            "grid_auto_columns": null,
            "grid_auto_flow": null,
            "grid_auto_rows": null,
            "grid_column": null,
            "grid_gap": null,
            "grid_row": null,
            "grid_template_areas": null,
            "grid_template_columns": null,
            "grid_template_rows": null,
            "height": null,
            "justify_content": null,
            "justify_items": null,
            "left": null,
            "margin": null,
            "max_height": null,
            "max_width": null,
            "min_height": null,
            "min_width": null,
            "object_fit": null,
            "object_position": null,
            "order": null,
            "overflow": null,
            "overflow_x": null,
            "overflow_y": null,
            "padding": null,
            "right": null,
            "top": null,
            "visibility": null,
            "width": null
          }
        },
        "32e6b3f9902e4102b33b183ed117cd81": {
          "model_module": "@jupyter-widgets/controls",
          "model_name": "DescriptionStyleModel",
          "model_module_version": "1.5.0",
          "state": {
            "_model_module": "@jupyter-widgets/controls",
            "_model_module_version": "1.5.0",
            "_model_name": "DescriptionStyleModel",
            "_view_count": null,
            "_view_module": "@jupyter-widgets/base",
            "_view_module_version": "1.2.0",
            "_view_name": "StyleView",
            "description_width": ""
          }
        },
        "ea20a7675f2743958c2e5c29878fdfe2": {
          "model_module": "@jupyter-widgets/controls",
          "model_name": "HBoxModel",
          "model_module_version": "1.5.0",
          "state": {
            "_dom_classes": [],
            "_model_module": "@jupyter-widgets/controls",
            "_model_module_version": "1.5.0",
            "_model_name": "HBoxModel",
            "_view_count": null,
            "_view_module": "@jupyter-widgets/controls",
            "_view_module_version": "1.5.0",
            "_view_name": "HBoxView",
            "box_style": "",
            "children": [
              "IPY_MODEL_1607443023454208a908eaa0f8e6faf4",
              "IPY_MODEL_37374c086c3e425ca2aefa409a70bea2",
              "IPY_MODEL_64a1ec8c73d84d049afbd49998a385e6"
            ],
            "layout": "IPY_MODEL_d1508bab93d64597888054092cc5b2df"
          }
        },
        "1607443023454208a908eaa0f8e6faf4": {
          "model_module": "@jupyter-widgets/controls",
          "model_name": "HTMLModel",
          "model_module_version": "1.5.0",
          "state": {
            "_dom_classes": [],
            "_model_module": "@jupyter-widgets/controls",
            "_model_module_version": "1.5.0",
            "_model_name": "HTMLModel",
            "_view_count": null,
            "_view_module": "@jupyter-widgets/controls",
            "_view_module_version": "1.5.0",
            "_view_name": "HTMLView",
            "description": "",
            "description_tooltip": null,
            "layout": "IPY_MODEL_1761c0c9da284c5e806f889e41a061da",
            "placeholder": "​",
            "style": "IPY_MODEL_36dc10417d664edd92ba77aa6f7d615e",
            "value": "(…)-00003-of-00004-d243063613e5a057.parquet: 100%"
          }
        },
        "37374c086c3e425ca2aefa409a70bea2": {
          "model_module": "@jupyter-widgets/controls",
          "model_name": "FloatProgressModel",
          "model_module_version": "1.5.0",
          "state": {
            "_dom_classes": [],
            "_model_module": "@jupyter-widgets/controls",
            "_model_module_version": "1.5.0",
            "_model_name": "FloatProgressModel",
            "_view_count": null,
            "_view_module": "@jupyter-widgets/controls",
            "_view_module_version": "1.5.0",
            "_view_name": "ProgressView",
            "bar_style": "success",
            "description": "",
            "description_tooltip": null,
            "layout": "IPY_MODEL_0cf681259b3e4c0086db1a44e8cde400",
            "max": 247988350,
            "min": 0,
            "orientation": "horizontal",
            "style": "IPY_MODEL_2d9adcea96be4dac8caabf9cdc0097b8",
            "value": 247988350
          }
        },
        "64a1ec8c73d84d049afbd49998a385e6": {
          "model_module": "@jupyter-widgets/controls",
          "model_name": "HTMLModel",
          "model_module_version": "1.5.0",
          "state": {
            "_dom_classes": [],
            "_model_module": "@jupyter-widgets/controls",
            "_model_module_version": "1.5.0",
            "_model_name": "HTMLModel",
            "_view_count": null,
            "_view_module": "@jupyter-widgets/controls",
            "_view_module_version": "1.5.0",
            "_view_name": "HTMLView",
            "description": "",
            "description_tooltip": null,
            "layout": "IPY_MODEL_b9700fa6bcbb4112908d5d8064395038",
            "placeholder": "​",
            "style": "IPY_MODEL_59079a070ddb4cf89c2de46f6867378c",
            "value": " 248M/248M [00:02&lt;00:00, 125MB/s]"
          }
        },
        "d1508bab93d64597888054092cc5b2df": {
          "model_module": "@jupyter-widgets/base",
          "model_name": "LayoutModel",
          "model_module_version": "1.2.0",
          "state": {
            "_model_module": "@jupyter-widgets/base",
            "_model_module_version": "1.2.0",
            "_model_name": "LayoutModel",
            "_view_count": null,
            "_view_module": "@jupyter-widgets/base",
            "_view_module_version": "1.2.0",
            "_view_name": "LayoutView",
            "align_content": null,
            "align_items": null,
            "align_self": null,
            "border": null,
            "bottom": null,
            "display": null,
            "flex": null,
            "flex_flow": null,
            "grid_area": null,
            "grid_auto_columns": null,
            "grid_auto_flow": null,
            "grid_auto_rows": null,
            "grid_column": null,
            "grid_gap": null,
            "grid_row": null,
            "grid_template_areas": null,
            "grid_template_columns": null,
            "grid_template_rows": null,
            "height": null,
            "justify_content": null,
            "justify_items": null,
            "left": null,
            "margin": null,
            "max_height": null,
            "max_width": null,
            "min_height": null,
            "min_width": null,
            "object_fit": null,
            "object_position": null,
            "order": null,
            "overflow": null,
            "overflow_x": null,
            "overflow_y": null,
            "padding": null,
            "right": null,
            "top": null,
            "visibility": null,
            "width": null
          }
        },
        "1761c0c9da284c5e806f889e41a061da": {
          "model_module": "@jupyter-widgets/base",
          "model_name": "LayoutModel",
          "model_module_version": "1.2.0",
          "state": {
            "_model_module": "@jupyter-widgets/base",
            "_model_module_version": "1.2.0",
            "_model_name": "LayoutModel",
            "_view_count": null,
            "_view_module": "@jupyter-widgets/base",
            "_view_module_version": "1.2.0",
            "_view_name": "LayoutView",
            "align_content": null,
            "align_items": null,
            "align_self": null,
            "border": null,
            "bottom": null,
            "display": null,
            "flex": null,
            "flex_flow": null,
            "grid_area": null,
            "grid_auto_columns": null,
            "grid_auto_flow": null,
            "grid_auto_rows": null,
            "grid_column": null,
            "grid_gap": null,
            "grid_row": null,
            "grid_template_areas": null,
            "grid_template_columns": null,
            "grid_template_rows": null,
            "height": null,
            "justify_content": null,
            "justify_items": null,
            "left": null,
            "margin": null,
            "max_height": null,
            "max_width": null,
            "min_height": null,
            "min_width": null,
            "object_fit": null,
            "object_position": null,
            "order": null,
            "overflow": null,
            "overflow_x": null,
            "overflow_y": null,
            "padding": null,
            "right": null,
            "top": null,
            "visibility": null,
            "width": null
          }
        },
        "36dc10417d664edd92ba77aa6f7d615e": {
          "model_module": "@jupyter-widgets/controls",
          "model_name": "DescriptionStyleModel",
          "model_module_version": "1.5.0",
          "state": {
            "_model_module": "@jupyter-widgets/controls",
            "_model_module_version": "1.5.0",
            "_model_name": "DescriptionStyleModel",
            "_view_count": null,
            "_view_module": "@jupyter-widgets/base",
            "_view_module_version": "1.2.0",
            "_view_name": "StyleView",
            "description_width": ""
          }
        },
        "0cf681259b3e4c0086db1a44e8cde400": {
          "model_module": "@jupyter-widgets/base",
          "model_name": "LayoutModel",
          "model_module_version": "1.2.0",
          "state": {
            "_model_module": "@jupyter-widgets/base",
            "_model_module_version": "1.2.0",
            "_model_name": "LayoutModel",
            "_view_count": null,
            "_view_module": "@jupyter-widgets/base",
            "_view_module_version": "1.2.0",
            "_view_name": "LayoutView",
            "align_content": null,
            "align_items": null,
            "align_self": null,
            "border": null,
            "bottom": null,
            "display": null,
            "flex": null,
            "flex_flow": null,
            "grid_area": null,
            "grid_auto_columns": null,
            "grid_auto_flow": null,
            "grid_auto_rows": null,
            "grid_column": null,
            "grid_gap": null,
            "grid_row": null,
            "grid_template_areas": null,
            "grid_template_columns": null,
            "grid_template_rows": null,
            "height": null,
            "justify_content": null,
            "justify_items": null,
            "left": null,
            "margin": null,
            "max_height": null,
            "max_width": null,
            "min_height": null,
            "min_width": null,
            "object_fit": null,
            "object_position": null,
            "order": null,
            "overflow": null,
            "overflow_x": null,
            "overflow_y": null,
            "padding": null,
            "right": null,
            "top": null,
            "visibility": null,
            "width": null
          }
        },
        "2d9adcea96be4dac8caabf9cdc0097b8": {
          "model_module": "@jupyter-widgets/controls",
          "model_name": "ProgressStyleModel",
          "model_module_version": "1.5.0",
          "state": {
            "_model_module": "@jupyter-widgets/controls",
            "_model_module_version": "1.5.0",
            "_model_name": "ProgressStyleModel",
            "_view_count": null,
            "_view_module": "@jupyter-widgets/base",
            "_view_module_version": "1.2.0",
            "_view_name": "StyleView",
            "bar_color": null,
            "description_width": ""
          }
        },
        "b9700fa6bcbb4112908d5d8064395038": {
          "model_module": "@jupyter-widgets/base",
          "model_name": "LayoutModel",
          "model_module_version": "1.2.0",
          "state": {
            "_model_module": "@jupyter-widgets/base",
            "_model_module_version": "1.2.0",
            "_model_name": "LayoutModel",
            "_view_count": null,
            "_view_module": "@jupyter-widgets/base",
            "_view_module_version": "1.2.0",
            "_view_name": "LayoutView",
            "align_content": null,
            "align_items": null,
            "align_self": null,
            "border": null,
            "bottom": null,
            "display": null,
            "flex": null,
            "flex_flow": null,
            "grid_area": null,
            "grid_auto_columns": null,
            "grid_auto_flow": null,
            "grid_auto_rows": null,
            "grid_column": null,
            "grid_gap": null,
            "grid_row": null,
            "grid_template_areas": null,
            "grid_template_columns": null,
            "grid_template_rows": null,
            "height": null,
            "justify_content": null,
            "justify_items": null,
            "left": null,
            "margin": null,
            "max_height": null,
            "max_width": null,
            "min_height": null,
            "min_width": null,
            "object_fit": null,
            "object_position": null,
            "order": null,
            "overflow": null,
            "overflow_x": null,
            "overflow_y": null,
            "padding": null,
            "right": null,
            "top": null,
            "visibility": null,
            "width": null
          }
        },
        "59079a070ddb4cf89c2de46f6867378c": {
          "model_module": "@jupyter-widgets/controls",
          "model_name": "DescriptionStyleModel",
          "model_module_version": "1.5.0",
          "state": {
            "_model_module": "@jupyter-widgets/controls",
            "_model_module_version": "1.5.0",
            "_model_name": "DescriptionStyleModel",
            "_view_count": null,
            "_view_module": "@jupyter-widgets/base",
            "_view_module_version": "1.2.0",
            "_view_name": "StyleView",
            "description_width": ""
          }
        },
        "ad8d8bf409aa4a69aeae772784e8e8ed": {
          "model_module": "@jupyter-widgets/controls",
          "model_name": "HBoxModel",
          "model_module_version": "1.5.0",
          "state": {
            "_dom_classes": [],
            "_model_module": "@jupyter-widgets/controls",
            "_model_module_version": "1.5.0",
            "_model_name": "HBoxModel",
            "_view_count": null,
            "_view_module": "@jupyter-widgets/controls",
            "_view_module_version": "1.5.0",
            "_view_name": "HBoxView",
            "box_style": "",
            "children": [
              "IPY_MODEL_18a7a3a20d804f4d9570d1d5497ed745",
              "IPY_MODEL_012242ac73dd47a3afb5c1472c8bd91b",
              "IPY_MODEL_6f4a254777b343fea669240dabc7b8cf"
            ],
            "layout": "IPY_MODEL_82ef41685674435abb25621dd6601b91"
          }
        },
        "18a7a3a20d804f4d9570d1d5497ed745": {
          "model_module": "@jupyter-widgets/controls",
          "model_name": "HTMLModel",
          "model_module_version": "1.5.0",
          "state": {
            "_dom_classes": [],
            "_model_module": "@jupyter-widgets/controls",
            "_model_module_version": "1.5.0",
            "_model_name": "HTMLModel",
            "_view_count": null,
            "_view_module": "@jupyter-widgets/controls",
            "_view_module_version": "1.5.0",
            "_view_name": "HTMLView",
            "description": "",
            "description_tooltip": null,
            "layout": "IPY_MODEL_29ec46565559479ead4c1fffc6356906",
            "placeholder": "​",
            "style": "IPY_MODEL_60858e608b7b444c9f6218114e588eff",
            "value": "(…)-00000-of-00001-869c898b519ad725.parquet: 100%"
          }
        },
        "012242ac73dd47a3afb5c1472c8bd91b": {
          "model_module": "@jupyter-widgets/controls",
          "model_name": "FloatProgressModel",
          "model_module_version": "1.5.0",
          "state": {
            "_dom_classes": [],
            "_model_module": "@jupyter-widgets/controls",
            "_model_module_version": "1.5.0",
            "_model_name": "FloatProgressModel",
            "_view_count": null,
            "_view_module": "@jupyter-widgets/controls",
            "_view_module_version": "1.5.0",
            "_view_name": "ProgressView",
            "bar_style": "success",
            "description": "",
            "description_tooltip": null,
            "layout": "IPY_MODEL_329004ab6b3c425d8a751083ac465943",
            "max": 9989127,
            "min": 0,
            "orientation": "horizontal",
            "style": "IPY_MODEL_83fe974888e24745b090a7b085a07bee",
            "value": 9989127
          }
        },
        "6f4a254777b343fea669240dabc7b8cf": {
          "model_module": "@jupyter-widgets/controls",
          "model_name": "HTMLModel",
          "model_module_version": "1.5.0",
          "state": {
            "_dom_classes": [],
            "_model_module": "@jupyter-widgets/controls",
            "_model_module_version": "1.5.0",
            "_model_name": "HTMLModel",
            "_view_count": null,
            "_view_module": "@jupyter-widgets/controls",
            "_view_module_version": "1.5.0",
            "_view_name": "HTMLView",
            "description": "",
            "description_tooltip": null,
            "layout": "IPY_MODEL_881163414a0d414bb99a72c2adfe7d69",
            "placeholder": "​",
            "style": "IPY_MODEL_16bc9d8a5be5410e8887062ee6dd7b73",
            "value": " 9.99M/9.99M [00:00&lt;00:00, 79.1MB/s]"
          }
        },
        "82ef41685674435abb25621dd6601b91": {
          "model_module": "@jupyter-widgets/base",
          "model_name": "LayoutModel",
          "model_module_version": "1.2.0",
          "state": {
            "_model_module": "@jupyter-widgets/base",
            "_model_module_version": "1.2.0",
            "_model_name": "LayoutModel",
            "_view_count": null,
            "_view_module": "@jupyter-widgets/base",
            "_view_module_version": "1.2.0",
            "_view_name": "LayoutView",
            "align_content": null,
            "align_items": null,
            "align_self": null,
            "border": null,
            "bottom": null,
            "display": null,
            "flex": null,
            "flex_flow": null,
            "grid_area": null,
            "grid_auto_columns": null,
            "grid_auto_flow": null,
            "grid_auto_rows": null,
            "grid_column": null,
            "grid_gap": null,
            "grid_row": null,
            "grid_template_areas": null,
            "grid_template_columns": null,
            "grid_template_rows": null,
            "height": null,
            "justify_content": null,
            "justify_items": null,
            "left": null,
            "margin": null,
            "max_height": null,
            "max_width": null,
            "min_height": null,
            "min_width": null,
            "object_fit": null,
            "object_position": null,
            "order": null,
            "overflow": null,
            "overflow_x": null,
            "overflow_y": null,
            "padding": null,
            "right": null,
            "top": null,
            "visibility": null,
            "width": null
          }
        },
        "29ec46565559479ead4c1fffc6356906": {
          "model_module": "@jupyter-widgets/base",
          "model_name": "LayoutModel",
          "model_module_version": "1.2.0",
          "state": {
            "_model_module": "@jupyter-widgets/base",
            "_model_module_version": "1.2.0",
            "_model_name": "LayoutModel",
            "_view_count": null,
            "_view_module": "@jupyter-widgets/base",
            "_view_module_version": "1.2.0",
            "_view_name": "LayoutView",
            "align_content": null,
            "align_items": null,
            "align_self": null,
            "border": null,
            "bottom": null,
            "display": null,
            "flex": null,
            "flex_flow": null,
            "grid_area": null,
            "grid_auto_columns": null,
            "grid_auto_flow": null,
            "grid_auto_rows": null,
            "grid_column": null,
            "grid_gap": null,
            "grid_row": null,
            "grid_template_areas": null,
            "grid_template_columns": null,
            "grid_template_rows": null,
            "height": null,
            "justify_content": null,
            "justify_items": null,
            "left": null,
            "margin": null,
            "max_height": null,
            "max_width": null,
            "min_height": null,
            "min_width": null,
            "object_fit": null,
            "object_position": null,
            "order": null,
            "overflow": null,
            "overflow_x": null,
            "overflow_y": null,
            "padding": null,
            "right": null,
            "top": null,
            "visibility": null,
            "width": null
          }
        },
        "60858e608b7b444c9f6218114e588eff": {
          "model_module": "@jupyter-widgets/controls",
          "model_name": "DescriptionStyleModel",
          "model_module_version": "1.5.0",
          "state": {
            "_model_module": "@jupyter-widgets/controls",
            "_model_module_version": "1.5.0",
            "_model_name": "DescriptionStyleModel",
            "_view_count": null,
            "_view_module": "@jupyter-widgets/base",
            "_view_module_version": "1.2.0",
            "_view_name": "StyleView",
            "description_width": ""
          }
        },
        "329004ab6b3c425d8a751083ac465943": {
          "model_module": "@jupyter-widgets/base",
          "model_name": "LayoutModel",
          "model_module_version": "1.2.0",
          "state": {
            "_model_module": "@jupyter-widgets/base",
            "_model_module_version": "1.2.0",
            "_model_name": "LayoutModel",
            "_view_count": null,
            "_view_module": "@jupyter-widgets/base",
            "_view_module_version": "1.2.0",
            "_view_name": "LayoutView",
            "align_content": null,
            "align_items": null,
            "align_self": null,
            "border": null,
            "bottom": null,
            "display": null,
            "flex": null,
            "flex_flow": null,
            "grid_area": null,
            "grid_auto_columns": null,
            "grid_auto_flow": null,
            "grid_auto_rows": null,
            "grid_column": null,
            "grid_gap": null,
            "grid_row": null,
            "grid_template_areas": null,
            "grid_template_columns": null,
            "grid_template_rows": null,
            "height": null,
            "justify_content": null,
            "justify_items": null,
            "left": null,
            "margin": null,
            "max_height": null,
            "max_width": null,
            "min_height": null,
            "min_width": null,
            "object_fit": null,
            "object_position": null,
            "order": null,
            "overflow": null,
            "overflow_x": null,
            "overflow_y": null,
            "padding": null,
            "right": null,
            "top": null,
            "visibility": null,
            "width": null
          }
        },
        "83fe974888e24745b090a7b085a07bee": {
          "model_module": "@jupyter-widgets/controls",
          "model_name": "ProgressStyleModel",
          "model_module_version": "1.5.0",
          "state": {
            "_model_module": "@jupyter-widgets/controls",
            "_model_module_version": "1.5.0",
            "_model_name": "ProgressStyleModel",
            "_view_count": null,
            "_view_module": "@jupyter-widgets/base",
            "_view_module_version": "1.2.0",
            "_view_name": "StyleView",
            "bar_color": null,
            "description_width": ""
          }
        },
        "881163414a0d414bb99a72c2adfe7d69": {
          "model_module": "@jupyter-widgets/base",
          "model_name": "LayoutModel",
          "model_module_version": "1.2.0",
          "state": {
            "_model_module": "@jupyter-widgets/base",
            "_model_module_version": "1.2.0",
            "_model_name": "LayoutModel",
            "_view_count": null,
            "_view_module": "@jupyter-widgets/base",
            "_view_module_version": "1.2.0",
            "_view_name": "LayoutView",
            "align_content": null,
            "align_items": null,
            "align_self": null,
            "border": null,
            "bottom": null,
            "display": null,
            "flex": null,
            "flex_flow": null,
            "grid_area": null,
            "grid_auto_columns": null,
            "grid_auto_flow": null,
            "grid_auto_rows": null,
            "grid_column": null,
            "grid_gap": null,
            "grid_row": null,
            "grid_template_areas": null,
            "grid_template_columns": null,
            "grid_template_rows": null,
            "height": null,
            "justify_content": null,
            "justify_items": null,
            "left": null,
            "margin": null,
            "max_height": null,
            "max_width": null,
            "min_height": null,
            "min_width": null,
            "object_fit": null,
            "object_position": null,
            "order": null,
            "overflow": null,
            "overflow_x": null,
            "overflow_y": null,
            "padding": null,
            "right": null,
            "top": null,
            "visibility": null,
            "width": null
          }
        },
        "16bc9d8a5be5410e8887062ee6dd7b73": {
          "model_module": "@jupyter-widgets/controls",
          "model_name": "DescriptionStyleModel",
          "model_module_version": "1.5.0",
          "state": {
            "_model_module": "@jupyter-widgets/controls",
            "_model_module_version": "1.5.0",
            "_model_name": "DescriptionStyleModel",
            "_view_count": null,
            "_view_module": "@jupyter-widgets/base",
            "_view_module_version": "1.2.0",
            "_view_name": "StyleView",
            "description_width": ""
          }
        },
        "6328c53bb218475bb50efe100893553e": {
          "model_module": "@jupyter-widgets/controls",
          "model_name": "HBoxModel",
          "model_module_version": "1.5.0",
          "state": {
            "_dom_classes": [],
            "_model_module": "@jupyter-widgets/controls",
            "_model_module_version": "1.5.0",
            "_model_name": "HBoxModel",
            "_view_count": null,
            "_view_module": "@jupyter-widgets/controls",
            "_view_module_version": "1.5.0",
            "_view_name": "HBoxView",
            "box_style": "",
            "children": [
              "IPY_MODEL_b886d09125e741a9b37c9936e294b063",
              "IPY_MODEL_dec2d95c695343819ad81faa3f0ad4e3",
              "IPY_MODEL_153f08c6f6b34da3afedab355d5a6c65"
            ],
            "layout": "IPY_MODEL_aeecd27eff3c40f6abfdc2c83b49e9e2"
          }
        },
        "b886d09125e741a9b37c9936e294b063": {
          "model_module": "@jupyter-widgets/controls",
          "model_name": "HTMLModel",
          "model_module_version": "1.5.0",
          "state": {
            "_dom_classes": [],
            "_model_module": "@jupyter-widgets/controls",
            "_model_module_version": "1.5.0",
            "_model_name": "HTMLModel",
            "_view_count": null,
            "_view_module": "@jupyter-widgets/controls",
            "_view_module_version": "1.5.0",
            "_view_name": "HTMLView",
            "description": "",
            "description_tooltip": null,
            "layout": "IPY_MODEL_f6b8eab503d34f1c8a00f9e87c41099b",
            "placeholder": "​",
            "style": "IPY_MODEL_502aa195dc094b579659bf37a8cf084d",
            "value": "Generating train split: 100%"
          }
        },
        "dec2d95c695343819ad81faa3f0ad4e3": {
          "model_module": "@jupyter-widgets/controls",
          "model_name": "FloatProgressModel",
          "model_module_version": "1.5.0",
          "state": {
            "_dom_classes": [],
            "_model_module": "@jupyter-widgets/controls",
            "_model_module_version": "1.5.0",
            "_model_name": "FloatProgressModel",
            "_view_count": null,
            "_view_module": "@jupyter-widgets/controls",
            "_view_module_version": "1.5.0",
            "_view_name": "ProgressView",
            "bar_style": "success",
            "description": "",
            "description_tooltip": null,
            "layout": "IPY_MODEL_cda4939efacb42e38ea58cb80583f8c4",
            "max": 2119719,
            "min": 0,
            "orientation": "horizontal",
            "style": "IPY_MODEL_228479c36d9645a3badb90e522ad4440",
            "value": 2119719
          }
        },
        "153f08c6f6b34da3afedab355d5a6c65": {
          "model_module": "@jupyter-widgets/controls",
          "model_name": "HTMLModel",
          "model_module_version": "1.5.0",
          "state": {
            "_dom_classes": [],
            "_model_module": "@jupyter-widgets/controls",
            "_model_module_version": "1.5.0",
            "_model_name": "HTMLModel",
            "_view_count": null,
            "_view_module": "@jupyter-widgets/controls",
            "_view_module_version": "1.5.0",
            "_view_name": "HTMLView",
            "description": "",
            "description_tooltip": null,
            "layout": "IPY_MODEL_62381b44e9ce4d48ba3c0e6d64d1059f",
            "placeholder": "​",
            "style": "IPY_MODEL_a501b2fd582e41aaa6a6fa471050c308",
            "value": " 2119719/2119719 [00:18&lt;00:00, 156030.21 examples/s]"
          }
        },
        "aeecd27eff3c40f6abfdc2c83b49e9e2": {
          "model_module": "@jupyter-widgets/base",
          "model_name": "LayoutModel",
          "model_module_version": "1.2.0",
          "state": {
            "_model_module": "@jupyter-widgets/base",
            "_model_module_version": "1.2.0",
            "_model_name": "LayoutModel",
            "_view_count": null,
            "_view_module": "@jupyter-widgets/base",
            "_view_module_version": "1.2.0",
            "_view_name": "LayoutView",
            "align_content": null,
            "align_items": null,
            "align_self": null,
            "border": null,
            "bottom": null,
            "display": null,
            "flex": null,
            "flex_flow": null,
            "grid_area": null,
            "grid_auto_columns": null,
            "grid_auto_flow": null,
            "grid_auto_rows": null,
            "grid_column": null,
            "grid_gap": null,
            "grid_row": null,
            "grid_template_areas": null,
            "grid_template_columns": null,
            "grid_template_rows": null,
            "height": null,
            "justify_content": null,
            "justify_items": null,
            "left": null,
            "margin": null,
            "max_height": null,
            "max_width": null,
            "min_height": null,
            "min_width": null,
            "object_fit": null,
            "object_position": null,
            "order": null,
            "overflow": null,
            "overflow_x": null,
            "overflow_y": null,
            "padding": null,
            "right": null,
            "top": null,
            "visibility": null,
            "width": null
          }
        },
        "f6b8eab503d34f1c8a00f9e87c41099b": {
          "model_module": "@jupyter-widgets/base",
          "model_name": "LayoutModel",
          "model_module_version": "1.2.0",
          "state": {
            "_model_module": "@jupyter-widgets/base",
            "_model_module_version": "1.2.0",
            "_model_name": "LayoutModel",
            "_view_count": null,
            "_view_module": "@jupyter-widgets/base",
            "_view_module_version": "1.2.0",
            "_view_name": "LayoutView",
            "align_content": null,
            "align_items": null,
            "align_self": null,
            "border": null,
            "bottom": null,
            "display": null,
            "flex": null,
            "flex_flow": null,
            "grid_area": null,
            "grid_auto_columns": null,
            "grid_auto_flow": null,
            "grid_auto_rows": null,
            "grid_column": null,
            "grid_gap": null,
            "grid_row": null,
            "grid_template_areas": null,
            "grid_template_columns": null,
            "grid_template_rows": null,
            "height": null,
            "justify_content": null,
            "justify_items": null,
            "left": null,
            "margin": null,
            "max_height": null,
            "max_width": null,
            "min_height": null,
            "min_width": null,
            "object_fit": null,
            "object_position": null,
            "order": null,
            "overflow": null,
            "overflow_x": null,
            "overflow_y": null,
            "padding": null,
            "right": null,
            "top": null,
            "visibility": null,
            "width": null
          }
        },
        "502aa195dc094b579659bf37a8cf084d": {
          "model_module": "@jupyter-widgets/controls",
          "model_name": "DescriptionStyleModel",
          "model_module_version": "1.5.0",
          "state": {
            "_model_module": "@jupyter-widgets/controls",
            "_model_module_version": "1.5.0",
            "_model_name": "DescriptionStyleModel",
            "_view_count": null,
            "_view_module": "@jupyter-widgets/base",
            "_view_module_version": "1.2.0",
            "_view_name": "StyleView",
            "description_width": ""
          }
        },
        "cda4939efacb42e38ea58cb80583f8c4": {
          "model_module": "@jupyter-widgets/base",
          "model_name": "LayoutModel",
          "model_module_version": "1.2.0",
          "state": {
            "_model_module": "@jupyter-widgets/base",
            "_model_module_version": "1.2.0",
            "_model_name": "LayoutModel",
            "_view_count": null,
            "_view_module": "@jupyter-widgets/base",
            "_view_module_version": "1.2.0",
            "_view_name": "LayoutView",
            "align_content": null,
            "align_items": null,
            "align_self": null,
            "border": null,
            "bottom": null,
            "display": null,
            "flex": null,
            "flex_flow": null,
            "grid_area": null,
            "grid_auto_columns": null,
            "grid_auto_flow": null,
            "grid_auto_rows": null,
            "grid_column": null,
            "grid_gap": null,
            "grid_row": null,
            "grid_template_areas": null,
            "grid_template_columns": null,
            "grid_template_rows": null,
            "height": null,
            "justify_content": null,
            "justify_items": null,
            "left": null,
            "margin": null,
            "max_height": null,
            "max_width": null,
            "min_height": null,
            "min_width": null,
            "object_fit": null,
            "object_position": null,
            "order": null,
            "overflow": null,
            "overflow_x": null,
            "overflow_y": null,
            "padding": null,
            "right": null,
            "top": null,
            "visibility": null,
            "width": null
          }
        },
        "228479c36d9645a3badb90e522ad4440": {
          "model_module": "@jupyter-widgets/controls",
          "model_name": "ProgressStyleModel",
          "model_module_version": "1.5.0",
          "state": {
            "_model_module": "@jupyter-widgets/controls",
            "_model_module_version": "1.5.0",
            "_model_name": "ProgressStyleModel",
            "_view_count": null,
            "_view_module": "@jupyter-widgets/base",
            "_view_module_version": "1.2.0",
            "_view_name": "StyleView",
            "bar_color": null,
            "description_width": ""
          }
        },
        "62381b44e9ce4d48ba3c0e6d64d1059f": {
          "model_module": "@jupyter-widgets/base",
          "model_name": "LayoutModel",
          "model_module_version": "1.2.0",
          "state": {
            "_model_module": "@jupyter-widgets/base",
            "_model_module_version": "1.2.0",
            "_model_name": "LayoutModel",
            "_view_count": null,
            "_view_module": "@jupyter-widgets/base",
            "_view_module_version": "1.2.0",
            "_view_name": "LayoutView",
            "align_content": null,
            "align_items": null,
            "align_self": null,
            "border": null,
            "bottom": null,
            "display": null,
            "flex": null,
            "flex_flow": null,
            "grid_area": null,
            "grid_auto_columns": null,
            "grid_auto_flow": null,
            "grid_auto_rows": null,
            "grid_column": null,
            "grid_gap": null,
            "grid_row": null,
            "grid_template_areas": null,
            "grid_template_columns": null,
            "grid_template_rows": null,
            "height": null,
            "justify_content": null,
            "justify_items": null,
            "left": null,
            "margin": null,
            "max_height": null,
            "max_width": null,
            "min_height": null,
            "min_width": null,
            "object_fit": null,
            "object_position": null,
            "order": null,
            "overflow": null,
            "overflow_x": null,
            "overflow_y": null,
            "padding": null,
            "right": null,
            "top": null,
            "visibility": null,
            "width": null
          }
        },
        "a501b2fd582e41aaa6a6fa471050c308": {
          "model_module": "@jupyter-widgets/controls",
          "model_name": "DescriptionStyleModel",
          "model_module_version": "1.5.0",
          "state": {
            "_model_module": "@jupyter-widgets/controls",
            "_model_module_version": "1.5.0",
            "_model_name": "DescriptionStyleModel",
            "_view_count": null,
            "_view_module": "@jupyter-widgets/base",
            "_view_module_version": "1.2.0",
            "_view_name": "StyleView",
            "description_width": ""
          }
        },
        "8815c3aa2eb74b25a6c04ba8564218ae": {
          "model_module": "@jupyter-widgets/controls",
          "model_name": "HBoxModel",
          "model_module_version": "1.5.0",
          "state": {
            "_dom_classes": [],
            "_model_module": "@jupyter-widgets/controls",
            "_model_module_version": "1.5.0",
            "_model_name": "HBoxModel",
            "_view_count": null,
            "_view_module": "@jupyter-widgets/controls",
            "_view_module_version": "1.5.0",
            "_view_name": "HBoxView",
            "box_style": "",
            "children": [
              "IPY_MODEL_464a4182365a492bb4c2a256f379f2a8",
              "IPY_MODEL_7cdac2f7838447639a3a1611146e04e5",
              "IPY_MODEL_e8159473956343e3941da833de77a2f9"
            ],
            "layout": "IPY_MODEL_cfcf7b4b32cb45a0ab007835171cc933"
          }
        },
        "464a4182365a492bb4c2a256f379f2a8": {
          "model_module": "@jupyter-widgets/controls",
          "model_name": "HTMLModel",
          "model_module_version": "1.5.0",
          "state": {
            "_dom_classes": [],
            "_model_module": "@jupyter-widgets/controls",
            "_model_module_version": "1.5.0",
            "_model_name": "HTMLModel",
            "_view_count": null,
            "_view_module": "@jupyter-widgets/controls",
            "_view_module_version": "1.5.0",
            "_view_name": "HTMLView",
            "description": "",
            "description_tooltip": null,
            "layout": "IPY_MODEL_5e43326cc58940a0a0dd95774dad3c59",
            "placeholder": "​",
            "style": "IPY_MODEL_e293423d2fca4d22b7c344efa2197151",
            "value": "Generating validation split: 100%"
          }
        },
        "7cdac2f7838447639a3a1611146e04e5": {
          "model_module": "@jupyter-widgets/controls",
          "model_name": "FloatProgressModel",
          "model_module_version": "1.5.0",
          "state": {
            "_dom_classes": [],
            "_model_module": "@jupyter-widgets/controls",
            "_model_module_version": "1.5.0",
            "_model_name": "FloatProgressModel",
            "_view_count": null,
            "_view_module": "@jupyter-widgets/controls",
            "_view_module_version": "1.5.0",
            "_view_name": "ProgressView",
            "bar_style": "success",
            "description": "",
            "description_tooltip": null,
            "layout": "IPY_MODEL_127ca02bec6442dda9327b9654ea5dd8",
            "max": 21990,
            "min": 0,
            "orientation": "horizontal",
            "style": "IPY_MODEL_8ac6be06c26343bbad1496d3db44cf4f",
            "value": 21990
          }
        },
        "e8159473956343e3941da833de77a2f9": {
          "model_module": "@jupyter-widgets/controls",
          "model_name": "HTMLModel",
          "model_module_version": "1.5.0",
          "state": {
            "_dom_classes": [],
            "_model_module": "@jupyter-widgets/controls",
            "_model_module_version": "1.5.0",
            "_model_name": "HTMLModel",
            "_view_count": null,
            "_view_module": "@jupyter-widgets/controls",
            "_view_module_version": "1.5.0",
            "_view_name": "HTMLView",
            "description": "",
            "description_tooltip": null,
            "layout": "IPY_MODEL_6441b5f469d449fa9d43ed8614ed52ac",
            "placeholder": "​",
            "style": "IPY_MODEL_6d0a53d5262648eab031128f143e0052",
            "value": " 21990/21990 [00:00&lt;00:00, 153170.98 examples/s]"
          }
        },
        "cfcf7b4b32cb45a0ab007835171cc933": {
          "model_module": "@jupyter-widgets/base",
          "model_name": "LayoutModel",
          "model_module_version": "1.2.0",
          "state": {
            "_model_module": "@jupyter-widgets/base",
            "_model_module_version": "1.2.0",
            "_model_name": "LayoutModel",
            "_view_count": null,
            "_view_module": "@jupyter-widgets/base",
            "_view_module_version": "1.2.0",
            "_view_name": "LayoutView",
            "align_content": null,
            "align_items": null,
            "align_self": null,
            "border": null,
            "bottom": null,
            "display": null,
            "flex": null,
            "flex_flow": null,
            "grid_area": null,
            "grid_auto_columns": null,
            "grid_auto_flow": null,
            "grid_auto_rows": null,
            "grid_column": null,
            "grid_gap": null,
            "grid_row": null,
            "grid_template_areas": null,
            "grid_template_columns": null,
            "grid_template_rows": null,
            "height": null,
            "justify_content": null,
            "justify_items": null,
            "left": null,
            "margin": null,
            "max_height": null,
            "max_width": null,
            "min_height": null,
            "min_width": null,
            "object_fit": null,
            "object_position": null,
            "order": null,
            "overflow": null,
            "overflow_x": null,
            "overflow_y": null,
            "padding": null,
            "right": null,
            "top": null,
            "visibility": null,
            "width": null
          }
        },
        "5e43326cc58940a0a0dd95774dad3c59": {
          "model_module": "@jupyter-widgets/base",
          "model_name": "LayoutModel",
          "model_module_version": "1.2.0",
          "state": {
            "_model_module": "@jupyter-widgets/base",
            "_model_module_version": "1.2.0",
            "_model_name": "LayoutModel",
            "_view_count": null,
            "_view_module": "@jupyter-widgets/base",
            "_view_module_version": "1.2.0",
            "_view_name": "LayoutView",
            "align_content": null,
            "align_items": null,
            "align_self": null,
            "border": null,
            "bottom": null,
            "display": null,
            "flex": null,
            "flex_flow": null,
            "grid_area": null,
            "grid_auto_columns": null,
            "grid_auto_flow": null,
            "grid_auto_rows": null,
            "grid_column": null,
            "grid_gap": null,
            "grid_row": null,
            "grid_template_areas": null,
            "grid_template_columns": null,
            "grid_template_rows": null,
            "height": null,
            "justify_content": null,
            "justify_items": null,
            "left": null,
            "margin": null,
            "max_height": null,
            "max_width": null,
            "min_height": null,
            "min_width": null,
            "object_fit": null,
            "object_position": null,
            "order": null,
            "overflow": null,
            "overflow_x": null,
            "overflow_y": null,
            "padding": null,
            "right": null,
            "top": null,
            "visibility": null,
            "width": null
          }
        },
        "e293423d2fca4d22b7c344efa2197151": {
          "model_module": "@jupyter-widgets/controls",
          "model_name": "DescriptionStyleModel",
          "model_module_version": "1.5.0",
          "state": {
            "_model_module": "@jupyter-widgets/controls",
            "_model_module_version": "1.5.0",
            "_model_name": "DescriptionStyleModel",
            "_view_count": null,
            "_view_module": "@jupyter-widgets/base",
            "_view_module_version": "1.2.0",
            "_view_name": "StyleView",
            "description_width": ""
          }
        },
        "127ca02bec6442dda9327b9654ea5dd8": {
          "model_module": "@jupyter-widgets/base",
          "model_name": "LayoutModel",
          "model_module_version": "1.2.0",
          "state": {
            "_model_module": "@jupyter-widgets/base",
            "_model_module_version": "1.2.0",
            "_model_name": "LayoutModel",
            "_view_count": null,
            "_view_module": "@jupyter-widgets/base",
            "_view_module_version": "1.2.0",
            "_view_name": "LayoutView",
            "align_content": null,
            "align_items": null,
            "align_self": null,
            "border": null,
            "bottom": null,
            "display": null,
            "flex": null,
            "flex_flow": null,
            "grid_area": null,
            "grid_auto_columns": null,
            "grid_auto_flow": null,
            "grid_auto_rows": null,
            "grid_column": null,
            "grid_gap": null,
            "grid_row": null,
            "grid_template_areas": null,
            "grid_template_columns": null,
            "grid_template_rows": null,
            "height": null,
            "justify_content": null,
            "justify_items": null,
            "left": null,
            "margin": null,
            "max_height": null,
            "max_width": null,
            "min_height": null,
            "min_width": null,
            "object_fit": null,
            "object_position": null,
            "order": null,
            "overflow": null,
            "overflow_x": null,
            "overflow_y": null,
            "padding": null,
            "right": null,
            "top": null,
            "visibility": null,
            "width": null
          }
        },
        "8ac6be06c26343bbad1496d3db44cf4f": {
          "model_module": "@jupyter-widgets/controls",
          "model_name": "ProgressStyleModel",
          "model_module_version": "1.5.0",
          "state": {
            "_model_module": "@jupyter-widgets/controls",
            "_model_module_version": "1.5.0",
            "_model_name": "ProgressStyleModel",
            "_view_count": null,
            "_view_module": "@jupyter-widgets/base",
            "_view_module_version": "1.2.0",
            "_view_name": "StyleView",
            "bar_color": null,
            "description_width": ""
          }
        },
        "6441b5f469d449fa9d43ed8614ed52ac": {
          "model_module": "@jupyter-widgets/base",
          "model_name": "LayoutModel",
          "model_module_version": "1.2.0",
          "state": {
            "_model_module": "@jupyter-widgets/base",
            "_model_module_version": "1.2.0",
            "_model_name": "LayoutModel",
            "_view_count": null,
            "_view_module": "@jupyter-widgets/base",
            "_view_module_version": "1.2.0",
            "_view_name": "LayoutView",
            "align_content": null,
            "align_items": null,
            "align_self": null,
            "border": null,
            "bottom": null,
            "display": null,
            "flex": null,
            "flex_flow": null,
            "grid_area": null,
            "grid_auto_columns": null,
            "grid_auto_flow": null,
            "grid_auto_rows": null,
            "grid_column": null,
            "grid_gap": null,
            "grid_row": null,
            "grid_template_areas": null,
            "grid_template_columns": null,
            "grid_template_rows": null,
            "height": null,
            "justify_content": null,
            "justify_items": null,
            "left": null,
            "margin": null,
            "max_height": null,
            "max_width": null,
            "min_height": null,
            "min_width": null,
            "object_fit": null,
            "object_position": null,
            "order": null,
            "overflow": null,
            "overflow_x": null,
            "overflow_y": null,
            "padding": null,
            "right": null,
            "top": null,
            "visibility": null,
            "width": null
          }
        },
        "6d0a53d5262648eab031128f143e0052": {
          "model_module": "@jupyter-widgets/controls",
          "model_name": "DescriptionStyleModel",
          "model_module_version": "1.5.0",
          "state": {
            "_model_module": "@jupyter-widgets/controls",
            "_model_module_version": "1.5.0",
            "_model_name": "DescriptionStyleModel",
            "_view_count": null,
            "_view_module": "@jupyter-widgets/base",
            "_view_module_version": "1.2.0",
            "_view_name": "StyleView",
            "description_width": ""
          }
        }
      }
    }
  },
  "cells": [
    {
      "cell_type": "markdown",
      "metadata": {
        "id": "view-in-github",
        "colab_type": "text"
      },
      "source": [
        "<a href=\"https://colab.research.google.com/github/howsam/Building-a-ChatGPT-like-Model-from-Scratch/blob/main/Data.ipynb\" target=\"_parent\"><img src=\"https://colab.research.google.com/assets/colab-badge.svg\" alt=\"Open In Colab\"/></a>"
      ]
    },
    {
      "cell_type": "markdown",
      "metadata": {
        "id": "-uXkcYhkIxS-"
      },
      "source": [
        "#  <font color='#FFE15D'><b>💎 Data</b></font>"
      ]
    },
    {
      "cell_type": "markdown",
      "metadata": {
        "id": "VrFCH9hpEyip"
      },
      "source": [
        "# 🔴 **Environment Setup**"
      ]
    },
    {
      "cell_type": "markdown",
      "metadata": {
        "id": "3in1e9BksgIh"
      },
      "source": [
        "## 🟠 Change the font size of the output cells"
      ]
    },
    {
      "cell_type": "code",
      "execution_count": null,
      "metadata": {
        "colab": {
          "base_uri": "https://localhost:8080/"
        },
        "id": "1_nYkVog8SUR",
        "outputId": "62dfaa0a-d8b1-437c-8943-7182a5bf9e7c"
      },
      "outputs": [
        {
          "output_type": "stream",
          "name": "stdout",
          "text": [
            "Salam Howsam!\n"
          ]
        }
      ],
      "source": [
        "print('Salam Howsam!')"
      ]
    },
    {
      "cell_type": "code",
      "execution_count": null,
      "metadata": {
        "id": "BmMM0EfKsSiO"
      },
      "outputs": [],
      "source": [
        "from IPython.display import HTML\n",
        "shell = get_ipython()\n",
        "\n",
        "def adjust_font_size():\n",
        "  display(HTML('''<style>\n",
        "    body {\n",
        "      font-size: 24px;\n",
        "    }\n",
        "  '''))\n",
        "\n",
        "if adjust_font_size not in shell.events.callbacks['pre_execute']:\n",
        "  shell.events.register('pre_execute', adjust_font_size)"
      ]
    },
    {
      "cell_type": "code",
      "execution_count": null,
      "metadata": {
        "colab": {
          "base_uri": "https://localhost:8080/"
        },
        "id": "10N1yUE88XRW",
        "outputId": "55473ab5-3a19-4906-ce95-cba0575c0506"
      },
      "outputs": [
        {
          "output_type": "display_data",
          "data": {
            "text/plain": [
              "<IPython.core.display.HTML object>"
            ],
            "text/html": [
              "<style>\n",
              "    body {\n",
              "      font-size: 24px;\n",
              "    }\n",
              "  "
            ]
          },
          "metadata": {}
        },
        {
          "output_type": "stream",
          "name": "stdout",
          "text": [
            "Salam Howsam!\n"
          ]
        }
      ],
      "source": [
        "print('Salam Howsam!')"
      ]
    },
    {
      "cell_type": "markdown",
      "metadata": {
        "id": "iyvgTrq2z2IT"
      },
      "source": [
        "## 🟠 `pip`"
      ]
    },
    {
      "cell_type": "code",
      "source": [
        "!pip install datasets"
      ],
      "metadata": {
        "colab": {
          "base_uri": "https://localhost:8080/"
        },
        "id": "DD2m5APXz50-",
        "outputId": "23d12196-cd27-482a-b4de-f6552eeff645"
      },
      "execution_count": null,
      "outputs": [
        {
          "output_type": "display_data",
          "data": {
            "text/plain": [
              "<IPython.core.display.HTML object>"
            ],
            "text/html": [
              "<style>\n",
              "    body {\n",
              "      font-size: 24px;\n",
              "    }\n",
              "  "
            ]
          },
          "metadata": {}
        },
        {
          "output_type": "stream",
          "name": "stdout",
          "text": [
            "Collecting datasets\n",
            "  Downloading datasets-3.5.0-py3-none-any.whl.metadata (19 kB)\n",
            "Requirement already satisfied: filelock in /usr/local/lib/python3.11/dist-packages (from datasets) (3.18.0)\n",
            "Requirement already satisfied: numpy>=1.17 in /usr/local/lib/python3.11/dist-packages (from datasets) (2.0.2)\n",
            "Requirement already satisfied: pyarrow>=15.0.0 in /usr/local/lib/python3.11/dist-packages (from datasets) (18.1.0)\n",
            "Collecting dill<0.3.9,>=0.3.0 (from datasets)\n",
            "  Downloading dill-0.3.8-py3-none-any.whl.metadata (10 kB)\n",
            "Requirement already satisfied: pandas in /usr/local/lib/python3.11/dist-packages (from datasets) (2.2.2)\n",
            "Requirement already satisfied: requests>=2.32.2 in /usr/local/lib/python3.11/dist-packages (from datasets) (2.32.3)\n",
            "Requirement already satisfied: tqdm>=4.66.3 in /usr/local/lib/python3.11/dist-packages (from datasets) (4.67.1)\n",
            "Collecting xxhash (from datasets)\n",
            "  Downloading xxhash-3.5.0-cp311-cp311-manylinux_2_17_x86_64.manylinux2014_x86_64.whl.metadata (12 kB)\n",
            "Collecting multiprocess<0.70.17 (from datasets)\n",
            "  Downloading multiprocess-0.70.16-py311-none-any.whl.metadata (7.2 kB)\n",
            "Collecting fsspec<=2024.12.0,>=2023.1.0 (from fsspec[http]<=2024.12.0,>=2023.1.0->datasets)\n",
            "  Downloading fsspec-2024.12.0-py3-none-any.whl.metadata (11 kB)\n",
            "Requirement already satisfied: aiohttp in /usr/local/lib/python3.11/dist-packages (from datasets) (3.11.15)\n",
            "Requirement already satisfied: huggingface-hub>=0.24.0 in /usr/local/lib/python3.11/dist-packages (from datasets) (0.30.2)\n",
            "Requirement already satisfied: packaging in /usr/local/lib/python3.11/dist-packages (from datasets) (24.2)\n",
            "Requirement already satisfied: pyyaml>=5.1 in /usr/local/lib/python3.11/dist-packages (from datasets) (6.0.2)\n",
            "Requirement already satisfied: aiohappyeyeballs>=2.3.0 in /usr/local/lib/python3.11/dist-packages (from aiohttp->datasets) (2.6.1)\n",
            "Requirement already satisfied: aiosignal>=1.1.2 in /usr/local/lib/python3.11/dist-packages (from aiohttp->datasets) (1.3.2)\n",
            "Requirement already satisfied: attrs>=17.3.0 in /usr/local/lib/python3.11/dist-packages (from aiohttp->datasets) (25.3.0)\n",
            "Requirement already satisfied: frozenlist>=1.1.1 in /usr/local/lib/python3.11/dist-packages (from aiohttp->datasets) (1.5.0)\n",
            "Requirement already satisfied: multidict<7.0,>=4.5 in /usr/local/lib/python3.11/dist-packages (from aiohttp->datasets) (6.4.2)\n",
            "Requirement already satisfied: propcache>=0.2.0 in /usr/local/lib/python3.11/dist-packages (from aiohttp->datasets) (0.3.1)\n",
            "Requirement already satisfied: yarl<2.0,>=1.17.0 in /usr/local/lib/python3.11/dist-packages (from aiohttp->datasets) (1.19.0)\n",
            "Requirement already satisfied: typing-extensions>=3.7.4.3 in /usr/local/lib/python3.11/dist-packages (from huggingface-hub>=0.24.0->datasets) (4.13.1)\n",
            "Requirement already satisfied: charset-normalizer<4,>=2 in /usr/local/lib/python3.11/dist-packages (from requests>=2.32.2->datasets) (3.4.1)\n",
            "Requirement already satisfied: idna<4,>=2.5 in /usr/local/lib/python3.11/dist-packages (from requests>=2.32.2->datasets) (3.10)\n",
            "Requirement already satisfied: urllib3<3,>=1.21.1 in /usr/local/lib/python3.11/dist-packages (from requests>=2.32.2->datasets) (2.3.0)\n",
            "Requirement already satisfied: certifi>=2017.4.17 in /usr/local/lib/python3.11/dist-packages (from requests>=2.32.2->datasets) (2025.1.31)\n",
            "Requirement already satisfied: python-dateutil>=2.8.2 in /usr/local/lib/python3.11/dist-packages (from pandas->datasets) (2.8.2)\n",
            "Requirement already satisfied: pytz>=2020.1 in /usr/local/lib/python3.11/dist-packages (from pandas->datasets) (2025.2)\n",
            "Requirement already satisfied: tzdata>=2022.7 in /usr/local/lib/python3.11/dist-packages (from pandas->datasets) (2025.2)\n",
            "Requirement already satisfied: six>=1.5 in /usr/local/lib/python3.11/dist-packages (from python-dateutil>=2.8.2->pandas->datasets) (1.17.0)\n",
            "Downloading datasets-3.5.0-py3-none-any.whl (491 kB)\n",
            "\u001b[2K   \u001b[90m━━━━━━━━━━━━━━━━━━━━━━━━━━━━━━━━━━━━━━━━\u001b[0m \u001b[32m491.2/491.2 kB\u001b[0m \u001b[31m8.8 MB/s\u001b[0m eta \u001b[36m0:00:00\u001b[0m\n",
            "\u001b[?25hDownloading dill-0.3.8-py3-none-any.whl (116 kB)\n",
            "\u001b[2K   \u001b[90m━━━━━━━━━━━━━━━━━━━━━━━━━━━━━━━━━━━━━━━━\u001b[0m \u001b[32m116.3/116.3 kB\u001b[0m \u001b[31m7.8 MB/s\u001b[0m eta \u001b[36m0:00:00\u001b[0m\n",
            "\u001b[?25hDownloading fsspec-2024.12.0-py3-none-any.whl (183 kB)\n",
            "\u001b[2K   \u001b[90m━━━━━━━━━━━━━━━━━━━━━━━━━━━━━━━━━━━━━━━━\u001b[0m \u001b[32m183.9/183.9 kB\u001b[0m \u001b[31m11.7 MB/s\u001b[0m eta \u001b[36m0:00:00\u001b[0m\n",
            "\u001b[?25hDownloading multiprocess-0.70.16-py311-none-any.whl (143 kB)\n",
            "\u001b[2K   \u001b[90m━━━━━━━━━━━━━━━━━━━━━━━━━━━━━━━━━━━━━━━━\u001b[0m \u001b[32m143.5/143.5 kB\u001b[0m \u001b[31m7.1 MB/s\u001b[0m eta \u001b[36m0:00:00\u001b[0m\n",
            "\u001b[?25hDownloading xxhash-3.5.0-cp311-cp311-manylinux_2_17_x86_64.manylinux2014_x86_64.whl (194 kB)\n",
            "\u001b[2K   \u001b[90m━━━━━━━━━━━━━━━━━━━━━━━━━━━━━━━━━━━━━━━━\u001b[0m \u001b[32m194.8/194.8 kB\u001b[0m \u001b[31m8.6 MB/s\u001b[0m eta \u001b[36m0:00:00\u001b[0m\n",
            "\u001b[?25hInstalling collected packages: xxhash, fsspec, dill, multiprocess, datasets\n",
            "  Attempting uninstall: fsspec\n",
            "    Found existing installation: fsspec 2025.3.2\n",
            "    Uninstalling fsspec-2025.3.2:\n",
            "      Successfully uninstalled fsspec-2025.3.2\n",
            "\u001b[31mERROR: pip's dependency resolver does not currently take into account all the packages that are installed. This behaviour is the source of the following dependency conflicts.\n",
            "gcsfs 2025.3.2 requires fsspec==2025.3.2, but you have fsspec 2024.12.0 which is incompatible.\n",
            "torch 2.6.0+cu124 requires nvidia-cublas-cu12==12.4.5.8; platform_system == \"Linux\" and platform_machine == \"x86_64\", but you have nvidia-cublas-cu12 12.5.3.2 which is incompatible.\n",
            "torch 2.6.0+cu124 requires nvidia-cuda-cupti-cu12==12.4.127; platform_system == \"Linux\" and platform_machine == \"x86_64\", but you have nvidia-cuda-cupti-cu12 12.5.82 which is incompatible.\n",
            "torch 2.6.0+cu124 requires nvidia-cuda-nvrtc-cu12==12.4.127; platform_system == \"Linux\" and platform_machine == \"x86_64\", but you have nvidia-cuda-nvrtc-cu12 12.5.82 which is incompatible.\n",
            "torch 2.6.0+cu124 requires nvidia-cuda-runtime-cu12==12.4.127; platform_system == \"Linux\" and platform_machine == \"x86_64\", but you have nvidia-cuda-runtime-cu12 12.5.82 which is incompatible.\n",
            "torch 2.6.0+cu124 requires nvidia-cudnn-cu12==9.1.0.70; platform_system == \"Linux\" and platform_machine == \"x86_64\", but you have nvidia-cudnn-cu12 9.3.0.75 which is incompatible.\n",
            "torch 2.6.0+cu124 requires nvidia-cufft-cu12==11.2.1.3; platform_system == \"Linux\" and platform_machine == \"x86_64\", but you have nvidia-cufft-cu12 11.2.3.61 which is incompatible.\n",
            "torch 2.6.0+cu124 requires nvidia-curand-cu12==10.3.5.147; platform_system == \"Linux\" and platform_machine == \"x86_64\", but you have nvidia-curand-cu12 10.3.6.82 which is incompatible.\n",
            "torch 2.6.0+cu124 requires nvidia-cusolver-cu12==11.6.1.9; platform_system == \"Linux\" and platform_machine == \"x86_64\", but you have nvidia-cusolver-cu12 11.6.3.83 which is incompatible.\n",
            "torch 2.6.0+cu124 requires nvidia-cusparse-cu12==12.3.1.170; platform_system == \"Linux\" and platform_machine == \"x86_64\", but you have nvidia-cusparse-cu12 12.5.1.3 which is incompatible.\n",
            "torch 2.6.0+cu124 requires nvidia-nvjitlink-cu12==12.4.127; platform_system == \"Linux\" and platform_machine == \"x86_64\", but you have nvidia-nvjitlink-cu12 12.5.82 which is incompatible.\u001b[0m\u001b[31m\n",
            "\u001b[0mSuccessfully installed datasets-3.5.0 dill-0.3.8 fsspec-2024.12.0 multiprocess-0.70.16 xxhash-3.5.0\n"
          ]
        }
      ]
    },
    {
      "cell_type": "code",
      "source": [
        "!pip install tiktoken"
      ],
      "metadata": {
        "colab": {
          "base_uri": "https://localhost:8080/"
        },
        "id": "iuQ-UFHNJJpO",
        "outputId": "820b7f1d-0bb7-4349-e749-09c1103bd803"
      },
      "execution_count": null,
      "outputs": [
        {
          "output_type": "display_data",
          "data": {
            "text/plain": [
              "<IPython.core.display.HTML object>"
            ],
            "text/html": [
              "<style>\n",
              "    body {\n",
              "      font-size: 24px;\n",
              "    }\n",
              "  "
            ]
          },
          "metadata": {}
        },
        {
          "output_type": "stream",
          "name": "stdout",
          "text": [
            "Collecting tiktoken\n",
            "  Downloading tiktoken-0.9.0-cp311-cp311-manylinux_2_17_x86_64.manylinux2014_x86_64.whl.metadata (6.7 kB)\n",
            "Requirement already satisfied: regex>=2022.1.18 in /usr/local/lib/python3.11/dist-packages (from tiktoken) (2024.11.6)\n",
            "Requirement already satisfied: requests>=2.26.0 in /usr/local/lib/python3.11/dist-packages (from tiktoken) (2.32.3)\n",
            "Requirement already satisfied: charset-normalizer<4,>=2 in /usr/local/lib/python3.11/dist-packages (from requests>=2.26.0->tiktoken) (3.4.1)\n",
            "Requirement already satisfied: idna<4,>=2.5 in /usr/local/lib/python3.11/dist-packages (from requests>=2.26.0->tiktoken) (3.10)\n",
            "Requirement already satisfied: urllib3<3,>=1.21.1 in /usr/local/lib/python3.11/dist-packages (from requests>=2.26.0->tiktoken) (2.3.0)\n",
            "Requirement already satisfied: certifi>=2017.4.17 in /usr/local/lib/python3.11/dist-packages (from requests>=2.26.0->tiktoken) (2025.1.31)\n",
            "Downloading tiktoken-0.9.0-cp311-cp311-manylinux_2_17_x86_64.manylinux2014_x86_64.whl (1.2 MB)\n",
            "\u001b[2K   \u001b[90m━━━━━━━━━━━━━━━━━━━━━━━━━━━━━━━━━━━━━━━━\u001b[0m \u001b[32m1.2/1.2 MB\u001b[0m \u001b[31m4.6 MB/s\u001b[0m eta \u001b[36m0:00:00\u001b[0m\n",
            "\u001b[?25hInstalling collected packages: tiktoken\n",
            "Successfully installed tiktoken-0.9.0\n"
          ]
        }
      ]
    },
    {
      "cell_type": "markdown",
      "metadata": {
        "id": "NnMPfGih7Sli"
      },
      "source": [
        "# 🔴 **Import**"
      ]
    },
    {
      "cell_type": "code",
      "source": [
        "import os\n",
        "import re\n",
        "import time\n",
        "import json\n",
        "import random\n",
        "import string\n",
        "import psutil\n",
        "import pickle\n",
        "from tqdm import tqdm\n",
        "from pprint import pprint\n",
        "from collections import Counter, defaultdict\n",
        "\n",
        "import numpy as np\n",
        "import pandas as pd\n",
        "import seaborn as sns\n",
        "import matplotlib.pyplot as plt\n",
        "from scipy.stats import mode\n",
        "\n",
        "from datasets import load_dataset\n",
        "from tokenizers import Tokenizer, models, trainers, pre_tokenizers, normalizers, decoders, processors\n",
        "import tiktoken\n",
        "\n",
        "import torch\n",
        "from torch.utils.data import TensorDataset, Dataset, IterableDataset, DataLoader"
      ],
      "metadata": {
        "id": "0kJBfn1C76Mj",
        "colab": {
          "base_uri": "https://localhost:8080/",
          "height": 17
        },
        "outputId": "240d500c-0fc4-4ad0-85c6-a03471d35a04"
      },
      "execution_count": null,
      "outputs": [
        {
          "output_type": "display_data",
          "data": {
            "text/plain": [
              "<IPython.core.display.HTML object>"
            ],
            "text/html": [
              "<style>\n",
              "    body {\n",
              "      font-size: 24px;\n",
              "    }\n",
              "  "
            ]
          },
          "metadata": {}
        }
      ]
    },
    {
      "cell_type": "markdown",
      "metadata": {
        "id": "w3oeG_5hzoHm"
      },
      "source": [
        "# 🔴 **Utils**"
      ]
    },
    {
      "cell_type": "code",
      "source": [
        "def get_sample(dataset):\n",
        "    # Randomly select an index from the training dataset\n",
        "    idx = random.randint(0, len(dataset['train']))\n",
        "\n",
        "    # Return the \"text\" field of the randomly selected training sample\n",
        "    return dataset['train'][idx]['text']"
      ],
      "metadata": {
        "id": "DrnUWsvx7nRH",
        "colab": {
          "base_uri": "https://localhost:8080/",
          "height": 17
        },
        "outputId": "4c40a650-35c3-4ef2-91cf-7a04af48f0d6"
      },
      "execution_count": null,
      "outputs": [
        {
          "output_type": "display_data",
          "data": {
            "text/plain": [
              "<IPython.core.display.HTML object>"
            ],
            "text/html": [
              "<style>\n",
              "    body {\n",
              "      font-size: 24px;\n",
              "    }\n",
              "  "
            ]
          },
          "metadata": {}
        }
      ]
    },
    {
      "cell_type": "code",
      "source": [
        "def prepare_data(tokens, seq_len):\n",
        "    \"\"\"\n",
        "    Converts a flat list of token IDs into a 2D tensor where each row has length `seq_len`.\n",
        "\n",
        "    Args:\n",
        "        token_list (list or array-like): Flat list of token IDs.\n",
        "        seq_len (int): Desired sequence length per row.\n",
        "\n",
        "    Returns:\n",
        "        torch.Tensor: 2D tensor of shape (num_sequences, seq_len).\n",
        "    \"\"\"\n",
        "\n",
        "    # Trim tokens so that total length is divisible by seq_len\n",
        "    n_tokens = (tokens.shape[0] // seq_len) * seq_len\n",
        "    tokens = tokens[:n_tokens]\n",
        "\n",
        "    # Reshape to 2D tensor\n",
        "    return tokens.view(-1, seq_len)\n"
      ],
      "metadata": {
        "colab": {
          "base_uri": "https://localhost:8080/",
          "height": 17
        },
        "id": "Vp_t8qCRfNCx",
        "outputId": "b1b5e118-51da-4c14-c556-650281cb8d55"
      },
      "execution_count": null,
      "outputs": [
        {
          "output_type": "display_data",
          "data": {
            "text/plain": [
              "<IPython.core.display.HTML object>"
            ],
            "text/html": [
              "<style>\n",
              "    body {\n",
              "      font-size: 24px;\n",
              "    }\n",
              "  "
            ]
          },
          "metadata": {}
        }
      ]
    },
    {
      "cell_type": "markdown",
      "metadata": {
        "id": "4yj0ZL1IR599"
      },
      "source": [
        "# 🔴 **EDA**"
      ]
    },
    {
      "cell_type": "markdown",
      "source": [
        "## 🟠 Exploring the Dataset"
      ],
      "metadata": {
        "id": "Ij2tfeQ5FjZr"
      }
    },
    {
      "cell_type": "code",
      "source": [
        "dataset = load_dataset(\"roneneldan/TinyStories\")"
      ],
      "metadata": {
        "colab": {
          "base_uri": "https://localhost:8080/",
          "height": 478,
          "referenced_widgets": [
            "629be926e1f84c6c960713cb9a3200bb",
            "a86904235b6f4af5aefc6005cbc4546e",
            "84dead59721a460b8e942ed5036db305",
            "e00de17b41f94d4bb45d2386c90a3c8b",
            "d4225ba7ba8b43ff9d1c4d931a7d29ac",
            "62eb37e2dad24f1e97ce8c391b8461ba",
            "2d7dc3a616744e73b19ad41a795b1ed3",
            "7cee99a511cc4b80abb1f1524fc71b92",
            "7f5a278d092e469bb99a6b4c73b2008c",
            "3366b02f87ac4beea63fbd34ebc0f2dd",
            "b5903d7a01b641979999622186d512d6",
            "efe6a827963f4040b62d57125ed2a4a8",
            "16fa0ae99c3b49949f9e69d812768481",
            "e9789307975c401f9f3e895f4bf9ca04",
            "78202bd413db449f9fc6a9c44651ca88",
            "51b6a885176041ec9e9c081965e86fcc",
            "aa480d493eac409aac6890b58887352d",
            "0f2d6f2227844533a81b5b1c71b7e092",
            "765a1b05237f4a50bfef9a7e2fe4087d",
            "4450f2dbb3c740d0bfb3c30ee288030e",
            "5610154a969b4a9ba8ff01d2dcfc9fa6",
            "bcbe5f2cfa7a4804990b4ccb41506b05",
            "0d059b6aa4d94dcc88d57a8cf1a510c5",
            "7522ffcf0bda42c9a307ec7330ec3a77",
            "894d6c93166d4be486c7bd9c1c08e99b",
            "0b5a23b0b4104a46ad06abf84f2abc9f",
            "78e4a67c5f964c1b93763037766ed856",
            "c7b2faa6f1d446f6978e8e8b27411852",
            "daefab9a52294ae8aa98f3cd5b14eb7b",
            "2eabe560780a4de4a1ba82d9de7d0926",
            "28bb8a38d76242bb8a2ab60e6a2a074b",
            "5c8f4f1e122546df85cca8b311b3e888",
            "5efd5a3858b34523b643a253694b40c3",
            "2db556b6b0594742944be080a18b1509",
            "2f83cce58b2d432ea8ad0b3f1fc00e16",
            "f96135faaba349acae615622258a9c88",
            "cef762cdbf1441d39470b905174ff246",
            "dd4a7924c66a475fadf55bcf195c6dc7",
            "75dd8434c04543c2a89e9c5d281ac16f",
            "f43ca75908014faf9017b0a3b3edd6ed",
            "eb59b887d89948348c1ad8a17f1b6606",
            "dfcdc13f04ff4edcae0daebea13c4664",
            "f942e239512a484c85a741003b71bc1e",
            "32e6b3f9902e4102b33b183ed117cd81",
            "ea20a7675f2743958c2e5c29878fdfe2",
            "1607443023454208a908eaa0f8e6faf4",
            "37374c086c3e425ca2aefa409a70bea2",
            "64a1ec8c73d84d049afbd49998a385e6",
            "d1508bab93d64597888054092cc5b2df",
            "1761c0c9da284c5e806f889e41a061da",
            "36dc10417d664edd92ba77aa6f7d615e",
            "0cf681259b3e4c0086db1a44e8cde400",
            "2d9adcea96be4dac8caabf9cdc0097b8",
            "b9700fa6bcbb4112908d5d8064395038",
            "59079a070ddb4cf89c2de46f6867378c",
            "ad8d8bf409aa4a69aeae772784e8e8ed",
            "18a7a3a20d804f4d9570d1d5497ed745",
            "012242ac73dd47a3afb5c1472c8bd91b",
            "6f4a254777b343fea669240dabc7b8cf",
            "82ef41685674435abb25621dd6601b91",
            "29ec46565559479ead4c1fffc6356906",
            "60858e608b7b444c9f6218114e588eff",
            "329004ab6b3c425d8a751083ac465943",
            "83fe974888e24745b090a7b085a07bee",
            "881163414a0d414bb99a72c2adfe7d69",
            "16bc9d8a5be5410e8887062ee6dd7b73",
            "6328c53bb218475bb50efe100893553e",
            "b886d09125e741a9b37c9936e294b063",
            "dec2d95c695343819ad81faa3f0ad4e3",
            "153f08c6f6b34da3afedab355d5a6c65",
            "aeecd27eff3c40f6abfdc2c83b49e9e2",
            "f6b8eab503d34f1c8a00f9e87c41099b",
            "502aa195dc094b579659bf37a8cf084d",
            "cda4939efacb42e38ea58cb80583f8c4",
            "228479c36d9645a3badb90e522ad4440",
            "62381b44e9ce4d48ba3c0e6d64d1059f",
            "a501b2fd582e41aaa6a6fa471050c308",
            "8815c3aa2eb74b25a6c04ba8564218ae",
            "464a4182365a492bb4c2a256f379f2a8",
            "7cdac2f7838447639a3a1611146e04e5",
            "e8159473956343e3941da833de77a2f9",
            "cfcf7b4b32cb45a0ab007835171cc933",
            "5e43326cc58940a0a0dd95774dad3c59",
            "e293423d2fca4d22b7c344efa2197151",
            "127ca02bec6442dda9327b9654ea5dd8",
            "8ac6be06c26343bbad1496d3db44cf4f",
            "6441b5f469d449fa9d43ed8614ed52ac",
            "6d0a53d5262648eab031128f143e0052"
          ]
        },
        "collapsed": true,
        "id": "JwXW5PtsOmsn",
        "outputId": "e2726252-cb4e-4087-fb6f-c9b26c1472ef"
      },
      "execution_count": null,
      "outputs": [
        {
          "output_type": "display_data",
          "data": {
            "text/plain": [
              "<IPython.core.display.HTML object>"
            ],
            "text/html": [
              "<style>\n",
              "    body {\n",
              "      font-size: 24px;\n",
              "    }\n",
              "  "
            ]
          },
          "metadata": {}
        },
        {
          "output_type": "stream",
          "name": "stderr",
          "text": [
            "/usr/local/lib/python3.11/dist-packages/huggingface_hub/utils/_auth.py:94: UserWarning: \n",
            "The secret `HF_TOKEN` does not exist in your Colab secrets.\n",
            "To authenticate with the Hugging Face Hub, create a token in your settings tab (https://huggingface.co/settings/tokens), set it as secret in your Google Colab and restart your session.\n",
            "You will be able to reuse this secret in all of your notebooks.\n",
            "Please note that authentication is recommended but still optional to access public models or datasets.\n",
            "  warnings.warn(\n"
          ]
        },
        {
          "output_type": "display_data",
          "data": {
            "text/plain": [
              "README.md:   0%|          | 0.00/1.06k [00:00<?, ?B/s]"
            ],
            "application/vnd.jupyter.widget-view+json": {
              "version_major": 2,
              "version_minor": 0,
              "model_id": "629be926e1f84c6c960713cb9a3200bb"
            }
          },
          "metadata": {}
        },
        {
          "output_type": "display_data",
          "data": {
            "text/plain": [
              "(…)-00000-of-00004-2d5a1467fff1081b.parquet:   0%|          | 0.00/249M [00:00<?, ?B/s]"
            ],
            "application/vnd.jupyter.widget-view+json": {
              "version_major": 2,
              "version_minor": 0,
              "model_id": "efe6a827963f4040b62d57125ed2a4a8"
            }
          },
          "metadata": {}
        },
        {
          "output_type": "display_data",
          "data": {
            "text/plain": [
              "(…)-00001-of-00004-5852b56a2bd28fd9.parquet:   0%|          | 0.00/248M [00:00<?, ?B/s]"
            ],
            "application/vnd.jupyter.widget-view+json": {
              "version_major": 2,
              "version_minor": 0,
              "model_id": "0d059b6aa4d94dcc88d57a8cf1a510c5"
            }
          },
          "metadata": {}
        },
        {
          "output_type": "display_data",
          "data": {
            "text/plain": [
              "(…)-00002-of-00004-a26307300439e943.parquet:   0%|          | 0.00/246M [00:00<?, ?B/s]"
            ],
            "application/vnd.jupyter.widget-view+json": {
              "version_major": 2,
              "version_minor": 0,
              "model_id": "2db556b6b0594742944be080a18b1509"
            }
          },
          "metadata": {}
        },
        {
          "output_type": "display_data",
          "data": {
            "text/plain": [
              "(…)-00003-of-00004-d243063613e5a057.parquet:   0%|          | 0.00/248M [00:00<?, ?B/s]"
            ],
            "application/vnd.jupyter.widget-view+json": {
              "version_major": 2,
              "version_minor": 0,
              "model_id": "ea20a7675f2743958c2e5c29878fdfe2"
            }
          },
          "metadata": {}
        },
        {
          "output_type": "display_data",
          "data": {
            "text/plain": [
              "(…)-00000-of-00001-869c898b519ad725.parquet:   0%|          | 0.00/9.99M [00:00<?, ?B/s]"
            ],
            "application/vnd.jupyter.widget-view+json": {
              "version_major": 2,
              "version_minor": 0,
              "model_id": "ad8d8bf409aa4a69aeae772784e8e8ed"
            }
          },
          "metadata": {}
        },
        {
          "output_type": "display_data",
          "data": {
            "text/plain": [
              "Generating train split:   0%|          | 0/2119719 [00:00<?, ? examples/s]"
            ],
            "application/vnd.jupyter.widget-view+json": {
              "version_major": 2,
              "version_minor": 0,
              "model_id": "6328c53bb218475bb50efe100893553e"
            }
          },
          "metadata": {}
        },
        {
          "output_type": "display_data",
          "data": {
            "text/plain": [
              "Generating validation split:   0%|          | 0/21990 [00:00<?, ? examples/s]"
            ],
            "application/vnd.jupyter.widget-view+json": {
              "version_major": 2,
              "version_minor": 0,
              "model_id": "8815c3aa2eb74b25a6c04ba8564218ae"
            }
          },
          "metadata": {}
        }
      ]
    },
    {
      "cell_type": "code",
      "source": [
        "sample = get_sample(dataset)\n",
        "pprint(sample)"
      ],
      "metadata": {
        "id": "dW3Ne-mjFoiE",
        "colab": {
          "base_uri": "https://localhost:8080/",
          "height": 355
        },
        "outputId": "0f0badbc-88b3-4bd9-da94-f88aeef4866c"
      },
      "execution_count": null,
      "outputs": [
        {
          "output_type": "display_data",
          "data": {
            "text/plain": [
              "<IPython.core.display.HTML object>"
            ],
            "text/html": [
              "<style>\n",
              "    body {\n",
              "      font-size: 24px;\n",
              "    }\n",
              "  "
            ]
          },
          "metadata": {}
        },
        {
          "output_type": "stream",
          "name": "stdout",
          "text": [
            "('Tommy was packing his things to go on a holiday. He carefully put his toys '\n",
            " 'and clothes into his suitcase. He looked around his room and saw his window, '\n",
            " 'the  faucet and the lively little butterflies on his wall. \\n'\n",
            " '\\n'\n",
            " \"When they were finally ready to go on holiday, Tommy's dad took out the \"\n",
            " 'suitcase from the car. He opened it and started to unpack the things that '\n",
            " 'were inside. Tommy was so excited about his new adventure! He watched as his '\n",
            " 'dad took out his teddies, clothes and toys. \\n'\n",
            " '\\n'\n",
            " 'Finally, it was time to go!  Tommy waved goodbye to his house and all the '\n",
            " 'things he had unpacked. He was ready for the lively holiday ahead.')\n"
          ]
        }
      ]
    },
    {
      "cell_type": "markdown",
      "source": [
        "## 🟠 Measuring RAM Usage After Dataset Loading"
      ],
      "metadata": {
        "id": "pgvK808yQUiW"
      }
    },
    {
      "cell_type": "code",
      "source": [
        "# RAM before\n",
        "process = psutil.Process(os.getpid())\n",
        "ram_before = process.memory_info().rss  # in bytes\n",
        "\n",
        "# Load dataset\n",
        "dataset = load_dataset(\"roneneldan/TinyStories\")\n",
        "\n",
        "# RAM after\n",
        "ram_after = process.memory_info().rss\n",
        "\n",
        "# Result\n",
        "ram_used = ram_after - ram_before\n",
        "print(f\"🔹 RAM used for loading dataset: {ram_used / (1024**2):.2f} MB\")\n"
      ],
      "metadata": {
        "id": "ov7j5hrHMpAb",
        "colab": {
          "base_uri": "https://localhost:8080/",
          "height": 48
        },
        "outputId": "2a2b381d-f98f-40b9-e6d7-22f6e88b420a"
      },
      "execution_count": null,
      "outputs": [
        {
          "output_type": "display_data",
          "data": {
            "text/plain": [
              "<IPython.core.display.HTML object>"
            ],
            "text/html": [
              "<style>\n",
              "    body {\n",
              "      font-size: 24px;\n",
              "    }\n",
              "  "
            ]
          },
          "metadata": {}
        },
        {
          "output_type": "stream",
          "name": "stdout",
          "text": [
            "🔹 RAM used for loading dataset: 17.84 MB\n"
          ]
        }
      ]
    },
    {
      "cell_type": "code",
      "source": [
        "# RAM before\n",
        "process = psutil.Process(os.getpid())\n",
        "ram_before = process.memory_info().rss  # in bytes\n",
        "\n",
        "# Load full dataset into memory\n",
        "train = list(dataset[\"train\"])\n",
        "val = list(dataset[\"validation\"])\n",
        "\n",
        "# RAM after\n",
        "ram_after = process.memory_info().rss\n",
        "\n",
        "# Result\n",
        "ram_used = ram_after - ram_before\n",
        "print(f\"🔹 RAM used for loading full dataset into memory: {ram_used / (1024**3):.2f} GB\")\n"
      ],
      "metadata": {
        "colab": {
          "base_uri": "https://localhost:8080/",
          "height": 48
        },
        "id": "qzGI_JvkOUa8",
        "outputId": "4ca2b58f-bebe-4566-f478-a45d5874e344"
      },
      "execution_count": null,
      "outputs": [
        {
          "output_type": "display_data",
          "data": {
            "text/plain": [
              "<IPython.core.display.HTML object>"
            ],
            "text/html": [
              "<style>\n",
              "    body {\n",
              "      font-size: 24px;\n",
              "    }\n",
              "  "
            ]
          },
          "metadata": {}
        },
        {
          "output_type": "stream",
          "name": "stdout",
          "text": [
            "🔹 RAM used for loading full dataset into memory: 4.24 GB\n"
          ]
        }
      ]
    },
    {
      "cell_type": "code",
      "source": [
        "# RAM before\n",
        "process = psutil.Process(os.getpid())\n",
        "ram_before = process.memory_info().rss  # in bytes\n",
        "\n",
        "for item in tqdm(dataset[\"train\"], desc=\"Looping over the dataset {Train}\"):\n",
        "    pass\n",
        "\n",
        "for item in tqdm(dataset[\"validation\"], desc=\"Looping over the dataset {Valid}\"):\n",
        "    pass\n",
        "\n",
        "# RAM after\n",
        "ram_after = process.memory_info().rss\n",
        "\n",
        "# Result\n",
        "ram_used = ram_after - ram_before\n",
        "print(f\"\\n🔹 RAM usage while looping over the dataset: {ram_used / (1024**3):.2f} GB\")\n"
      ],
      "metadata": {
        "colab": {
          "base_uri": "https://localhost:8080/",
          "height": 140
        },
        "id": "BEf-M20K59PQ",
        "outputId": "bf850c83-0bc3-4b65-e72b-98744b0471af"
      },
      "execution_count": null,
      "outputs": [
        {
          "output_type": "display_data",
          "data": {
            "text/plain": [
              "<IPython.core.display.HTML object>"
            ],
            "text/html": [
              "<style>\n",
              "    body {\n",
              "      font-size: 24px;\n",
              "    }\n",
              "  "
            ]
          },
          "metadata": {}
        },
        {
          "output_type": "stream",
          "name": "stderr",
          "text": [
            "Looping over the dataset {Train}: 100%|███████████████████████████████████| 2119719/2119719 [01:04<00:00, 32804.15it/s]\n",
            "Looping over the dataset {Valid}: 100%|███████████████████████████████████████| 21990/21990 [00:00<00:00, 45603.06it/s]"
          ]
        },
        {
          "output_type": "stream",
          "name": "stdout",
          "text": [
            "\n",
            "🔹 RAM usage while looping over the dataset: 1.79 GB\n"
          ]
        },
        {
          "output_type": "stream",
          "name": "stderr",
          "text": [
            "\n"
          ]
        }
      ]
    },
    {
      "cell_type": "markdown",
      "source": [
        "## 🟠 Measuring RAM Usage After Tokenization"
      ],
      "metadata": {
        "id": "nu5qj-nTQfy1"
      }
    },
    {
      "cell_type": "code",
      "source": [
        "# Load tiktoken encoder (GPT-3.5/GPT-4 encoding)\n",
        "tokenizer = tiktoken.get_encoding(\"gpt2\")  # 'gpt2' for GPT-Neo compatibility"
      ],
      "metadata": {
        "colab": {
          "base_uri": "https://localhost:8080/",
          "height": 17
        },
        "id": "LJ5gTNdBHzMx",
        "outputId": "6ac82442-18b6-4549-8627-247552536c0b"
      },
      "execution_count": null,
      "outputs": [
        {
          "output_type": "display_data",
          "data": {
            "text/plain": [
              "<IPython.core.display.HTML object>"
            ],
            "text/html": [
              "<style>\n",
              "    body {\n",
              "      font-size: 24px;\n",
              "    }\n",
              "  "
            ]
          },
          "metadata": {}
        }
      ]
    },
    {
      "cell_type": "code",
      "source": [
        "# Tokenization {train}\n",
        "tokenized_train_samples = []\n",
        "for item in tqdm(dataset[\"train\"], desc=\"Tokenizing Train Set\"):\n",
        "    input_ids = tokenizer.encode(item[\"text\"])\n",
        "    tokenized_train_samples.append(np.array(input_ids))\n",
        "\n",
        "# Total token count and estimated memory (GB)\n",
        "total_train_tokens = sum(len(toks) for toks in tokenized_train_samples)\n",
        "bytes_per_token = 4  # int32:4 | uint16:2\n",
        "total_size_gb = total_train_tokens * bytes_per_token / (1024**3)\n",
        "\n",
        "print(f\"\\n🔹 Total tokens in train dataset: {total_train_tokens:,}\")\n",
        "print(f\"🔹 Estimated train token memory: {total_size_gb:.2f} GB\")"
      ],
      "metadata": {
        "colab": {
          "base_uri": "https://localhost:8080/",
          "height": 140
        },
        "id": "tSQ95wVBFcoI",
        "outputId": "01728782-b0e4-48db-f30b-b121ed0d55ce"
      },
      "execution_count": null,
      "outputs": [
        {
          "output_type": "display_data",
          "data": {
            "text/plain": [
              "<IPython.core.display.HTML object>"
            ],
            "text/html": [
              "<style>\n",
              "    body {\n",
              "      font-size: 24px;\n",
              "    }\n",
              "  "
            ]
          },
          "metadata": {}
        },
        {
          "output_type": "stream",
          "name": "stderr",
          "text": [
            "Tokenizing Train Set: 100%|████████████████████████████████████████████████| 2119719/2119719 [08:42<00:00, 4058.02it/s]\n"
          ]
        },
        {
          "output_type": "stream",
          "name": "stdout",
          "text": [
            "\n",
            "🔹 Total tokens in train dataset: 471,872,517\n",
            "🔹 Estimated train token memory: 1.76 GB\n"
          ]
        }
      ]
    },
    {
      "cell_type": "code",
      "source": [
        "# Tokenization {validation}\n",
        "tokenized_valid_samples = []\n",
        "for item in tqdm(dataset[\"validation\"], desc=\"Tokenizing Validation Set\"):\n",
        "    input_ids = tokenizer.encode(item[\"text\"])\n",
        "    tokenized_valid_samples.append(np.array(input_ids))\n",
        "\n",
        "# Total token count and estimated memory (MB)\n",
        "total_valid_tokens = sum(len(toks) for toks in tokenized_valid_samples)\n",
        "total_size_mb = total_valid_tokens * bytes_per_token / (1024**2)\n",
        "\n",
        "print(f\"\\n🔹 Total tokens in validation dataset: {total_valid_tokens:,}\")\n",
        "print(f\"🔹 Estimated validation token memory: {total_size_mb:.2f} MB\")\n"
      ],
      "metadata": {
        "id": "AFLNSqVYLAfz",
        "colab": {
          "base_uri": "https://localhost:8080/",
          "height": 140
        },
        "outputId": "2e302cb3-94bb-440c-e34c-de58a029a5c6"
      },
      "execution_count": null,
      "outputs": [
        {
          "output_type": "display_data",
          "data": {
            "text/plain": [
              "<IPython.core.display.HTML object>"
            ],
            "text/html": [
              "<style>\n",
              "    body {\n",
              "      font-size: 24px;\n",
              "    }\n",
              "  "
            ]
          },
          "metadata": {}
        },
        {
          "output_type": "stream",
          "name": "stderr",
          "text": [
            "Tokenizing Validation Set: 100%|███████████████████████████████████████████████| 21990/21990 [00:04<00:00, 5412.97it/s]"
          ]
        },
        {
          "output_type": "stream",
          "name": "stdout",
          "text": [
            "\n",
            "🔹 Total tokens in validation dataset: 4,743,928\n",
            "🔹 Estimated validation token memory: 18.10 MB\n"
          ]
        },
        {
          "output_type": "stream",
          "name": "stderr",
          "text": [
            "\n"
          ]
        }
      ]
    },
    {
      "cell_type": "markdown",
      "source": [
        "### 🟡 Save the tokens for future use"
      ],
      "metadata": {
        "id": "3w2ywoEYR76w"
      }
    },
    {
      "cell_type": "code",
      "source": [
        "# Save tokens as a pickle file\n",
        "with open('tokenized_train_samples.pkl', 'wb') as f:\n",
        "    pickle.dump(tokenized_train_samples, f)\n",
        "\n",
        "with open('tokenized_valid_samples.pkl', 'wb') as f:\n",
        "    pickle.dump(tokenized_valid_samples, f)"
      ],
      "metadata": {
        "id": "u9K-eDn3d0jV",
        "colab": {
          "base_uri": "https://localhost:8080/",
          "height": 17
        },
        "outputId": "f8b311d5-7adf-4119-afa8-66c575ed95d3"
      },
      "execution_count": null,
      "outputs": [
        {
          "output_type": "display_data",
          "data": {
            "text/plain": [
              "<IPython.core.display.HTML object>"
            ],
            "text/html": [
              "<style>\n",
              "    body {\n",
              "      font-size: 24px;\n",
              "    }\n",
              "  "
            ]
          },
          "metadata": {}
        }
      ]
    },
    {
      "cell_type": "code",
      "source": [
        "# RAM before\n",
        "process = psutil.Process(os.getpid())\n",
        "ram_before = process.memory_info().rss  # in bytes\n",
        "\n",
        "# Load data from the pickle file\n",
        "with open('tokenized_train_samples.pkl', 'rb') as f:\n",
        "    tokenized_train_samples = pickle.load(f)\n",
        "\n",
        "with open('tokenized_valid_samples.pkl', 'rb') as f:\n",
        "    tokenized_valid_samples = pickle.load(f)\n",
        "\n",
        "# RAM after\n",
        "ram_after = process.memory_info().rss\n",
        "\n",
        "# Result\n",
        "ram_used = ram_after - ram_before\n",
        "print(f\"🔹 RAM used for loading full dataset into memory: {ram_used / (1024**3):.2f} GB\")"
      ],
      "metadata": {
        "id": "ernqgwY-d9fl",
        "colab": {
          "base_uri": "https://localhost:8080/",
          "height": 48
        },
        "outputId": "9301fe53-cefd-4daa-db25-7dd3d3975df4"
      },
      "execution_count": null,
      "outputs": [
        {
          "output_type": "display_data",
          "data": {
            "text/plain": [
              "<IPython.core.display.HTML object>"
            ],
            "text/html": [
              "<style>\n",
              "    body {\n",
              "      font-size: 24px;\n",
              "    }\n",
              "  "
            ]
          },
          "metadata": {}
        },
        {
          "output_type": "stream",
          "name": "stdout",
          "text": [
            "🔹 RAM used for loading full dataset into memory: 3.80 GB\n"
          ]
        }
      ]
    },
    {
      "cell_type": "code",
      "source": [
        "train_bytes = sum(arr.nbytes for arr in tokenized_train_samples)\n",
        "valid_bytes = sum(arr.nbytes for arr in tokenized_valid_samples)\n",
        "\n",
        "print(f\"🔹 Train data size (bytes): {train_bytes / 1024 ** 3:.2f} GB\")\n",
        "print(f\"🔹 Valid data size (bytes): {valid_bytes / 1024 ** 2:.2f} MB\")"
      ],
      "metadata": {
        "colab": {
          "base_uri": "https://localhost:8080/",
          "height": 79
        },
        "id": "8P_JfvlcUr37",
        "outputId": "394db97a-3520-47cc-ee74-512d18ac9081"
      },
      "execution_count": null,
      "outputs": [
        {
          "output_type": "display_data",
          "data": {
            "text/plain": [
              "<IPython.core.display.HTML object>"
            ],
            "text/html": [
              "<style>\n",
              "    body {\n",
              "      font-size: 24px;\n",
              "    }\n",
              "  "
            ]
          },
          "metadata": {}
        },
        {
          "output_type": "stream",
          "name": "stdout",
          "text": [
            "🔹 Train data size (bytes): 1.76 GB\n",
            "🔹 Valid data size (bytes): 18.10 MB\n"
          ]
        }
      ]
    },
    {
      "cell_type": "markdown",
      "source": [
        "## 🟠 Distribution of Token Counts per Story"
      ],
      "metadata": {
        "id": "rVIiK6e5kApG"
      }
    },
    {
      "cell_type": "code",
      "source": [
        "# Counting tokens per sample\n",
        "token_counts = []\n",
        "for tokens in tqdm(tokenized_train_samples, desc=\"Counting tokens per sample\"):\n",
        "    token_counts.append(len(tokens))"
      ],
      "metadata": {
        "colab": {
          "base_uri": "https://localhost:8080/",
          "height": 48
        },
        "id": "1aQozuKSlRF6",
        "outputId": "c5f80b90-9e44-4dc5-ca6b-98ce28781184"
      },
      "execution_count": null,
      "outputs": [
        {
          "output_type": "display_data",
          "data": {
            "text/plain": [
              "<IPython.core.display.HTML object>"
            ],
            "text/html": [
              "<style>\n",
              "    body {\n",
              "      font-size: 24px;\n",
              "    }\n",
              "  "
            ]
          },
          "metadata": {}
        },
        {
          "output_type": "stream",
          "name": "stderr",
          "text": [
            "Counting tokens per sample: 100%|███████████████████████████████████████| 2119719/2119719 [00:00<00:00, 2240514.24it/s]\n"
          ]
        }
      ]
    },
    {
      "cell_type": "code",
      "source": [
        "plt.figure(figsize=(12, 5))\n",
        "sns.histplot(token_counts, kde=True, bins=50, color='skyblue')\n",
        "plt.title(\"Distribution of Token Count per Story\")\n",
        "plt.xlabel(\"Token Count\")\n",
        "plt.ylabel(\"Frequency\")\n",
        "plt.show()"
      ],
      "metadata": {
        "colab": {
          "base_uri": "https://localhost:8080/",
          "height": 485
        },
        "id": "z_zHtpz4j2pY",
        "outputId": "0ce7a5f1-4d21-4d2c-daee-4edfc5260702"
      },
      "execution_count": null,
      "outputs": [
        {
          "output_type": "display_data",
          "data": {
            "text/plain": [
              "<IPython.core.display.HTML object>"
            ],
            "text/html": [
              "<style>\n",
              "    body {\n",
              "      font-size: 24px;\n",
              "    }\n",
              "  "
            ]
          },
          "metadata": {}
        },
        {
          "output_type": "display_data",
          "data": {
            "text/plain": [
              "<Figure size 1200x500 with 1 Axes>"
            ],
            "image/png": "[encoded data removed]"
          },
          "metadata": {}
        }
      ]
    },
    {
      "cell_type": "markdown",
      "source": [
        "## 🟠 Analyzing Short Stories"
      ],
      "metadata": {
        "id": "f7mAfXX7gQ_O"
      }
    },
    {
      "cell_type": "code",
      "source": [
        "unique_length = np.unique(token_counts)\n",
        "print(unique_length[:10])"
      ],
      "metadata": {
        "colab": {
          "base_uri": "https://localhost:8080/",
          "height": 48
        },
        "id": "EnrCMRlOdD-Y",
        "outputId": "3c153d9b-faa4-4c78-fa9c-77dd59f78d5a"
      },
      "execution_count": null,
      "outputs": [
        {
          "output_type": "display_data",
          "data": {
            "text/plain": [
              "<IPython.core.display.HTML object>"
            ],
            "text/html": [
              "<style>\n",
              "    body {\n",
              "      font-size: 24px;\n",
              "    }\n",
              "  "
            ]
          },
          "metadata": {}
        },
        {
          "output_type": "stream",
          "name": "stdout",
          "text": [
            "[ 0  6  9 11 12 13 14 15 17 19]\n"
          ]
        }
      ]
    },
    {
      "cell_type": "code",
      "source": [
        "# Get unique lengths\n",
        "target_lengths = unique_length[:10]\n",
        "\n",
        "# Track how many samples we've printed per length\n",
        "samples_per_length = defaultdict(int)\n",
        "max_samples = 5  # max samples per token length\n",
        "\n",
        "for idx, tokens in enumerate(tokenized_train_samples):\n",
        "    token_len = len(tokens)\n",
        "\n",
        "    if token_len in target_lengths and samples_per_length[token_len] < max_samples:\n",
        "        count = samples_per_length[token_len] + 1\n",
        "        print(f\"\\n📘 Length: {token_len}\")\n",
        "        pprint(dataset[\"train\"][idx][\"text\"])\n",
        "        samples_per_length[token_len] += 1\n",
        "\n",
        "    # Stop if we've collected all 10 * 5 = 50 samples\n",
        "    if sum(samples_per_length.values()) >= len(target_lengths) * max_samples:\n",
        "        break\n"
      ],
      "metadata": {
        "colab": {
          "base_uri": "https://localhost:8080/",
          "height": 1000
        },
        "id": "FktzgWE_b84F",
        "outputId": "1254002f-bea1-4414-8254-4bfaf97cb4f8"
      },
      "execution_count": null,
      "outputs": [
        {
          "output_type": "display_data",
          "data": {
            "text/plain": [
              "<IPython.core.display.HTML object>"
            ],
            "text/html": [
              "<style>\n",
              "    body {\n",
              "      font-size: 24px;\n",
              "    }\n",
              "  "
            ]
          },
          "metadata": {}
        },
        {
          "output_type": "stream",
          "name": "stdout",
          "text": [
            "\n",
            "📘 Length: 0\n",
            "''\n",
            "\n",
            "📘 Length: 0\n",
            "''\n",
            "\n",
            "📘 Length: 0\n",
            "''\n",
            "\n",
            "📘 Length: 0\n",
            "''\n",
            "\n",
            "📘 Length: 0\n",
            "''\n",
            "\n",
            "📘 Length: 11\n",
            "'One day a lady entered the room. She was mod'\n",
            "\n",
            "📘 Length: 6\n",
            "'Once upon a time, there'\n",
            "\n",
            "📘 Length: 11\n",
            "'Once upon a time, there was a silly little bunny'\n",
            "\n",
            "📘 Length: 9\n",
            "'Once upon a time, in a quiet little'\n",
            "\n",
            "📘 Length: 17\n",
            "'Once upon a time, in a big tree, there was a thoughtful raven. The'\n",
            "\n",
            "📘 Length: 13\n",
            "'Once upon a time, there was a boy named Timmy.'\n",
            "\n",
            "📘 Length: 19\n",
            "('Once upon a time, there was a little girl named Lily who loved fairies. She '\n",
            " 'would')\n",
            "\n",
            "📘 Length: 15\n",
            "'Once upon a time, there was a little girl named Helga. Hel'\n",
            "\n",
            "📘 Length: 11\n",
            "'Once upon a time, there was a silly little bunny'\n",
            "\n",
            "📘 Length: 12\n",
            "'Once upon a time, in a wide, hot desert,'\n",
            "\n",
            "📘 Length: 14\n",
            "'Once upon a time, there was a happy baby named Jack. Jack'\n",
            "\n",
            "📘 Length: 14\n",
            "'Once upon a time, a chubby cat named Kitty lived in a'\n"
          ]
        }
      ]
    },
    {
      "cell_type": "markdown",
      "source": [
        "## 🟠 Average story length (words, sentences, paragraphs)"
      ],
      "metadata": {
        "id": "Z1869UeikNiG"
      }
    },
    {
      "cell_type": "code",
      "source": [
        "print(f\"🔹 Average word count per story      → Mean: {np.mean(word_counts):.2f} | Median: {np.median(word_counts)} | Mode: {mode(word_counts).mode}\")\n",
        "print(f\"🔹 Average sentence count per story  → Mean: {np.mean(sentence_counts):.2f}\")\n",
        "print(f\"🔹 Average paragraph count per story → Mean: {np.mean(paragraph_counts):.2f}\")"
      ],
      "metadata": {
        "colab": {
          "base_uri": "https://localhost:8080/",
          "height": 109
        },
        "id": "1XWWvzKkj4eA",
        "outputId": "92b6b6ea-01c6-4112-81b5-eeec8fc96eb2"
      },
      "execution_count": null,
      "outputs": [
        {
          "output_type": "display_data",
          "data": {
            "text/plain": [
              "<IPython.core.display.HTML object>"
            ],
            "text/html": [
              "<style>\n",
              "    body {\n",
              "      font-size: 24px;\n",
              "    }\n",
              "  "
            ]
          },
          "metadata": {}
        },
        {
          "output_type": "stream",
          "name": "stdout",
          "text": [
            "🔹 Average word count per story      → Mean: 203.37 | Median: 177.0 | Mode: 168\n",
            "🔹 Average sentence count per story  → Mean: 18.29\n",
            "🔹 Average paragraph count per story → Mean: 5.12\n"
          ]
        }
      ]
    },
    {
      "cell_type": "markdown",
      "source": [
        "## 🟠 Most common unigrams, bigrams, trigrams"
      ],
      "metadata": {
        "id": "WqBWQVYxkXYG"
      }
    },
    {
      "cell_type": "code",
      "source": [
        "import nltk\n",
        "from nltk import word_tokenize, sent_tokenize\n",
        "from nltk.util import ngrams\n",
        "\n",
        "nltk.download('punkt')\n",
        "nltk.download('punkt_tab')"
      ],
      "metadata": {
        "colab": {
          "base_uri": "https://localhost:8080/",
          "height": 232
        },
        "id": "UeQK8su7lmBW",
        "outputId": "f31128ce-f94e-4bd2-b45f-35efd72019a5"
      },
      "execution_count": null,
      "outputs": [
        {
          "output_type": "display_data",
          "data": {
            "text/plain": [
              "<IPython.core.display.HTML object>"
            ],
            "text/html": [
              "<style>\n",
              "    body {\n",
              "      font-size: 24px;\n",
              "    }\n",
              "  "
            ]
          },
          "metadata": {}
        },
        {
          "output_type": "stream",
          "name": "stderr",
          "text": [
            "[nltk_data] Downloading package punkt to\n",
            "[nltk_data]     C:\\Users\\Howsam\\AppData\\Roaming\\nltk_data...\n",
            "[nltk_data]   Package punkt is already up-to-date!\n",
            "[nltk_data] Downloading package punkt_tab to\n",
            "[nltk_data]     C:\\Users\\Howsam\\AppData\\Roaming\\nltk_data...\n",
            "[nltk_data]   Package punkt_tab is already up-to-date!\n"
          ]
        },
        {
          "output_type": "execute_result",
          "data": {
            "text/plain": [
              "True"
            ]
          },
          "metadata": {},
          "execution_count": 48
        }
      ]
    },
    {
      "cell_type": "code",
      "source": [
        "# Helper functions\n",
        "def clean_text(text):\n",
        "    text = text.lower()\n",
        "    return text.strip()\n",
        "\n",
        "def get_top_ngrams(ngrams_list, n=20):\n",
        "    counter = Counter(ngrams_list)\n",
        "    return counter.most_common(n)"
      ],
      "metadata": {
        "id": "NGPVjwsqbHG5",
        "colab": {
          "base_uri": "https://localhost:8080/",
          "height": 17
        },
        "outputId": "b5dda06e-acc6-4bd2-d6db-dab35ab1119b"
      },
      "execution_count": null,
      "outputs": [
        {
          "output_type": "display_data",
          "data": {
            "text/plain": [
              "<IPython.core.display.HTML object>"
            ],
            "text/html": [
              "<style>\n",
              "    body {\n",
              "      font-size: 24px;\n",
              "    }\n",
              "  "
            ]
          },
          "metadata": {}
        }
      ]
    },
    {
      "cell_type": "code",
      "source": [
        "# Preprocessing and aggregation\n",
        "all_words = []\n",
        "all_bigrams = []\n",
        "all_trigrams = []\n",
        "\n",
        "for sample in tqdm(dataset['validation']):  # Limit for performance (you can increase)\n",
        "    text = clean_text(sample['text'])\n",
        "    words = word_tokenize(text)\n",
        "    all_words.extend(words)\n",
        "    all_bigrams.extend([' '.join(bg) for bg in ngrams(words, 2)])\n",
        "    all_trigrams.extend([' '.join(tg) for tg in ngrams(words, 3)])"
      ],
      "metadata": {
        "colab": {
          "base_uri": "https://localhost:8080/",
          "height": 48
        },
        "id": "lLO7sEaRhaMX",
        "outputId": "75f1c0f4-0638-4145-ff6a-a55e0c776738"
      },
      "execution_count": null,
      "outputs": [
        {
          "output_type": "display_data",
          "data": {
            "text/plain": [
              "<IPython.core.display.HTML object>"
            ],
            "text/html": [
              "<style>\n",
              "    body {\n",
              "      font-size: 24px;\n",
              "    }\n",
              "  "
            ]
          },
          "metadata": {}
        },
        {
          "output_type": "stream",
          "name": "stderr",
          "text": [
            "100%|███████████████████████████████████████████████████████████████████████████| 21990/21990 [00:47<00:00, 463.96it/s]\n"
          ]
        }
      ]
    },
    {
      "cell_type": "code",
      "source": [
        "top_unigrams = get_top_ngrams(all_words)\n",
        "top_bigrams = get_top_ngrams(all_bigrams)\n",
        "top_trigrams = get_top_ngrams(all_trigrams)\n",
        "\n",
        "print(\"\\n🔸 Top 20 Unigrams:\")\n",
        "print(top_unigrams)\n",
        "\n",
        "print(\"\\n🔸 Top 20 Bigrams:\")\n",
        "print(top_bigrams)\n",
        "\n",
        "print(\"\\n🔸 Top 20 Trigrams:\")\n",
        "print(top_trigrams)"
      ],
      "metadata": {
        "colab": {
          "base_uri": "https://localhost:8080/",
          "height": 314
        },
        "id": "v7_H2h4Aj6NH",
        "outputId": "e97bd22b-ed3b-4c62-d7a0-37b3da943c0f"
      },
      "execution_count": null,
      "outputs": [
        {
          "output_type": "display_data",
          "data": {
            "text/plain": [
              "<IPython.core.display.HTML object>"
            ],
            "text/html": [
              "<style>\n",
              "    body {\n",
              "      font-size: 24px;\n",
              "    }\n",
              "  "
            ]
          },
          "metadata": {}
        },
        {
          "output_type": "stream",
          "name": "stdout",
          "text": [
            "\n",
            "🔸 Top 20 Unigrams:\n",
            "[('.', 358849), ('the', 204873), ('and', 181817), (',', 174211), ('to', 129273), ('a', 117121), ('was', 99492), ('he', 81788), ('she', 78131), ('it', 71460), ('they', 64992), ('her', 51001), (\"''\", 46793), ('``', 46777), ('said', 35139), ('!', 33317), ('his', 33039), ('in', 32774), ('with', 31619), ('lily', 30740)]\n",
            "\n",
            "🔸 Top 20 Bigrams:\n",
            "[('. she', 43541), ('. he', 42399), ('. they', 38209), ('. the', 29535), (', ``', 22586), ('was a', 20609), ('. ``', 19850), ('in the', 18923), ('it was', 17512), ('said ,', 17236), ('day ,', 16767), ('one day', 16107), ('. it', 15527), ('to the', 15483), (\". ''\", 15241), ('there was', 15234), ('. one', 14500), (\"! ''\", 14025), ('upon a', 13605), ('a time', 13579)]\n",
            "\n",
            "🔸 Top 20 Trigrams:\n",
            "[('said , ``', 15326), ('there was a', 14402), ('one day ,', 14009), ('. one day', 13633), ('once upon a', 13545), ('upon a time', 13536), ('a time ,', 10655), (', there was', 10240), ('time , there', 10039), ('and said ,', 7637), ('. it was', 7169), ('was a little', 6838), ('. he was', 5683), ('. she was', 5341), ('a little girl', 5313), ('to play with', 4616), ('was so happy', 4123), ('little girl named', 3986), ('the little girl', 3387), ('it was a', 3354)]\n"
          ]
        }
      ]
    },
    {
      "cell_type": "markdown",
      "source": [
        "## 🟠 Extracting the Top 10,000 Most Frequent Tokens from the Dataset"
      ],
      "metadata": {
        "id": "G3vsWJSXlA_I"
      }
    },
    {
      "cell_type": "code",
      "source": [
        "# Counter to keep track of token frequencies\n",
        "token_counter = Counter()\n",
        "\n",
        "# Iterate through all token IDs and update the counter\n",
        "for tokens in tqdm(tokenized_train_samples, desc=\"Counting token frequencies\"):\n",
        "    token_counter.update(tokens)\n",
        "\n",
        "# Get the 10,000 most frequent tokens\n",
        "top_10k_tokens = [token_id for token_id, _ in token_counter.most_common(10_000)]\n",
        "\n",
        "# Save to file for future use\n",
        "with open(\"top_10k_tokens.txt\", \"w\") as f:\n",
        "    for token_id in top_10k_tokens:\n",
        "        f.write(f\"{token_id}\\n\")\n",
        "\n",
        "print(\"\\n🔹 10K top tokens saved to top_10k_tokens.txt\")\n"
      ],
      "metadata": {
        "colab": {
          "base_uri": "https://localhost:8080/",
          "height": 109
        },
        "id": "llE6oGATWtwx",
        "outputId": "33caae72-bba5-4800-ee86-2239b0222af2"
      },
      "execution_count": null,
      "outputs": [
        {
          "output_type": "display_data",
          "data": {
            "text/plain": [
              "<IPython.core.display.HTML object>"
            ],
            "text/html": [
              "<style>\n",
              "    body {\n",
              "      font-size: 24px;\n",
              "    }\n",
              "  "
            ]
          },
          "metadata": {}
        },
        {
          "output_type": "stream",
          "name": "stderr",
          "text": [
            "Counting token frequencies: 100%|█████████████████████████████████████████| 2119719/2119719 [01:47<00:00, 19688.41it/s]\n"
          ]
        },
        {
          "output_type": "stream",
          "name": "stdout",
          "text": [
            "\n",
            "🔹 10K top tokens saved to top_10k_tokens.txt\n"
          ]
        }
      ]
    },
    {
      "cell_type": "code",
      "source": [
        "print(f\"🔹 Unique tokens: {len(token_counter)}\")"
      ],
      "metadata": {
        "colab": {
          "base_uri": "https://localhost:8080/",
          "height": 48
        },
        "id": "HtID5xP7sZwd",
        "outputId": "6d7c0db9-05ec-432b-a41a-d42ddfe81e06"
      },
      "execution_count": null,
      "outputs": [
        {
          "output_type": "display_data",
          "data": {
            "text/plain": [
              "<IPython.core.display.HTML object>"
            ],
            "text/html": [
              "<style>\n",
              "    body {\n",
              "      font-size: 24px;\n",
              "    }\n",
              "  "
            ]
          },
          "metadata": {}
        },
        {
          "output_type": "stream",
          "name": "stdout",
          "text": [
            "🔹 Unique tokens: 29251\n"
          ]
        }
      ]
    },
    {
      "cell_type": "markdown",
      "source": [
        "### 🟡 Print rare tokens"
      ],
      "metadata": {
        "id": "nof1Qx4XtkYj"
      }
    },
    {
      "cell_type": "code",
      "source": [
        "from rich.console import Console\n",
        "from rich.text import Text"
      ],
      "metadata": {
        "colab": {
          "base_uri": "https://localhost:8080/",
          "height": 17
        },
        "id": "y5uAe0aVtjhd",
        "outputId": "bb397c4f-13d9-46bb-a1ae-40aec7c03939"
      },
      "execution_count": null,
      "outputs": [
        {
          "output_type": "display_data",
          "data": {
            "text/plain": [
              "<IPython.core.display.HTML object>"
            ],
            "text/html": [
              "<style>\n",
              "    body {\n",
              "      font-size: 24px;\n",
              "    }\n",
              "  "
            ]
          },
          "metadata": {}
        }
      ]
    },
    {
      "cell_type": "code",
      "source": [
        "# Initialize rich console for colored output\n",
        "console = Console()\n",
        "\n",
        "# Load tokenizer and dataset\n",
        "tokenizer = tiktoken.get_encoding(\"gpt2\")\n",
        "\n",
        "# Load list of allowed tokens (top 10k)\n",
        "with open(\"top_10k_tokens.txt\", \"r\") as f:\n",
        "    top_10k_tokens = set(int(line.strip()) for line in f)\n",
        "\n",
        "# Select a random story from the dataset\n",
        "sample = random.choice(dataset['train'])\n",
        "text = sample[\"text\"]\n",
        "\n",
        "# Tokenize the text without special tokens\n",
        "tokens = tokenizer.encode(text)\n",
        "\n",
        "# Build styled text using rich\n",
        "styled_text = Text()\n",
        "for token_id in tokens:\n",
        "    token_str = tokenizer.decode([token_id])\n",
        "\n",
        "    if token_id in top_10k_tokens:\n",
        "        styled_text.append(token_str, style=\"white\")\n",
        "    else:\n",
        "        styled_text.append(token_str, style=\"bold yellow\")\n",
        "\n",
        "# Print both the original and the color-highlighted version\n",
        "console.rule(\"🔍 Tokenized View (unk tokens in yellow)\")\n",
        "console.print(styled_text)\n"
      ],
      "metadata": {
        "colab": {
          "base_uri": "https://localhost:8080/",
          "height": 385
        },
        "id": "ppVJ9luu2VJv",
        "outputId": "20a58506-f1c1-4c5b-f77d-688d34090a47"
      },
      "execution_count": null,
      "outputs": [
        {
          "output_type": "display_data",
          "data": {
            "text/plain": [
              "<IPython.core.display.HTML object>"
            ],
            "text/html": [
              "<style>\n",
              "    body {\n",
              "      font-size: 24px;\n",
              "    }\n",
              "  "
            ]
          },
          "metadata": {}
        },
        {
          "output_type": "display_data",
          "data": {
            "text/plain": [
              "\u001b[92m──────────────────────────────────── \u001b[0m🔍 Tokenized View \u001b[1m(\u001b[0munk tokens in yellow\u001b[1m)\u001b[0m\u001b[92m ─────────────────────────────────────\u001b[0m\n"
            ],
            "text/html": [
              "<pre style=\"white-space:pre;overflow-x:auto;line-height:normal;font-family:Menlo,'DejaVu Sans Mono',consolas,'Courier New',monospace\"><span style=\"color: #00ff00; text-decoration-color: #00ff00\">──────────────────────────────────── </span>🔍 Tokenized View <span style=\"font-weight: bold\">(</span>unk tokens in yellow<span style=\"font-weight: bold\">)</span><span style=\"color: #00ff00; text-decoration-color: #00ff00\"> ─────────────────────────────────────</span>\n",
              "</pre>\n"
            ]
          },
          "metadata": {}
        },
        {
          "output_type": "display_data",
          "data": {
            "text/plain": [
              "\u001b[37mTom\u001b[0m\u001b[37mmy\u001b[0m\u001b[37m was\u001b[0m\u001b[37m a\u001b[0m\u001b[37m little\u001b[0m\u001b[37m bunny\u001b[0m\u001b[37m.\u001b[0m\u001b[37m He\u001b[0m\u001b[37m was\u001b[0m\u001b[37m hopping\u001b[0m\u001b[37m through\u001b[0m\u001b[37m the\u001b[0m\u001b[37m me\u001b[0m\u001b[37madow\u001b[0m\u001b[37m on\u001b[0m\u001b[37m his\u001b[0m\u001b[37m way\u001b[0m\u001b[37m to\u001b[0m\u001b[37m see\u001b[0m\u001b[37m his\u001b[0m\u001b[37m friend\u001b[0m\u001b[37m Far\u001b[0m\u001b[37mley\u001b[0m\u001b[37m the\u001b[0m\u001b[37m frog\u001b[0m\u001b[37m.\u001b[0m\u001b[37m Even\u001b[0m\u001b[37m \u001b[0m\n",
              "\u001b[37mthough\u001b[0m\u001b[37m Tommy\u001b[0m\u001b[37m was\u001b[0m\u001b[37m excited\u001b[0m\u001b[37m to\u001b[0m\u001b[37m see\u001b[0m\u001b[37m his\u001b[0m\u001b[37m friend\u001b[0m\u001b[37m,\u001b[0m\u001b[37m he\u001b[0m\u001b[37m felt\u001b[0m\u001b[37m frustrated\u001b[0m\u001b[37m.\u001b[0m\u001b[37m He\u001b[0m\u001b[37m hadn\u001b[0m\u001b[37m't\u001b[0m\u001b[37m seen\u001b[0m\u001b[37m Far\u001b[0m\u001b[37mley\u001b[0m\u001b[37m in\u001b[0m\u001b[37m a\u001b[0m\u001b[37m long\u001b[0m\u001b[37m time\u001b[0m\u001b[37m and\u001b[0m\u001b[37m the\u001b[0m\u001b[37m memory\u001b[0m\n",
              "\u001b[37mof\u001b[0m\u001b[37m their\u001b[0m\u001b[37m last\u001b[0m\u001b[37m adventure\u001b[0m\u001b[37m was\u001b[0m\u001b[37m fading\u001b[0m\u001b[37m.\u001b[0m\u001b[37m \u001b[0m\n",
              "\n",
              "\u001b[37mTom\u001b[0m\u001b[37mmy\u001b[0m\u001b[37m let\u001b[0m\u001b[37m out\u001b[0m\u001b[37m a\u001b[0m\u001b[37m big\u001b[0m\u001b[37m yawn\u001b[0m\u001b[37m as\u001b[0m\u001b[37m he\u001b[0m\u001b[37m hopped\u001b[0m\u001b[37m down\u001b[0m\u001b[37m a\u001b[0m\u001b[37m narrow\u001b[0m\u001b[37m path\u001b[0m\u001b[37m.\u001b[0m\u001b[37m When\u001b[0m\u001b[37m he\u001b[0m\u001b[37m reached\u001b[0m\u001b[37m the\u001b[0m\u001b[37m edge\u001b[0m\u001b[37m of\u001b[0m\u001b[37m the\u001b[0m\u001b[37m forest\u001b[0m\u001b[37m and\u001b[0m\u001b[37m saw\u001b[0m\u001b[37m Far\u001b[0m\u001b[37mley\u001b[0m\u001b[37m,\u001b[0m\u001b[37m \u001b[0m\n",
              "\u001b[37mTommy\u001b[0m\u001b[37m couldn\u001b[0m\u001b[37m't\u001b[0m\u001b[37m help\u001b[0m\u001b[37m but\u001b[0m\u001b[37m smile\u001b[0m\u001b[37m.\u001b[0m\u001b[37m His\u001b[0m\u001b[37m friend\u001b[0m\u001b[37m was\u001b[0m\u001b[37m smiling\u001b[0m\u001b[37m wide\u001b[0m\u001b[37m,\u001b[0m\u001b[37m too\u001b[0m\u001b[37m and\u001b[0m\u001b[37m Tommy\u001b[0m\u001b[37m felt\u001b[0m\u001b[37m his\u001b[0m\u001b[37m excitement\u001b[0m\u001b[37m grow\u001b[0m\u001b[37m even\u001b[0m\u001b[37m more\u001b[0m\u001b[37m.\u001b[0m\n",
              "\n",
              "\u001b[37mThe\u001b[0m\u001b[37m two\u001b[0m\u001b[37m friends\u001b[0m\u001b[37m hugged\u001b[0m\u001b[37m and\u001b[0m\u001b[37m Tommy\u001b[0m\u001b[37m felt\u001b[0m\u001b[37m a\u001b[0m\u001b[37m wave\u001b[0m\u001b[37m of\u001b[0m\u001b[37m warmth\u001b[0m\u001b[37m fill\u001b[0m\u001b[37m him\u001b[0m\u001b[37m.\u001b[0m\u001b[37m They\u001b[0m\u001b[37m spent\u001b[0m\u001b[37m the\u001b[0m\u001b[37m rest\u001b[0m\u001b[37m of\u001b[0m\u001b[37m the\u001b[0m\u001b[37m day\u001b[0m\u001b[37m talking\u001b[0m\u001b[37m and\u001b[0m\u001b[37m \u001b[0m\n",
              "\u001b[37mplaying\u001b[0m\u001b[37m,\u001b[0m\u001b[37m exploring\u001b[0m\u001b[37m the\u001b[0m\u001b[37m nearby\u001b[0m\u001b[37m waterfall\u001b[0m\u001b[37m and\u001b[0m\u001b[37m the\u001b[0m\u001b[37m trails\u001b[0m\u001b[37m.\u001b[0m\u001b[37m By\u001b[0m\u001b[37m evening\u001b[0m\u001b[37m,\u001b[0m\u001b[37m they\u001b[0m\u001b[37m were\u001b[0m\u001b[37m both\u001b[0m\u001b[37m tired\u001b[0m\u001b[37m and\u001b[0m\u001b[37m Tommy\u001b[0m\u001b[37m yawn\u001b[0m\u001b[37med\u001b[0m\u001b[37m again\u001b[0m\u001b[37m.\u001b[0m\u001b[37m \u001b[0m\n",
              "\n",
              "\u001b[37mThe\u001b[0m\u001b[37m sun\u001b[0m\u001b[37m was\u001b[0m\u001b[37m setting\u001b[0m\u001b[37m,\u001b[0m\u001b[37m but\u001b[0m\u001b[37m Tommy\u001b[0m\u001b[37m was\u001b[0m\u001b[37m happy\u001b[0m\u001b[37m and\u001b[0m\u001b[37m content\u001b[0m\u001b[37m.\u001b[0m\u001b[37m He\u001b[0m\u001b[37m felt\u001b[0m\u001b[37m his\u001b[0m\u001b[1;33m frustrations\u001b[0m\u001b[37m gone\u001b[0m\u001b[37m and\u001b[0m\u001b[37m the\u001b[0m\u001b[37m memory\u001b[0m\u001b[37m of\u001b[0m\u001b[37m their\u001b[0m\u001b[37m \u001b[0m\n",
              "\u001b[37madventure\u001b[0m\u001b[37m would\u001b[0m\u001b[37m always\u001b[0m\u001b[37m stay\u001b[0m\u001b[37m with\u001b[0m\u001b[37m him\u001b[0m\u001b[37m.\u001b[0m\n"
            ],
            "text/html": [
              "<pre style=\"white-space:pre;overflow-x:auto;line-height:normal;font-family:Menlo,'DejaVu Sans Mono',consolas,'Courier New',monospace\"><span style=\"color: #c0c0c0; text-decoration-color: #c0c0c0\">Tommy was a little bunny. He was hopping through the meadow on his way to see his friend Farley the frog. Even </span>\n",
              "<span style=\"color: #c0c0c0; text-decoration-color: #c0c0c0\">though Tommy was excited to see his friend, he felt frustrated. He hadn't seen Farley in a long time and the memory</span>\n",
              "<span style=\"color: #c0c0c0; text-decoration-color: #c0c0c0\">of their last adventure was fading. </span>\n",
              "\n",
              "<span style=\"color: #c0c0c0; text-decoration-color: #c0c0c0\">Tommy let out a big yawn as he hopped down a narrow path. When he reached the edge of the forest and saw Farley, </span>\n",
              "<span style=\"color: #c0c0c0; text-decoration-color: #c0c0c0\">Tommy couldn't help but smile. His friend was smiling wide, too and Tommy felt his excitement grow even more.</span>\n",
              "\n",
              "<span style=\"color: #c0c0c0; text-decoration-color: #c0c0c0\">The two friends hugged and Tommy felt a wave of warmth fill him. They spent the rest of the day talking and </span>\n",
              "<span style=\"color: #c0c0c0; text-decoration-color: #c0c0c0\">playing, exploring the nearby waterfall and the trails. By evening, they were both tired and Tommy yawned again. </span>\n",
              "\n",
              "<span style=\"color: #c0c0c0; text-decoration-color: #c0c0c0\">The sun was setting, but Tommy was happy and content. He felt his</span><span style=\"color: #808000; text-decoration-color: #808000; font-weight: bold\"> frustrations</span><span style=\"color: #c0c0c0; text-decoration-color: #c0c0c0\"> gone and the memory of their </span>\n",
              "<span style=\"color: #c0c0c0; text-decoration-color: #c0c0c0\">adventure would always stay with him.</span>\n",
              "</pre>\n"
            ]
          },
          "metadata": {}
        }
      ]
    },
    {
      "cell_type": "markdown",
      "source": [
        "## 🟠 Vocabulary richness (type-token ratio)"
      ],
      "metadata": {
        "id": "ICNg-aHgk4iK"
      }
    },
    {
      "cell_type": "code",
      "source": [
        "# Calculate Type-Token Ratio (TTR)\n",
        "type_token_ratio = len(token_counter) / sum(token_counter.values())\n",
        "print(f\"🔹 Vocabulary Richness (TTR): {type_token_ratio:.4f}\")"
      ],
      "metadata": {
        "id": "wMS4YrDIj7tJ",
        "colab": {
          "base_uri": "https://localhost:8080/",
          "height": 48
        },
        "outputId": "3cd4a800-6077-41eb-bf8e-923e49adb013"
      },
      "execution_count": null,
      "outputs": [
        {
          "output_type": "display_data",
          "data": {
            "text/plain": [
              "<IPython.core.display.HTML object>"
            ],
            "text/html": [
              "<style>\n",
              "    body {\n",
              "      font-size: 24px;\n",
              "    }\n",
              "  "
            ]
          },
          "metadata": {}
        },
        {
          "output_type": "stream",
          "name": "stdout",
          "text": [
            "🔹 Vocabulary Richness (TTR): 0.0001\n"
          ]
        }
      ]
    },
    {
      "cell_type": "markdown",
      "metadata": {
        "id": "jg46vn-dNkPw"
      },
      "source": [
        "# 🟣 **Pre-processing**"
      ]
    },
    {
      "cell_type": "code",
      "source": [],
      "metadata": {
        "id": "mx05SMTLNn9x"
      },
      "execution_count": null,
      "outputs": []
    },
    {
      "cell_type": "markdown",
      "metadata": {
        "id": "ixCUwGZkWrcX"
      },
      "source": [
        "# 🔴 **Tokenization**"
      ]
    },
    {
      "cell_type": "code",
      "source": [
        "# Initialize a BPE tokenizer\n",
        "tokenizer = Tokenizer(models.BPE(unk_token=\"|<unk>|\"))\n",
        "\n",
        "# Use a pre-tokenizer to split text into words\n",
        "tokenizer.pre_tokenizer = pre_tokenizers.ByteLevel(add_prefix_space=False)\n",
        "\n",
        "# Initialize a BPE trainer\n",
        "trainer = trainers.BpeTrainer(\n",
        "    vocab_size=10_000,  # Set the vocabulary size\n",
        "    special_tokens=[\"|<unk>|\", \"<|endoftext|>\"],\n",
        "    min_frequency=2,  # Set the minimum frequency of tokens\n",
        "    )\n",
        "\n",
        "# Train the tokenizer on a custom dataset\n",
        "tokenizer.train_from_iterator(dataset[\"train\"][\"text\"], trainer)\n",
        "\n",
        "# Add special tokens\n",
        "tokenizer.post_processor = processors.TemplateProcessing(\n",
        "    single=\"<|endoftext|> $A\",\n",
        "    special_tokens=[(\"<|endoftext|>\", tokenizer.token_to_id(\"<|endoftext|>\"))],\n",
        ")\n",
        "\n",
        "# Add decoder\n",
        "tokenizer.decoder = decoders.ByteLevel(add_prefix_space=False)\n",
        "\n",
        "# Save the trained tokenizer\n",
        "tokenizer.save(\"bpe-tokenizer_tinystories.json\")\n",
        "\n",
        "#\n",
        "print(f\"🎉 Tokenizer training complete!\")\n",
        "print(f\"🔹 Vocabulary size: {tokenizer.get_vocab_size():,} tokens\")"
      ],
      "metadata": {
        "colab": {
          "base_uri": "https://localhost:8080/",
          "height": 17
        },
        "id": "AckKB2zdwsfn",
        "outputId": "43f8eccf-28d2-4a19-920c-b7cc0fc64769"
      },
      "execution_count": null,
      "outputs": [
        {
          "output_type": "display_data",
          "data": {
            "text/plain": [
              "<IPython.core.display.HTML object>"
            ],
            "text/html": [
              "<style>\n",
              "    body {\n",
              "      font-size: 24px;\n",
              "    }\n",
              "  "
            ]
          },
          "metadata": {}
        }
      ]
    },
    {
      "cell_type": "code",
      "source": [
        "sent = 'They played together all day and became best friends.'\n",
        "tokens = tokenizer.encode(sent)\n",
        "print(tokens.ids)\n",
        "print(tokens.tokens)\n",
        "\n",
        "pprint(tokenizer.decode(tokens.ids))"
      ],
      "metadata": {
        "id": "KnwoWswVCMZu"
      },
      "execution_count": null,
      "outputs": []
    },
    {
      "cell_type": "code",
      "source": [
        "list_sent = ['They played together all day and became best friends.',\n",
        "             'They played together all day and became best friends.',\n",
        "             'They played together all day and became best friends.']\n",
        "string = ' <|endoftext|> '.join(list_sent) + ' <|endoftext|>'\n",
        "print(string)\n",
        "print(tokenizer.encode(string).ids)"
      ],
      "metadata": {
        "id": "58j_QsQZ3m-Z"
      },
      "execution_count": null,
      "outputs": []
    },
    {
      "cell_type": "markdown",
      "source": [
        "### 🟡 Save the tokens for future use"
      ],
      "metadata": {
        "id": "kngSb4KHUrFb"
      }
    },
    {
      "cell_type": "code",
      "source": [
        "# Tokenization {train}\n",
        "tokenized_train_samples = []\n",
        "for item in tqdm(dataset[\"train\"], desc=\"Tokenizing Train Set\"):\n",
        "    input_ids = tokenizer.encode(item[\"text\"]).ids\n",
        "    tokenized_train_samples += input_ids\n",
        "\n",
        "# Save tokens as a pytorch file\n",
        "torch.save(torch.LongTensor(tokenized_train_samples), 'tokenized-train-samples_vocab-10k.pt')"
      ],
      "metadata": {
        "colab": {
          "base_uri": "https://localhost:8080/",
          "height": 48
        },
        "id": "2qzY16C6VCYn",
        "outputId": "6e29604b-c256-454d-eb72-82745f263506"
      },
      "execution_count": null,
      "outputs": [
        {
          "output_type": "display_data",
          "data": {
            "text/plain": [
              "<IPython.core.display.HTML object>"
            ],
            "text/html": [
              "<style>\n",
              "    body {\n",
              "      font-size: 24px;\n",
              "    }\n",
              "  "
            ]
          },
          "metadata": {}
        },
        {
          "output_type": "stream",
          "name": "stderr",
          "text": [
            "Tokenizing Train Set: 100%|████████████████████████████████████████████████| 2119719/2119719 [25:33<00:00, 1382.41it/s]\n"
          ]
        }
      ]
    },
    {
      "cell_type": "code",
      "source": [
        "# Tokenization {validation}\n",
        "tokenized_valid_samples = []\n",
        "for item in tqdm(dataset[\"validation\"], desc=\"Tokenizing Validation Set\"):\n",
        "    input_ids = tokenizer.encode(item[\"text\"]).ids\n",
        "    tokenized_valid_samples += input_ids\n",
        "\n",
        "# Save tokens as a pytorch file\n",
        "torch.save(torch.tensor(tokenized_valid_samples), 'tokenized-valid-samples_vocab-10k.pt')"
      ],
      "metadata": {
        "colab": {
          "base_uri": "https://localhost:8080/",
          "height": 48
        },
        "id": "OzPFq6iMVGaI",
        "outputId": "95733030-0b60-4c74-f19f-46307ababc9b"
      },
      "execution_count": null,
      "outputs": [
        {
          "output_type": "display_data",
          "data": {
            "text/plain": [
              "<IPython.core.display.HTML object>"
            ],
            "text/html": [
              "<style>\n",
              "    body {\n",
              "      font-size: 24px;\n",
              "    }\n",
              "  "
            ]
          },
          "metadata": {}
        },
        {
          "output_type": "stream",
          "name": "stderr",
          "text": [
            "Tokenizing Validation Set: 100%|███████████████████████████████████████████████| 21990/21990 [00:15<00:00, 1413.81it/s]\n"
          ]
        }
      ]
    },
    {
      "cell_type": "markdown",
      "source": [
        "# 🔴 **Custom Dataset**"
      ],
      "metadata": {
        "id": "_mXYzTAczuJB"
      }
    },
    {
      "cell_type": "code",
      "source": [
        "# Load tokens from pytorch file\n",
        "tokenized_train_samples = torch.load('tokenized-train-samples_vocab-10k.pt')\n",
        "tokenized_valid_samples = torch.load('tokenized-valid-samples_vocab-10k.pt')\n",
        "tokenized_train_samples.shape, tokenized_valid_samples.shape"
      ],
      "metadata": {
        "colab": {
          "base_uri": "https://localhost:8080/",
          "height": 48
        },
        "id": "mt0K3-98pJU3",
        "outputId": "c34f803c-497a-4807-e236-f25d6fd7d9a7"
      },
      "execution_count": null,
      "outputs": [
        {
          "output_type": "display_data",
          "data": {
            "text/plain": [
              "<IPython.core.display.HTML object>"
            ],
            "text/html": [
              "<style>\n",
              "    body {\n",
              "      font-size: 24px;\n",
              "    }\n",
              "  "
            ]
          },
          "metadata": {}
        },
        {
          "output_type": "execute_result",
          "data": {
            "text/plain": [
              "(torch.Size([464965814]), torch.Size([4673588]))"
            ]
          },
          "metadata": {},
          "execution_count": 8
        }
      ]
    },
    {
      "cell_type": "markdown",
      "source": [
        "## 🟠 `TensorDataset()`"
      ],
      "metadata": {
        "id": "DM9ucaIg2szB"
      }
    },
    {
      "cell_type": "code",
      "source": [
        "seq_len = 128  # Desired sequence length for each row\n",
        "tokenized_train_samples = prepare_data(tokenized_train_samples, seq_len)\n",
        "tokenized_train_samples.shape"
      ],
      "metadata": {
        "colab": {
          "base_uri": "https://localhost:8080/",
          "height": 48
        },
        "id": "PASh9nyJpJpG",
        "outputId": "559f918a-a15b-48ba-92b4-941e9ddfcf5d"
      },
      "execution_count": null,
      "outputs": [
        {
          "output_type": "display_data",
          "data": {
            "text/plain": [
              "<IPython.core.display.HTML object>"
            ],
            "text/html": [
              "<style>\n",
              "    body {\n",
              "      font-size: 24px;\n",
              "    }\n",
              "  "
            ]
          },
          "metadata": {}
        },
        {
          "output_type": "execute_result",
          "data": {
            "text/plain": [
              "torch.Size([3632545, 128])"
            ]
          },
          "metadata": {},
          "execution_count": 9
        }
      ]
    },
    {
      "cell_type": "code",
      "source": [
        "train_set = TensorDataset(tokenized_train_samples[:, :-1], tokenized_train_samples[:, 1:])\n",
        "train_set[3_600_000]"
      ],
      "metadata": {
        "colab": {
          "base_uri": "https://localhost:8080/",
          "height": 694
        },
        "collapsed": true,
        "id": "TP3_6gVvuUtq",
        "outputId": "c26dc4e0-dcd1-43ff-9369-3aaf92dac153"
      },
      "execution_count": null,
      "outputs": [
        {
          "output_type": "display_data",
          "data": {
            "text/plain": [
              "<IPython.core.display.HTML object>"
            ],
            "text/html": [
              "<style>\n",
              "    body {\n",
              "      font-size: 24px;\n",
              "    }\n",
              "  "
            ]
          },
          "metadata": {}
        },
        {
          "output_type": "execute_result",
          "data": {
            "text/plain": [
              "(tensor([ 159, 1036, 1329,   15,  195, 4390,  865,  155,  851,  161,  295,   13,\n",
              "          212,  159, 6765,  243,  159, 1455,   13,  178,  155, 2168, 4390,   15,\n",
              "          304,  132,  269, 1036,  178,  527,  161,  340,  162,  618,  452,   13,\n",
              "          306,  159, 4390, 1829,  248,  963,  161,  394,   15,  211,  634,  159,\n",
              "         1036,  253,  200,  178,  670,  155,  302, 4390,  406,    2,  195, 1036,\n",
              "          394,  161,  894,   15,  304,  132,  269,  802,  375, 2208,  159,  252,\n",
              "          501,  161, 1830,  159, 1455,   15,  854,  200,  178,  292,  162,  332,\n",
              "           13,  159, 1036,  894,  212, 5388,  238,  159, 4390,   15,  305,  178,\n",
              "          155, 1360,  252,  161,  258,  792,  599,  258,  426,  650, 1765,  159,\n",
              "          917,  258, 1550,   15,    1, 1283,  161,  248,  261,  364,  162,  159,\n",
              "         2124,   15,  211,  309,  686,  782,   15], dtype=torch.int32),\n",
              " tensor([1036, 1329,   15,  195, 4390,  865,  155,  851,  161,  295,   13,  212,\n",
              "          159, 6765,  243,  159, 1455,   13,  178,  155, 2168, 4390,   15,  304,\n",
              "          132,  269, 1036,  178,  527,  161,  340,  162,  618,  452,   13,  306,\n",
              "          159, 4390, 1829,  248,  963,  161,  394,   15,  211,  634,  159, 1036,\n",
              "          253,  200,  178,  670,  155,  302, 4390,  406,    2,  195, 1036,  394,\n",
              "          161,  894,   15,  304,  132,  269,  802,  375, 2208,  159,  252,  501,\n",
              "          161, 1830,  159, 1455,   15,  854,  200,  178,  292,  162,  332,   13,\n",
              "          159, 1036,  894,  212, 5388,  238,  159, 4390,   15,  305,  178,  155,\n",
              "         1360,  252,  161,  258,  792,  599,  258,  426,  650, 1765,  159,  917,\n",
              "          258, 1550,   15,    1, 1283,  161,  248,  261,  364,  162,  159, 2124,\n",
              "           15,  211,  309,  686,  782,   15,  211], dtype=torch.int32))"
            ]
          },
          "metadata": {},
          "execution_count": 23
        }
      ]
    },
    {
      "cell_type": "code",
      "source": [
        "# train_set = TensorDataset(tokenized_train_samples)\n",
        "# train_set[0]"
      ],
      "metadata": {
        "colab": {
          "base_uri": "https://localhost:8080/",
          "height": 17
        },
        "id": "Uv8740zixTRF",
        "outputId": "3582c0ea-3789-479d-a19f-be02dac41745"
      },
      "execution_count": null,
      "outputs": [
        {
          "output_type": "display_data",
          "data": {
            "text/plain": [
              "<IPython.core.display.HTML object>"
            ],
            "text/html": [
              "<style>\n",
              "    body {\n",
              "      font-size: 24px;\n",
              "    }\n",
              "  "
            ]
          },
          "metadata": {}
        }
      ]
    },
    {
      "cell_type": "code",
      "source": [
        "train_iter = iter(train_set)"
      ],
      "metadata": {
        "colab": {
          "base_uri": "https://localhost:8080/",
          "height": 17
        },
        "id": "S0cPnevMxqk-",
        "outputId": "fed134bf-c9db-4049-e15a-b4cc4bc0d320"
      },
      "execution_count": null,
      "outputs": [
        {
          "output_type": "display_data",
          "data": {
            "text/plain": [
              "<IPython.core.display.HTML object>"
            ],
            "text/html": [
              "<style>\n",
              "    body {\n",
              "      font-size: 24px;\n",
              "    }\n",
              "  "
            ]
          },
          "metadata": {}
        }
      ]
    },
    {
      "cell_type": "code",
      "source": [
        "%timeit next(train_iter)"
      ],
      "metadata": {
        "colab": {
          "base_uri": "https://localhost:8080/",
          "height": 48
        },
        "id": "6b6WYnRpxtlb",
        "outputId": "b5ab94e4-5f8d-4cbd-97d7-554b61f27ab1"
      },
      "execution_count": null,
      "outputs": [
        {
          "output_type": "display_data",
          "data": {
            "text/plain": [
              "<IPython.core.display.HTML object>"
            ],
            "text/html": [
              "<style>\n",
              "    body {\n",
              "      font-size: 24px;\n",
              "    }\n",
              "  "
            ]
          },
          "metadata": {}
        },
        {
          "output_type": "stream",
          "name": "stdout",
          "text": [
            "6.63 µs ± 241 ns per loop (mean ± std. dev. of 7 runs, 100,000 loops each)\n"
          ]
        }
      ]
    },
    {
      "cell_type": "markdown",
      "source": [
        "## 🟠 Custom Class"
      ],
      "metadata": {
        "id": "RWF5Sw6i2yRe"
      }
    },
    {
      "cell_type": "code",
      "source": [
        "class TinyStoriesDataset(Dataset):\n",
        "\n",
        "    def __init__(self, data, seq_len):\n",
        "        self.seq_len = seq_len\n",
        "        self.data = prepare_data(data, seq_len+1)\n",
        "\n",
        "    def __len__(self):\n",
        "        return self.data.shape[0]\n",
        "\n",
        "    def __getitem__(self, idx):\n",
        "        sample = self.data[idx]\n",
        "        return sample[:-1], sample[1:]"
      ],
      "metadata": {
        "colab": {
          "base_uri": "https://localhost:8080/",
          "height": 17
        },
        "id": "pQpfnucNyDZZ",
        "outputId": "ae91bf6e-1bbf-4124-c6f7-8ad2f4819ea4"
      },
      "execution_count": null,
      "outputs": [
        {
          "output_type": "display_data",
          "data": {
            "text/plain": [
              "<IPython.core.display.HTML object>"
            ],
            "text/html": [
              "<style>\n",
              "    body {\n",
              "      font-size: 24px;\n",
              "    }\n",
              "  "
            ]
          },
          "metadata": {}
        }
      ]
    },
    {
      "cell_type": "code",
      "source": [
        "train_set = TinyStoriesDataset(tokenized_train_samples, 128)\n",
        "train_set.data.shape, len(train_set), train_set[0]"
      ],
      "metadata": {
        "colab": {
          "base_uri": "https://localhost:8080/",
          "height": 755
        },
        "collapsed": true,
        "id": "82EkmhVpy0od",
        "outputId": "6bf1fc9e-6fc8-409d-e004-1f06b422cb8c"
      },
      "execution_count": null,
      "outputs": [
        {
          "output_type": "display_data",
          "data": {
            "text/plain": [
              "<IPython.core.display.HTML object>"
            ],
            "text/html": [
              "<style>\n",
              "    body {\n",
              "      font-size: 24px;\n",
              "    }\n",
              "  "
            ]
          },
          "metadata": {}
        },
        {
          "output_type": "execute_result",
          "data": {
            "text/plain": [
              "(torch.Size([3604352, 129]),\n",
              " 3604352,\n",
              " (tensor([   1,  316,  252,   13,  155,  293,  342,  396,  260,  491,  155, 3628,\n",
              "           212,  205,  654,   15,  209,  599,  200,  178, 2858,  162,  255,  238,\n",
              "           200,  683,  200,  178, 2012,   15,  260,  340,  162,  844,  159, 3628,\n",
              "           238,  205,  261,   13,  246,  234,  356, 5090,  155, 2120,  241,  205,\n",
              "          2392,   15,  132,  132,  239,  364,  162,  205,  261,  161,  223,   13,\n",
              "           225,  666,   13,  231,  491,  636, 3628,   15, 1176,  242,  844,  200,\n",
              "           238,  414,  161, 5090,  547, 2392,  373,  761,  261,  394,  161,  223,\n",
              "            13,  225,  727,   13,  260,   13,  259,  367,  844,  159, 3628,  161,\n",
              "          1200,  522, 2392,  311,  132,  132, 4517,   13,  258, 1550,  159, 3628,\n",
              "           161, 7822,  159, 2120,  241,  260,  267, 2392,   15,  305,  178,  281,\n",
              "          2858,  262,  344,  683,  258,  325, 2394,  161], dtype=torch.int32),\n",
              "  tensor([ 316,  252,   13,  155,  293,  342,  396,  260,  491,  155, 3628,  212,\n",
              "           205,  654,   15,  209,  599,  200,  178, 2858,  162,  255,  238,  200,\n",
              "           683,  200,  178, 2012,   15,  260,  340,  162,  844,  159, 3628,  238,\n",
              "           205,  261,   13,  246,  234,  356, 5090,  155, 2120,  241,  205, 2392,\n",
              "            15,  132,  132,  239,  364,  162,  205,  261,  161,  223,   13,  225,\n",
              "           666,   13,  231,  491,  636, 3628,   15, 1176,  242,  844,  200,  238,\n",
              "           414,  161, 5090,  547, 2392,  373,  761,  261,  394,  161,  223,   13,\n",
              "           225,  727,   13,  260,   13,  259,  367,  844,  159, 3628,  161, 1200,\n",
              "           522, 2392,  311,  132,  132, 4517,   13,  258, 1550,  159, 3628,  161,\n",
              "          7822,  159, 2120,  241,  260,  267, 2392,   15,  305,  178,  281, 2858,\n",
              "           262,  344,  683,  258,  325, 2394,  161, 1656], dtype=torch.int32)))"
            ]
          },
          "metadata": {},
          "execution_count": 43
        }
      ]
    },
    {
      "cell_type": "code",
      "source": [
        "x, y = train_set[0]\n",
        "x.shape, y.shape"
      ],
      "metadata": {
        "colab": {
          "base_uri": "https://localhost:8080/",
          "height": 48
        },
        "id": "VKg1Xfhv0Dwo",
        "outputId": "8f4856b7-7623-4d2b-d815-6dfc0629151e"
      },
      "execution_count": null,
      "outputs": [
        {
          "output_type": "display_data",
          "data": {
            "text/plain": [
              "<IPython.core.display.HTML object>"
            ],
            "text/html": [
              "<style>\n",
              "    body {\n",
              "      font-size: 24px;\n",
              "    }\n",
              "  "
            ]
          },
          "metadata": {}
        },
        {
          "output_type": "execute_result",
          "data": {
            "text/plain": [
              "(torch.Size([128]), torch.Size([128]))"
            ]
          },
          "metadata": {},
          "execution_count": 44
        }
      ]
    },
    {
      "cell_type": "code",
      "source": [
        "train_iter = iter(train_set)"
      ],
      "metadata": {
        "colab": {
          "base_uri": "https://localhost:8080/",
          "height": 17
        },
        "outputId": "20b3434a-04a5-4150-a990-dddbecc5fdf9",
        "id": "q8MoQvuuz5Wf"
      },
      "execution_count": null,
      "outputs": [
        {
          "output_type": "display_data",
          "data": {
            "text/plain": [
              "<IPython.core.display.HTML object>"
            ],
            "text/html": [
              "<style>\n",
              "    body {\n",
              "      font-size: 24px;\n",
              "    }\n",
              "  "
            ]
          },
          "metadata": {}
        }
      ]
    },
    {
      "cell_type": "code",
      "source": [
        "%timeit next(train_iter)"
      ],
      "metadata": {
        "colab": {
          "base_uri": "https://localhost:8080/",
          "height": 48
        },
        "outputId": "6db2c7ad-dc77-4544-f4b0-6e09550ba4ea",
        "id": "WvZAIZtez5Wf"
      },
      "execution_count": null,
      "outputs": [
        {
          "output_type": "display_data",
          "data": {
            "text/plain": [
              "<IPython.core.display.HTML object>"
            ],
            "text/html": [
              "<style>\n",
              "    body {\n",
              "      font-size: 24px;\n",
              "    }\n",
              "  "
            ]
          },
          "metadata": {}
        },
        {
          "output_type": "stream",
          "name": "stdout",
          "text": [
            "9.7 µs ± 312 ns per loop (mean ± std. dev. of 7 runs, 100,000 loops each)\n"
          ]
        }
      ]
    },
    {
      "cell_type": "markdown",
      "metadata": {
        "id": "G2jtmT1qfhgI"
      },
      "source": [
        "# 🔴 **Dataloader**"
      ]
    },
    {
      "cell_type": "code",
      "source": [
        "tokenized_train_samples = torch.load('tokenized-train-samples_vocab-10k.pt')\n",
        "tokenized_valid_samples = torch.load('tokenized-valid-samples_vocab-10k.pt')\n",
        "\n",
        "train_set = TinyStoriesDataset(tokenized_train_samples, seq_len=128)\n",
        "valid_set = TinyStoriesDataset(tokenized_valid_samples, seq_len=128)"
      ],
      "metadata": {
        "colab": {
          "base_uri": "https://localhost:8080/",
          "height": 17
        },
        "id": "YL6hjLrc2850",
        "outputId": "8f8757c1-45f6-46d5-e574-a12e8845407e"
      },
      "execution_count": null,
      "outputs": [
        {
          "output_type": "display_data",
          "data": {
            "text/plain": [
              "<IPython.core.display.HTML object>"
            ],
            "text/html": [
              "<style>\n",
              "    body {\n",
              "      font-size: 24px;\n",
              "    }\n",
              "  "
            ]
          },
          "metadata": {}
        }
      ]
    },
    {
      "cell_type": "code",
      "source": [
        "train_loader = DataLoader(train_set, batch_size=32, shuffle=True, pin_memory=True)#, num_workers=4)\n",
        "valid_loader = DataLoader(valid_set, batch_size=32, shuffle=False, pin_memory=True)#, num_workers=4)"
      ],
      "metadata": {
        "colab": {
          "base_uri": "https://localhost:8080/",
          "height": 17
        },
        "id": "u9Pu5F3U3kZ3",
        "outputId": "8ba6a991-608a-4092-9408-dfac5716fe37"
      },
      "execution_count": null,
      "outputs": [
        {
          "output_type": "display_data",
          "data": {
            "text/plain": [
              "<IPython.core.display.HTML object>"
            ],
            "text/html": [
              "<style>\n",
              "    body {\n",
              "      font-size: 24px;\n",
              "    }\n",
              "  "
            ]
          },
          "metadata": {}
        }
      ]
    },
    {
      "cell_type": "code",
      "source": [
        "x_batch, y_batch = next(iter(train_loader))\n",
        "x_batch.shape, y_batch.shape"
      ],
      "metadata": {
        "colab": {
          "base_uri": "https://localhost:8080/",
          "height": 48
        },
        "id": "CkZDs1Wi4Wpi",
        "outputId": "24e05add-3018-419e-bfeb-d24726f65804"
      },
      "execution_count": null,
      "outputs": [
        {
          "output_type": "display_data",
          "data": {
            "text/plain": [
              "<IPython.core.display.HTML object>"
            ],
            "text/html": [
              "<style>\n",
              "    body {\n",
              "      font-size: 24px;\n",
              "    }\n",
              "  "
            ]
          },
          "metadata": {}
        },
        {
          "output_type": "execute_result",
          "data": {
            "text/plain": [
              "(torch.Size([32, 128]), torch.Size([32, 128]))"
            ]
          },
          "metadata": {},
          "execution_count": 63
        }
      ]
    },
    {
      "cell_type": "code",
      "source": [
        "for x_batch, y_batch in train_loader:\n",
        "    print(x_batch.shape, y_batch.shape)\n",
        "    break"
      ],
      "metadata": {
        "colab": {
          "base_uri": "https://localhost:8080/",
          "height": 48
        },
        "id": "t2ZsZSdG4rF-",
        "outputId": "ad7ce845-5058-48b9-f88b-106967b0fda1"
      },
      "execution_count": null,
      "outputs": [
        {
          "output_type": "display_data",
          "data": {
            "text/plain": [
              "<IPython.core.display.HTML object>"
            ],
            "text/html": [
              "<style>\n",
              "    body {\n",
              "      font-size: 24px;\n",
              "    }\n",
              "  "
            ]
          },
          "metadata": {}
        },
        {
          "output_type": "stream",
          "name": "stdout",
          "text": [
            "torch.Size([32, 128]) torch.Size([32, 128])\n"
          ]
        }
      ]
    },
    {
      "cell_type": "code",
      "source": [
        "len(train_loader), len(valid_loader)"
      ],
      "metadata": {
        "colab": {
          "base_uri": "https://localhost:8080/",
          "height": 48
        },
        "id": "EpvkEgV14xJ0",
        "outputId": "b85d7ce5-84f5-4805-8381-ab4835bba7d8"
      },
      "execution_count": null,
      "outputs": [
        {
          "output_type": "display_data",
          "data": {
            "text/plain": [
              "<IPython.core.display.HTML object>"
            ],
            "text/html": [
              "<style>\n",
              "    body {\n",
              "      font-size: 24px;\n",
              "    }\n",
              "  "
            ]
          },
          "metadata": {}
        },
        {
          "output_type": "execute_result",
          "data": {
            "text/plain": [
              "(112638, 1133)"
            ]
          },
          "metadata": {},
          "execution_count": 65
        }
      ]
    },
    {
      "cell_type": "code",
      "source": [
        "len(train_loader) / (20*60)"
      ],
      "metadata": {
        "colab": {
          "base_uri": "https://localhost:8080/",
          "height": 48
        },
        "id": "xHeT5e_845oF",
        "outputId": "3d548066-bd60-40cb-d6a2-15059585046d"
      },
      "execution_count": null,
      "outputs": [
        {
          "output_type": "display_data",
          "data": {
            "text/plain": [
              "<IPython.core.display.HTML object>"
            ],
            "text/html": [
              "<style>\n",
              "    body {\n",
              "      font-size: 24px;\n",
              "    }\n",
              "  "
            ]
          },
          "metadata": {}
        },
        {
          "output_type": "execute_result",
          "data": {
            "text/plain": [
              "93.865"
            ]
          },
          "metadata": {},
          "execution_count": 66
        }
      ]
    },
    {
      "cell_type": "code",
      "source": [
        "train_iter = iter(train_loader)"
      ],
      "metadata": {
        "colab": {
          "base_uri": "https://localhost:8080/",
          "height": 17
        },
        "id": "jI5VqS6d5LGP",
        "outputId": "db1b4d31-7704-4602-8cad-cfef84267cc4"
      },
      "execution_count": null,
      "outputs": [
        {
          "output_type": "display_data",
          "data": {
            "text/plain": [
              "<IPython.core.display.HTML object>"
            ],
            "text/html": [
              "<style>\n",
              "    body {\n",
              "      font-size: 24px;\n",
              "    }\n",
              "  "
            ]
          },
          "metadata": {}
        }
      ]
    },
    {
      "cell_type": "code",
      "source": [
        "%timeit next(train_iter)"
      ],
      "metadata": {
        "colab": {
          "base_uri": "https://localhost:8080/",
          "height": 48
        },
        "id": "p_4OsfX95U7f",
        "outputId": "bdc8901b-ac65-4dfa-f37b-7f9af44da927"
      },
      "execution_count": null,
      "outputs": [
        {
          "output_type": "display_data",
          "data": {
            "text/plain": [
              "<IPython.core.display.HTML object>"
            ],
            "text/html": [
              "<style>\n",
              "    body {\n",
              "      font-size: 24px;\n",
              "    }\n",
              "  "
            ]
          },
          "metadata": {}
        },
        {
          "output_type": "stream",
          "name": "stdout",
          "text": [
            "465 µs ± 18.7 µs per loop (mean ± std. dev. of 7 runs, 1 loop each)\n"
          ]
        }
      ]
    },
    {
      "cell_type": "markdown",
      "source": [
        "# 🔴 **Alternative Versions!**"
      ],
      "metadata": {
        "id": "6UV5TL_6-_eI"
      }
    },
    {
      "cell_type": "markdown",
      "source": [
        "## 🟠 Iterable Dataset"
      ],
      "metadata": {
        "id": "pLsIQMauT4pr"
      }
    },
    {
      "cell_type": "code",
      "source": [
        "def simple_generator():\n",
        "    yield 1\n",
        "    yield 2\n",
        "    yield 3\n",
        "\n",
        "for g in simple_generator():\n",
        "    print(g)\n"
      ],
      "metadata": {
        "colab": {
          "base_uri": "https://localhost:8080/",
          "height": 109
        },
        "id": "utc2OvuSBOL4",
        "outputId": "4b42fc47-92bb-41de-d47c-db2aeda54745"
      },
      "execution_count": null,
      "outputs": [
        {
          "output_type": "display_data",
          "data": {
            "text/plain": [
              "<IPython.core.display.HTML object>"
            ],
            "text/html": [
              "<style>\n",
              "    body {\n",
              "      font-size: 24px;\n",
              "    }\n",
              "  "
            ]
          },
          "metadata": {}
        },
        {
          "output_type": "stream",
          "name": "stdout",
          "text": [
            "1\n",
            "2\n",
            "3\n"
          ]
        }
      ]
    },
    {
      "cell_type": "code",
      "source": [
        "class TinyStoriesDataset(IterableDataset):\n",
        "\n",
        "    def __init__(self, text_samples, tokenizer, group_size=10, seq_len=256):\n",
        "        \"\"\"\n",
        "        Args:\n",
        "            text_samples (List[str]): List of raw text strings (e.g., stories).\n",
        "            tokenizer (Tokenizer): A HuggingFace-style tokenizer with .encode().ids support.\n",
        "            group_size (int): Number of text samples to concatenate per chunk before tokenization.\n",
        "            seq_len (int): Target length of each token sequence for training.\n",
        "        \"\"\"\n",
        "        self.text_samples = text_samples\n",
        "        self.tokenizer = tokenizer\n",
        "        self.seq_len = seq_len\n",
        "        self.group_size = group_size\n",
        "\n",
        "    def __iter__(self):\n",
        "        buffer = []\n",
        "\n",
        "        # Iterate through the dataset in chunks of `group_size`\n",
        "        for i in range(0, len(self.text_samples), self.group_size):\n",
        "            # Join multiple stories with a special token and tokenize the batch\n",
        "            sample = ' <|endoftext|> '.join(self.text_samples[i:i + self.group_size]) + ' <|endoftext|>'\n",
        "            tokens = self.tokenizer.encode(sample).ids\n",
        "            buffer += tokens\n",
        "\n",
        "            # Yield token chunks of size seq_len + 1 for input-target training pairs\n",
        "            yield from (\n",
        "                torch.from_numpy(np.array(buffer[j:j + self.seq_len+1], dtype=np.int64))\n",
        "                for j in range(0, len(buffer) - self.seq_len, self.seq_len)\n",
        "            )\n",
        "\n",
        "            # Keep leftover tokens that didn't form a full chunk\n",
        "            buffer = buffer[(len(buffer) // self.seq_len) * self.seq_len:]\n"
      ],
      "metadata": {
        "colab": {
          "base_uri": "https://localhost:8080/",
          "height": 17
        },
        "id": "xqqBMjGnz1IL",
        "outputId": "87843e06-0af6-4bd7-bbed-e256bc180c46"
      },
      "execution_count": null,
      "outputs": [
        {
          "output_type": "display_data",
          "data": {
            "text/plain": [
              "<IPython.core.display.HTML object>"
            ],
            "text/html": [
              "<style>\n",
              "    body {\n",
              "      font-size: 24px;\n",
              "    }\n",
              "  "
            ]
          },
          "metadata": {}
        }
      ]
    },
    {
      "cell_type": "code",
      "source": [
        "tokenizer = Tokenizer.from_file(\"bpe-tokenizer_tinystories.json\")\n",
        "dataset = load_dataset(\"roneneldan/TinyStories\")\n",
        "\n",
        "train_set = TinyStoriesDataset(dataset[\"train\"][\"text\"], tokenizer, group_size=10, seq_len=128)\n",
        "test_set = TinyStoriesDataset(dataset[\"validation\"][\"text\"], tokenizer, group_size=10, seq_len=128)"
      ],
      "metadata": {
        "colab": {
          "base_uri": "https://localhost:8080/",
          "height": 17
        },
        "id": "FZzQEfjH8mO5",
        "outputId": "2d8ab0de-1bd4-49ea-d1cd-8613975c72b6"
      },
      "execution_count": null,
      "outputs": [
        {
          "output_type": "display_data",
          "data": {
            "text/plain": [
              "<IPython.core.display.HTML object>"
            ],
            "text/html": [
              "<style>\n",
              "    body {\n",
              "      font-size: 24px;\n",
              "    }\n",
              "  "
            ]
          },
          "metadata": {}
        }
      ]
    },
    {
      "cell_type": "code",
      "source": [
        "next(iter(train_set)).shape"
      ],
      "metadata": {
        "colab": {
          "base_uri": "https://localhost:8080/",
          "height": 48
        },
        "id": "t203fI49CEtn",
        "outputId": "c7ca5ef0-6a77-491a-b335-20b7dea8c01d"
      },
      "execution_count": null,
      "outputs": [
        {
          "output_type": "display_data",
          "data": {
            "text/plain": [
              "<IPython.core.display.HTML object>"
            ],
            "text/html": [
              "<style>\n",
              "    body {\n",
              "      font-size: 24px;\n",
              "    }\n",
              "  "
            ]
          },
          "metadata": {}
        },
        {
          "output_type": "execute_result",
          "data": {
            "text/plain": [
              "torch.Size([129])"
            ]
          },
          "metadata": {},
          "execution_count": 85
        }
      ]
    },
    {
      "cell_type": "code",
      "source": [
        "train_iter = iter(train_set)"
      ],
      "metadata": {
        "colab": {
          "base_uri": "https://localhost:8080/",
          "height": 17
        },
        "id": "WLHskCBZ9HZI",
        "outputId": "fe6c556d-35cb-4616-a3dc-e7caac1cb9b3"
      },
      "execution_count": null,
      "outputs": [
        {
          "output_type": "display_data",
          "data": {
            "text/plain": [
              "<IPython.core.display.HTML object>"
            ],
            "text/html": [
              "<style>\n",
              "    body {\n",
              "      font-size: 24px;\n",
              "    }\n",
              "  "
            ]
          },
          "metadata": {}
        }
      ]
    },
    {
      "cell_type": "code",
      "source": [
        "%timeit next(train_iter)"
      ],
      "metadata": {
        "colab": {
          "base_uri": "https://localhost:8080/",
          "height": 48
        },
        "id": "emDFDToQ9IFH",
        "outputId": "380f65e7-f69d-4baa-a77f-b3fd71d42676"
      },
      "execution_count": null,
      "outputs": [
        {
          "output_type": "display_data",
          "data": {
            "text/plain": [
              "<IPython.core.display.HTML object>"
            ],
            "text/html": [
              "<style>\n",
              "    body {\n",
              "      font-size: 24px;\n",
              "    }\n",
              "  "
            ]
          },
          "metadata": {}
        },
        {
          "output_type": "stream",
          "name": "stdout",
          "text": [
            "445 µs ± 45.9 µs per loop (mean ± std. dev. of 7 runs, 1,000 loops each)\n"
          ]
        }
      ]
    },
    {
      "cell_type": "code",
      "source": [
        "train_loader = DataLoader(train_set, batch_size=32, pin_memory=True)\n",
        "valid_loader = DataLoader(valid_set, batch_size=32, pin_memory=True)"
      ],
      "metadata": {
        "colab": {
          "base_uri": "https://localhost:8080/",
          "height": 17
        },
        "id": "BVevVbLh9eSs",
        "outputId": "b48fa04b-03c6-46fa-df16-a13b0bf85171"
      },
      "execution_count": null,
      "outputs": [
        {
          "output_type": "display_data",
          "data": {
            "text/plain": [
              "<IPython.core.display.HTML object>"
            ],
            "text/html": [
              "<style>\n",
              "    body {\n",
              "      font-size: 24px;\n",
              "    }\n",
              "  "
            ]
          },
          "metadata": {}
        }
      ]
    },
    {
      "cell_type": "code",
      "source": [
        "train_iter = iter(train_loader)"
      ],
      "metadata": {
        "colab": {
          "base_uri": "https://localhost:8080/",
          "height": 17
        },
        "id": "4kZkZn-Z9mC0",
        "outputId": "fcbaa396-1fa0-4f2d-ce7d-a4ec91ae7993"
      },
      "execution_count": null,
      "outputs": [
        {
          "output_type": "display_data",
          "data": {
            "text/plain": [
              "<IPython.core.display.HTML object>"
            ],
            "text/html": [
              "<style>\n",
              "    body {\n",
              "      font-size: 24px;\n",
              "    }\n",
              "  "
            ]
          },
          "metadata": {}
        }
      ]
    },
    {
      "cell_type": "code",
      "source": [
        "%timeit next(train_iter)"
      ],
      "metadata": {
        "colab": {
          "base_uri": "https://localhost:8080/",
          "height": 48
        },
        "id": "Kht8WHF29ml9",
        "outputId": "9df509a6-2bc1-402b-d09e-d2734fa37d12"
      },
      "execution_count": null,
      "outputs": [
        {
          "output_type": "display_data",
          "data": {
            "text/plain": [
              "<IPython.core.display.HTML object>"
            ],
            "text/html": [
              "<style>\n",
              "    body {\n",
              "      font-size: 24px;\n",
              "    }\n",
              "  "
            ]
          },
          "metadata": {}
        },
        {
          "output_type": "stream",
          "name": "stdout",
          "text": [
            "13.5 ms ± 439 µs per loop (mean ± std. dev. of 7 runs, 100 loops each)\n"
          ]
        }
      ]
    },
    {
      "cell_type": "markdown",
      "source": [
        "## 🟠 Andrej Karpathy [🔗](https://github.com/karpathy/nano-llama31/blob/master/tiny_stories.py)"
      ],
      "metadata": {
        "id": "KFtYwwkgMFgZ"
      }
    },
    {
      "cell_type": "code",
      "source": [],
      "metadata": {
        "id": "uYk9r4UQMiw6"
      },
      "execution_count": null,
      "outputs": []
    }
  ]
}